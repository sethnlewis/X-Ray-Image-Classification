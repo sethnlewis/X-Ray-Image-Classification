{
  "nbformat": 4,
  "nbformat_minor": 5,
  "metadata": {
    "kernelspec": {
      "display_name": "Python 3",
      "language": "python",
      "name": "python3"
    },
    "language_info": {
      "codemirror_mode": {
        "name": "ipython",
        "version": 3
      },
      "file_extension": ".py",
      "mimetype": "text/x-python",
      "name": "python",
      "nbconvert_exporter": "python",
      "pygments_lexer": "ipython3",
      "version": "3.8.3"
    },
    "colab": {
      "name": "EDA.ipynb",
      "provenance": []
    },
    "accelerator": "GPU"
  },
  "cells": [
    {
      "cell_type": "markdown",
      "metadata": {
        "id": "732a0b61"
      },
      "source": [
        "### Imports & declarations"
      ],
      "id": "732a0b61"
    },
    {
      "cell_type": "code",
      "metadata": {
        "colab": {
          "base_uri": "https://localhost:8080/"
        },
        "id": "9f066efb",
        "outputId": "b66615b2-ba51-4217-bbaa-d9e2250ac9a4"
      },
      "source": [
        "import numpy as np\n",
        "import pandas as pd\n",
        "import matplotlib.pyplot as plt\n",
        "import time\n",
        "\n",
        "from sklearn.model_selection import train_test_split\n",
        "\n",
        "import keras\n",
        "from keras.preprocessing.image import img_to_array, load_img, array_to_img, ImageDataGenerator\n",
        "from keras import regularizers\n",
        "from keras.callbacks import EarlyStopping, ModelCheckpoint\n",
        "from keras.models import *\n",
        "from keras.layers import *\n",
        "\n",
        "LOCAL_PATH_MINI = '../data/raw/kaggle_mini_subsample'\n",
        "LOCAL_PATH_TRAIN = '../data/raw/train'\n",
        "COLAB_PATH_TRAIN = '/content/drive/MyDrive/Data Science/Colab Notebooks/Module 4 Project/data/raw/train'\n",
        "COLAB_PATH_MINI = '/content/drive/MyDrive/Data Science/Colab Notebooks/Module 4 Project/data/raw/mini_subsample'\n",
        "\n",
        "RANDOM_STATE = 2020\n",
        "\n",
        "# Comment when running locally, uncomment for Google Colab\n",
        "from google.colab import drive\n",
        "drive.mount('/content/drive')"
      ],
      "id": "9f066efb",
      "execution_count": 1,
      "outputs": [
        {
          "output_type": "stream",
          "text": [
            "Drive already mounted at /content/drive; to attempt to forcibly remount, call drive.mount(\"/content/drive\", force_remount=True).\n"
          ],
          "name": "stdout"
        }
      ]
    },
    {
      "cell_type": "markdown",
      "metadata": {
        "id": "d1598963"
      },
      "source": [
        "### Mini dataset"
      ],
      "id": "d1598963"
    },
    {
      "cell_type": "code",
      "metadata": {
        "colab": {
          "base_uri": "https://localhost:8080/",
          "height": 177
        },
        "id": "54e67a51",
        "outputId": "f0aa91a9-e8e6-4df1-eb19-ec81f8bf3c28"
      },
      "source": [
        "BATCH_SIZE = 250\n",
        "TARGET_SIZE = [128, 128]\n",
        "\n",
        "path = COLAB_PATH_MINI\n",
        "image_generator = ImageDataGenerator().flow_from_directory(path, batch_size=BATCH_SIZE, target_size=TARGET_SIZE);\n",
        "images, labels = next(image_generator)\n",
        "images_scaled = images / 255\n",
        "\n",
        "display(array_to_img(images[0]))\n",
        "print(image_generator.class_indices)"
      ],
      "id": "54e67a51",
      "execution_count": 4,
      "outputs": [
        {
          "output_type": "stream",
          "text": [
            "Found 186 images belonging to 2 classes.\n"
          ],
          "name": "stdout"
        },
        {
          "output_type": "display_data",
          "data": {
            "image/png": "[encoded data removed]",
            "text/plain": [
              "<PIL.Image.Image image mode=RGB size=128x128 at 0x7FC30F957910>"
            ]
          },
          "metadata": {
            "tags": []
          }
        },
        {
          "output_type": "stream",
          "text": [
            "{'NORMAL': 0, 'PNEUMONIA': 1}\n"
          ],
          "name": "stdout"
        }
      ]
    },
    {
      "cell_type": "code",
      "metadata": {
        "colab": {
          "base_uri": "https://localhost:8080/"
        },
        "id": "c60ff3a5",
        "outputId": "6591c3a7-3494-44ca-e424-48f3a578bca0"
      },
      "source": [
        "images_scaled.shape"
      ],
      "id": "c60ff3a5",
      "execution_count": 5,
      "outputs": [
        {
          "output_type": "execute_result",
          "data": {
            "text/plain": [
              "(186, 128, 128, 3)"
            ]
          },
          "metadata": {
            "tags": []
          },
          "execution_count": 5
        }
      ]
    },
    {
      "cell_type": "code",
      "metadata": {
        "colab": {
          "base_uri": "https://localhost:8080/"
        },
        "id": "9d5ef4de",
        "outputId": "ddc7380e-c330-4d5c-d026-ba9bdb4d2978"
      },
      "source": [
        "x = images_scaled.reshape(images_scaled.shape[0],images_scaled.shape[1]*images_scaled.shape[2]*images_scaled.shape[3])\n",
        "\n",
        "SHAPE = (x.shape[1],)\n",
        "\n",
        "model = Sequential()\n",
        "model.add(Dense(64, activation='relu', input_shape = SHAPE))\n",
        "model.add(Dense(2, activation='softmax'))\n",
        "model.compile(optimizer='SGD', loss='categorical_crossentropy', metrics=['accuracy'])\n",
        "model.summary()"
      ],
      "id": "9d5ef4de",
      "execution_count": 6,
      "outputs": [
        {
          "output_type": "stream",
          "text": [
            "Model: \"sequential\"\n",
            "_________________________________________________________________\n",
            "Layer (type)                 Output Shape              Param #   \n",
            "=================================================================\n",
            "dense (Dense)                (None, 64)                3145792   \n",
            "_________________________________________________________________\n",
            "dense_1 (Dense)              (None, 2)                 130       \n",
            "=================================================================\n",
            "Total params: 3,145,922\n",
            "Trainable params: 3,145,922\n",
            "Non-trainable params: 0\n",
            "_________________________________________________________________\n"
          ],
          "name": "stdout"
        }
      ]
    },
    {
      "cell_type": "code",
      "metadata": {
        "collapsed": true,
        "jupyter": {
          "outputs_hidden": true
        },
        "tags": [],
        "colab": {
          "base_uri": "https://localhost:8080/"
        },
        "id": "efe66cd6",
        "outputId": "05d8afbf-c498-4b94-f643-f80afd0c11a9"
      },
      "source": [
        "history = model.fit(x=x, y=labels, epochs=50)"
      ],
      "id": "efe66cd6",
      "execution_count": 7,
      "outputs": [
        {
          "output_type": "stream",
          "text": [
            "Epoch 1/50\n",
            "6/6 [==============================] - 13s 6ms/step - loss: 2.7939 - accuracy: 0.4825\n",
            "Epoch 2/50\n",
            "6/6 [==============================] - 0s 5ms/step - loss: 0.6689 - accuracy: 0.5488\n",
            "Epoch 3/50\n",
            "6/6 [==============================] - 0s 5ms/step - loss: 0.6944 - accuracy: 0.5783\n",
            "Epoch 4/50\n",
            "6/6 [==============================] - 0s 5ms/step - loss: 0.6327 - accuracy: 0.6456\n",
            "Epoch 5/50\n",
            "6/6 [==============================] - 0s 5ms/step - loss: 0.5926 - accuracy: 0.6994\n",
            "Epoch 6/50\n",
            "6/6 [==============================] - 0s 5ms/step - loss: 0.5647 - accuracy: 0.7324\n",
            "Epoch 7/50\n",
            "6/6 [==============================] - 0s 5ms/step - loss: 0.6353 - accuracy: 0.6778\n",
            "Epoch 8/50\n",
            "6/6 [==============================] - 0s 5ms/step - loss: 0.6738 - accuracy: 0.4641\n",
            "Epoch 9/50\n",
            "6/6 [==============================] - 0s 5ms/step - loss: 0.6578 - accuracy: 0.6895\n",
            "Epoch 10/50\n",
            "6/6 [==============================] - 0s 5ms/step - loss: 0.6448 - accuracy: 0.6754\n",
            "Epoch 11/50\n",
            "6/6 [==============================] - 0s 6ms/step - loss: 0.5723 - accuracy: 0.6892\n",
            "Epoch 12/50\n",
            "6/6 [==============================] - 0s 5ms/step - loss: 0.6474 - accuracy: 0.6250\n",
            "Epoch 13/50\n",
            "6/6 [==============================] - 0s 6ms/step - loss: 0.4822 - accuracy: 0.8099\n",
            "Epoch 14/50\n",
            "6/6 [==============================] - 0s 5ms/step - loss: 0.6140 - accuracy: 0.6269\n",
            "Epoch 15/50\n",
            "6/6 [==============================] - 0s 5ms/step - loss: 0.3788 - accuracy: 0.8804\n",
            "Epoch 16/50\n",
            "6/6 [==============================] - 0s 5ms/step - loss: 0.5499 - accuracy: 0.7264\n",
            "Epoch 17/50\n",
            "6/6 [==============================] - 0s 5ms/step - loss: 0.5055 - accuracy: 0.7937\n",
            "Epoch 18/50\n",
            "6/6 [==============================] - 0s 5ms/step - loss: 0.5464 - accuracy: 0.7823\n",
            "Epoch 19/50\n",
            "6/6 [==============================] - 0s 5ms/step - loss: 0.3276 - accuracy: 0.8836\n",
            "Epoch 20/50\n",
            "6/6 [==============================] - 0s 5ms/step - loss: 0.3860 - accuracy: 0.8304\n",
            "Epoch 21/50\n",
            "6/6 [==============================] - 0s 5ms/step - loss: 0.4538 - accuracy: 0.7644\n",
            "Epoch 22/50\n",
            "6/6 [==============================] - 0s 5ms/step - loss: 0.3531 - accuracy: 0.8697\n",
            "Epoch 23/50\n",
            "6/6 [==============================] - 0s 5ms/step - loss: 0.2235 - accuracy: 0.9275\n",
            "Epoch 24/50\n",
            "6/6 [==============================] - 0s 6ms/step - loss: 0.5804 - accuracy: 0.7404\n",
            "Epoch 25/50\n",
            "6/6 [==============================] - 0s 5ms/step - loss: 0.3839 - accuracy: 0.8295\n",
            "Epoch 26/50\n",
            "6/6 [==============================] - 0s 5ms/step - loss: 0.4319 - accuracy: 0.8026\n",
            "Epoch 27/50\n",
            "6/6 [==============================] - 0s 5ms/step - loss: 0.2810 - accuracy: 0.9044\n",
            "Epoch 28/50\n",
            "6/6 [==============================] - 0s 5ms/step - loss: 0.6123 - accuracy: 0.7195\n",
            "Epoch 29/50\n",
            "6/6 [==============================] - 0s 5ms/step - loss: 0.2575 - accuracy: 0.8980\n",
            "Epoch 30/50\n",
            "6/6 [==============================] - 0s 5ms/step - loss: 0.4148 - accuracy: 0.8409\n",
            "Epoch 31/50\n",
            "6/6 [==============================] - 0s 5ms/step - loss: 0.3307 - accuracy: 0.8837\n",
            "Epoch 32/50\n",
            "6/6 [==============================] - 0s 5ms/step - loss: 0.4239 - accuracy: 0.8000\n",
            "Epoch 33/50\n",
            "6/6 [==============================] - 0s 5ms/step - loss: 0.2261 - accuracy: 0.9054\n",
            "Epoch 34/50\n",
            "6/6 [==============================] - 0s 5ms/step - loss: 0.1964 - accuracy: 0.9315\n",
            "Epoch 35/50\n",
            "6/6 [==============================] - 0s 7ms/step - loss: 0.9301 - accuracy: 0.4598\n",
            "Epoch 36/50\n",
            "6/6 [==============================] - 0s 5ms/step - loss: 0.4242 - accuracy: 0.6465\n",
            "Epoch 37/50\n",
            "6/6 [==============================] - 0s 5ms/step - loss: 0.3618 - accuracy: 0.9095\n",
            "Epoch 38/50\n",
            "6/6 [==============================] - 0s 6ms/step - loss: 0.2484 - accuracy: 0.9197\n",
            "Epoch 39/50\n",
            "6/6 [==============================] - 0s 5ms/step - loss: 0.7227 - accuracy: 0.6248\n",
            "Epoch 40/50\n",
            "6/6 [==============================] - 0s 5ms/step - loss: 0.3733 - accuracy: 0.8650\n",
            "Epoch 41/50\n",
            "6/6 [==============================] - 0s 5ms/step - loss: 0.1983 - accuracy: 0.9364\n",
            "Epoch 42/50\n",
            "6/6 [==============================] - 0s 5ms/step - loss: 0.2789 - accuracy: 0.8790\n",
            "Epoch 43/50\n",
            "6/6 [==============================] - 0s 5ms/step - loss: 0.6444 - accuracy: 0.7413\n",
            "Epoch 44/50\n",
            "6/6 [==============================] - 0s 5ms/step - loss: 0.3279 - accuracy: 0.9201\n",
            "Epoch 45/50\n",
            "6/6 [==============================] - 0s 5ms/step - loss: 0.1732 - accuracy: 0.9498\n",
            "Epoch 46/50\n",
            "6/6 [==============================] - 0s 5ms/step - loss: 0.3144 - accuracy: 0.8601\n",
            "Epoch 47/50\n",
            "6/6 [==============================] - 0s 5ms/step - loss: 0.1317 - accuracy: 0.9688\n",
            "Epoch 48/50\n",
            "6/6 [==============================] - 0s 6ms/step - loss: 0.1258 - accuracy: 0.9582\n",
            "Epoch 49/50\n",
            "6/6 [==============================] - 0s 5ms/step - loss: 0.1472 - accuracy: 0.9525\n",
            "Epoch 50/50\n",
            "6/6 [==============================] - 0s 5ms/step - loss: 0.3560 - accuracy: 0.8244\n"
          ],
          "name": "stdout"
        }
      ]
    },
    {
      "cell_type": "code",
      "metadata": {
        "colab": {
          "base_uri": "https://localhost:8080/",
          "height": 264
        },
        "id": "c5c7b171",
        "outputId": "2daaa142-f07d-4925-c134-b9a0f050ae03"
      },
      "source": [
        "acc = history.history['accuracy']\n",
        "plt.plot(range(len(acc)), acc);"
      ],
      "id": "c5c7b171",
      "execution_count": 8,
      "outputs": [
        {
          "output_type": "display_data",
          "data": {
            "image/png": "[encoded data removed]",
            "text/plain": [
              "<Figure size 432x288 with 1 Axes>"
            ]
          },
          "metadata": {
            "tags": [],
            "needs_background": "light"
          }
        }
      ]
    },
    {
      "cell_type": "markdown",
      "metadata": {
        "id": "dadc79d8"
      },
      "source": [
        "### Full train dataset, no separate validation dataset used"
      ],
      "id": "dadc79d8"
    },
    {
      "cell_type": "code",
      "metadata": {
        "colab": {
          "base_uri": "https://localhost:8080/"
        },
        "id": "6d0cbcad",
        "outputId": "45dc92c3-86e6-4306-dd6a-8965d67a6ffe"
      },
      "source": [
        "BATCH_SIZE_TRAIN = 1341+3875\n",
        "TARGET_SIZE = [512, 512]\n",
        "\n",
        "path = COLAB_PATH_TRAIN\n",
        "\n",
        "t0 = time.time()\n",
        "print(t0)\n",
        "generator_train = ImageDataGenerator().flow_from_directory(path,\n",
        "                                                          batch_size=BATCH_SIZE_TRAIN,\n",
        "                                                          target_size=TARGET_SIZE)\n",
        "\n",
        "images_train, labels_train = next(generator_train)\n",
        "images_train_scaled = images_train / 256\n",
        "t1 = time.time()\n",
        "print('Runtime:', t1-t0)\n",
        "\n",
        "print(images_train_scaled.shape, labels_train.shape)"
      ],
      "id": "6d0cbcad",
      "execution_count": null,
      "outputs": [
        {
          "output_type": "stream",
          "text": [
            "1624567749.5155773\n",
            "Found 5232 images belonging to 2 classes.\n"
          ],
          "name": "stdout"
        }
      ]
    },
    {
      "cell_type": "code",
      "metadata": {
        "id": "e9dbf694"
      },
      "source": [
        "def reshape_flat(x):\n",
        "    s = x.shape\n",
        "    dim_0 = s[0]\n",
        "    dim_1 = s[1]*s[2]*s[3]\n",
        "    x_flat = x.reshape(dim_0, dim_1)\n",
        "    shape = (x_flat.shape[1],)\n",
        "    return x_flat, shape"
      ],
      "id": "e9dbf694",
      "execution_count": null,
      "outputs": []
    },
    {
      "cell_type": "code",
      "metadata": {
        "colab": {
          "base_uri": "https://localhost:8080/"
        },
        "id": "8e414b50",
        "outputId": "0be4fe20-59a9-4564-dfcc-1a705f431868"
      },
      "source": [
        "x, shape = reshape_flat(images_train_scaled)\n",
        "\n",
        "model = Sequential()\n",
        "model.add(Dense(TARGET_SIZE[0], activation='relu', input_shape = shape))\n",
        "model.add(Dense(2, activation='softmax'))\n",
        "model.compile(optimizer='SGD', loss='categorical_crossentropy', metrics=['accuracy', 'mse'])\n",
        "model.summary()"
      ],
      "id": "8e414b50",
      "execution_count": 8,
      "outputs": [
        {
          "output_type": "stream",
          "text": [
            "Model: \"sequential\"\n",
            "_________________________________________________________________\n",
            "Layer (type)                 Output Shape              Param #   \n",
            "=================================================================\n",
            "dense (Dense)                (None, 4)                 196       \n",
            "_________________________________________________________________\n",
            "dense_1 (Dense)              (None, 2)                 10        \n",
            "=================================================================\n",
            "Total params: 206\n",
            "Trainable params: 206\n",
            "Non-trainable params: 0\n",
            "_________________________________________________________________\n"
          ],
          "name": "stdout"
        }
      ]
    },
    {
      "cell_type": "code",
      "metadata": {
        "collapsed": true,
        "jupyter": {
          "outputs_hidden": true
        },
        "tags": [],
        "id": "8e846f7d",
        "outputId": "fedd6a5d-5e79-4583-9ee8-6f557f60bb01"
      },
      "source": [
        "history = model.fit(x=x, y=labels_train, epochs=50, validation_split=0.25, verbose=2)"
      ],
      "id": "8e846f7d",
      "execution_count": null,
      "outputs": [
        {
          "output_type": "stream",
          "text": [
            "Epoch 1/100\n",
            "98/98 [==============================] - 7s 73ms/step - loss: 0.6429 - accuracy: 0.7517 - mse: 0.1856 - val_loss: 0.4351 - val_accuracy: 0.7465 - val_mse: 0.1494\n",
            "Epoch 2/100\n",
            "98/98 [==============================] - 6s 59ms/step - loss: 0.4153 - accuracy: 0.8127 - mse: 0.1311 - val_loss: 0.3478 - val_accuracy: 0.8246 - val_mse: 0.1154\n",
            "Epoch 3/100\n",
            "98/98 [==============================] - 6s 57ms/step - loss: 0.3222 - accuracy: 0.8680 - mse: 0.0998 - val_loss: 0.4101 - val_accuracy: 0.8170 - val_mse: 0.1292\n",
            "Epoch 4/100\n",
            "98/98 [==============================] - 6s 59ms/step - loss: 0.2980 - accuracy: 0.8757 - mse: 0.0915 - val_loss: 0.2041 - val_accuracy: 0.9224 - val_mse: 0.0606\n",
            "Epoch 5/100\n",
            "98/98 [==============================] - 6s 61ms/step - loss: 0.2206 - accuracy: 0.9105 - mse: 0.0661 - val_loss: 0.1696 - val_accuracy: 0.9377 - val_mse: 0.0497\n",
            "Epoch 6/100\n",
            "98/98 [==============================] - 6s 59ms/step - loss: 0.2270 - accuracy: 0.9112 - mse: 0.0673 - val_loss: 0.1808 - val_accuracy: 0.9281 - val_mse: 0.0535\n",
            "Epoch 7/100\n",
            "98/98 [==============================] - 6s 60ms/step - loss: 0.1965 - accuracy: 0.9268 - mse: 0.0563 - val_loss: 0.1373 - val_accuracy: 0.9473 - val_mse: 0.0395\n",
            "Epoch 8/100\n",
            "98/98 [==============================] - 6s 62ms/step - loss: 0.2010 - accuracy: 0.9233 - mse: 0.0585 - val_loss: 0.1441 - val_accuracy: 0.9459 - val_mse: 0.0402\n",
            "Epoch 9/100\n",
            "98/98 [==============================] - 6s 58ms/step - loss: 0.2030 - accuracy: 0.9214 - mse: 0.0593 - val_loss: 0.1437 - val_accuracy: 0.9459 - val_mse: 0.0407\n",
            "Epoch 10/100\n",
            "98/98 [==============================] - 6s 59ms/step - loss: 0.1861 - accuracy: 0.9236 - mse: 0.0551 - val_loss: 0.3033 - val_accuracy: 0.8730 - val_mse: 0.0902\n",
            "Epoch 11/100\n",
            "98/98 [==============================] - 6s 60ms/step - loss: 0.1549 - accuracy: 0.9425 - mse: 0.0456 - val_loss: 0.1429 - val_accuracy: 0.9425 - val_mse: 0.0418\n",
            "Epoch 12/100\n",
            "98/98 [==============================] - 6s 57ms/step - loss: 0.1614 - accuracy: 0.9364 - mse: 0.0471 - val_loss: 0.1248 - val_accuracy: 0.9516 - val_mse: 0.0352\n",
            "Epoch 13/100\n",
            "98/98 [==============================] - 6s 59ms/step - loss: 0.1790 - accuracy: 0.9322 - mse: 0.0515 - val_loss: 0.1421 - val_accuracy: 0.9468 - val_mse: 0.0409\n",
            "Epoch 14/100\n",
            "98/98 [==============================] - 6s 59ms/step - loss: 0.1520 - accuracy: 0.9415 - mse: 0.0450 - val_loss: 0.1222 - val_accuracy: 0.9574 - val_mse: 0.0342\n",
            "Epoch 15/100\n",
            "98/98 [==============================] - 6s 59ms/step - loss: 0.1391 - accuracy: 0.9473 - mse: 0.0407 - val_loss: 0.1313 - val_accuracy: 0.9444 - val_mse: 0.0385\n",
            "Epoch 16/100\n",
            "98/98 [==============================] - 6s 57ms/step - loss: 0.1604 - accuracy: 0.9386 - mse: 0.0466 - val_loss: 0.1240 - val_accuracy: 0.9530 - val_mse: 0.0353\n",
            "Epoch 17/100\n",
            "98/98 [==============================] - 6s 57ms/step - loss: 0.1452 - accuracy: 0.9406 - mse: 0.0434 - val_loss: 0.1543 - val_accuracy: 0.9449 - val_mse: 0.0443\n",
            "Epoch 18/100\n",
            "98/98 [==============================] - 6s 57ms/step - loss: 0.1354 - accuracy: 0.9469 - mse: 0.0395 - val_loss: 0.1391 - val_accuracy: 0.9420 - val_mse: 0.0408\n",
            "Epoch 19/100\n",
            "98/98 [==============================] - 6s 60ms/step - loss: 0.1379 - accuracy: 0.9438 - mse: 0.0413 - val_loss: 0.1157 - val_accuracy: 0.9554 - val_mse: 0.0328\n",
            "Epoch 20/100\n",
            "98/98 [==============================] - 6s 59ms/step - loss: 0.1535 - accuracy: 0.9361 - mse: 0.0461 - val_loss: 0.1118 - val_accuracy: 0.9598 - val_mse: 0.0314\n",
            "Epoch 21/100\n",
            "98/98 [==============================] - 6s 62ms/step - loss: 0.1382 - accuracy: 0.9495 - mse: 0.0398 - val_loss: 0.1108 - val_accuracy: 0.9598 - val_mse: 0.0312\n",
            "Epoch 22/100\n",
            "98/98 [==============================] - 6s 57ms/step - loss: 0.1466 - accuracy: 0.9428 - mse: 0.0432 - val_loss: 0.1536 - val_accuracy: 0.9348 - val_mse: 0.0459\n",
            "Epoch 23/100\n",
            "98/98 [==============================] - 6s 60ms/step - loss: 0.1250 - accuracy: 0.9514 - mse: 0.0361 - val_loss: 0.1079 - val_accuracy: 0.9578 - val_mse: 0.0308\n",
            "Epoch 24/100\n",
            "98/98 [==============================] - 6s 60ms/step - loss: 0.1219 - accuracy: 0.9501 - mse: 0.0360 - val_loss: 0.1238 - val_accuracy: 0.9487 - val_mse: 0.0367\n",
            "Epoch 25/100\n",
            "98/98 [==============================] - 6s 62ms/step - loss: 0.1212 - accuracy: 0.9517 - mse: 0.0357 - val_loss: 0.2079 - val_accuracy: 0.9171 - val_mse: 0.0636\n",
            "Epoch 26/100\n",
            "98/98 [==============================] - 6s 61ms/step - loss: 0.1769 - accuracy: 0.9345 - mse: 0.0535 - val_loss: 0.1297 - val_accuracy: 0.9521 - val_mse: 0.0370\n",
            "Epoch 27/100\n",
            "98/98 [==============================] - 6s 57ms/step - loss: 0.1344 - accuracy: 0.9476 - mse: 0.0389 - val_loss: 0.1401 - val_accuracy: 0.9382 - val_mse: 0.0418\n",
            "Epoch 28/100\n",
            "98/98 [==============================] - 6s 61ms/step - loss: 0.1351 - accuracy: 0.9438 - mse: 0.0404 - val_loss: 0.1120 - val_accuracy: 0.9583 - val_mse: 0.0317\n",
            "Epoch 29/100\n",
            "98/98 [==============================] - 5s 54ms/step - loss: 0.1246 - accuracy: 0.9501 - mse: 0.0364 - val_loss: 0.1066 - val_accuracy: 0.9617 - val_mse: 0.0302\n",
            "Epoch 30/100\n",
            "98/98 [==============================] - 5s 55ms/step - loss: 0.1144 - accuracy: 0.9530 - mse: 0.0343 - val_loss: 0.1094 - val_accuracy: 0.9612 - val_mse: 0.0312\n",
            "Epoch 31/100\n",
            "98/98 [==============================] - 5s 56ms/step - loss: 0.1112 - accuracy: 0.9585 - mse: 0.0327 - val_loss: 0.1332 - val_accuracy: 0.9521 - val_mse: 0.0370\n",
            "Epoch 32/100\n",
            "98/98 [==============================] - 5s 55ms/step - loss: 0.1110 - accuracy: 0.9556 - mse: 0.0327 - val_loss: 0.1821 - val_accuracy: 0.9224 - val_mse: 0.0561\n",
            "Epoch 33/100\n",
            "98/98 [==============================] - 6s 57ms/step - loss: 0.1186 - accuracy: 0.9540 - mse: 0.0341 - val_loss: 0.1757 - val_accuracy: 0.9372 - val_mse: 0.0495\n",
            "Epoch 34/100\n",
            "98/98 [==============================] - 6s 60ms/step - loss: 0.1092 - accuracy: 0.9565 - mse: 0.0321 - val_loss: 0.1026 - val_accuracy: 0.9612 - val_mse: 0.0289\n",
            "Epoch 35/100\n",
            "98/98 [==============================] - 6s 59ms/step - loss: 0.1181 - accuracy: 0.9514 - mse: 0.0345 - val_loss: 0.1037 - val_accuracy: 0.9617 - val_mse: 0.0292\n",
            "Epoch 36/100\n",
            "98/98 [==============================] - 5s 55ms/step - loss: 0.1086 - accuracy: 0.9565 - mse: 0.0315 - val_loss: 0.1050 - val_accuracy: 0.9593 - val_mse: 0.0302\n",
            "Epoch 37/100\n",
            "98/98 [==============================] - 6s 58ms/step - loss: 0.1108 - accuracy: 0.9575 - mse: 0.0317 - val_loss: 0.1167 - val_accuracy: 0.9564 - val_mse: 0.0327\n",
            "Epoch 38/100\n",
            "98/98 [==============================] - 6s 57ms/step - loss: 0.1272 - accuracy: 0.9511 - mse: 0.0365 - val_loss: 0.1087 - val_accuracy: 0.9621 - val_mse: 0.0298\n",
            "Epoch 39/100\n",
            "98/98 [==============================] - 5s 54ms/step - loss: 0.1062 - accuracy: 0.9588 - mse: 0.0310 - val_loss: 0.1108 - val_accuracy: 0.9602 - val_mse: 0.0306\n",
            "Epoch 40/100\n",
            "98/98 [==============================] - 5s 56ms/step - loss: 0.1066 - accuracy: 0.9572 - mse: 0.0310 - val_loss: 0.1250 - val_accuracy: 0.9473 - val_mse: 0.0373\n",
            "Epoch 41/100\n",
            "98/98 [==============================] - 5s 54ms/step - loss: 0.1043 - accuracy: 0.9562 - mse: 0.0309 - val_loss: 0.1334 - val_accuracy: 0.9506 - val_mse: 0.0371\n",
            "Epoch 42/100\n",
            "98/98 [==============================] - 6s 60ms/step - loss: 0.1085 - accuracy: 0.9581 - mse: 0.0320 - val_loss: 0.0986 - val_accuracy: 0.9641 - val_mse: 0.0278\n",
            "Epoch 43/100\n",
            "98/98 [==============================] - 6s 58ms/step - loss: 0.1199 - accuracy: 0.9533 - mse: 0.0350 - val_loss: 0.1162 - val_accuracy: 0.9526 - val_mse: 0.0335\n",
            "Epoch 44/100\n",
            "98/98 [==============================] - 6s 56ms/step - loss: 0.0958 - accuracy: 0.9623 - mse: 0.0274 - val_loss: 0.2931 - val_accuracy: 0.8845 - val_mse: 0.0881\n",
            "Epoch 45/100\n",
            "98/98 [==============================] - 6s 61ms/step - loss: 0.1016 - accuracy: 0.9626 - mse: 0.0292 - val_loss: 0.1046 - val_accuracy: 0.9593 - val_mse: 0.0301\n",
            "Epoch 46/100\n",
            "98/98 [==============================] - 6s 56ms/step - loss: 0.0964 - accuracy: 0.9626 - mse: 0.0280 - val_loss: 0.0997 - val_accuracy: 0.9645 - val_mse: 0.0281\n",
            "Epoch 47/100\n",
            "98/98 [==============================] - 6s 62ms/step - loss: 0.1157 - accuracy: 0.9565 - mse: 0.0334 - val_loss: 0.1027 - val_accuracy: 0.9631 - val_mse: 0.0292\n",
            "Epoch 48/100\n",
            "98/98 [==============================] - 6s 57ms/step - loss: 0.1238 - accuracy: 0.9514 - mse: 0.0363 - val_loss: 0.0991 - val_accuracy: 0.9631 - val_mse: 0.0276\n",
            "Epoch 49/100\n",
            "98/98 [==============================] - 6s 60ms/step - loss: 0.1010 - accuracy: 0.9597 - mse: 0.0296 - val_loss: 0.1072 - val_accuracy: 0.9559 - val_mse: 0.0312\n",
            "Epoch 50/100\n",
            "98/98 [==============================] - 6s 56ms/step - loss: 0.1028 - accuracy: 0.9578 - mse: 0.0303 - val_loss: 0.0974 - val_accuracy: 0.9645 - val_mse: 0.0271\n",
            "Epoch 51/100\n",
            "98/98 [==============================] - 6s 59ms/step - loss: 0.0916 - accuracy: 0.9642 - mse: 0.0267 - val_loss: 0.0996 - val_accuracy: 0.9641 - val_mse: 0.0281\n",
            "Epoch 52/100\n",
            "98/98 [==============================] - 6s 60ms/step - loss: 0.0992 - accuracy: 0.9575 - mse: 0.0299 - val_loss: 0.4425 - val_accuracy: 0.7978 - val_mse: 0.1423\n",
            "Epoch 53/100\n",
            "98/98 [==============================] - 6s 60ms/step - loss: 0.1042 - accuracy: 0.9616 - mse: 0.0298 - val_loss: 0.1037 - val_accuracy: 0.9626 - val_mse: 0.0285\n",
            "Epoch 54/100\n",
            "98/98 [==============================] - 6s 60ms/step - loss: 0.0949 - accuracy: 0.9648 - mse: 0.0281 - val_loss: 0.1194 - val_accuracy: 0.9487 - val_mse: 0.0354\n",
            "Epoch 55/100\n",
            "98/98 [==============================] - 6s 59ms/step - loss: 0.0990 - accuracy: 0.9626 - mse: 0.0284 - val_loss: 0.2087 - val_accuracy: 0.9291 - val_mse: 0.0553\n",
            "Epoch 56/100\n",
            "98/98 [==============================] - 5s 53ms/step - loss: 0.0963 - accuracy: 0.9636 - mse: 0.0277 - val_loss: 0.1012 - val_accuracy: 0.9669 - val_mse: 0.0279\n",
            "Epoch 57/100\n",
            "98/98 [==============================] - 5s 53ms/step - loss: 0.0835 - accuracy: 0.9661 - mse: 0.0241 - val_loss: 0.1023 - val_accuracy: 0.9631 - val_mse: 0.0279\n",
            "Epoch 58/100\n",
            "98/98 [==============================] - 6s 57ms/step - loss: 0.0959 - accuracy: 0.9616 - mse: 0.0279 - val_loss: 0.1025 - val_accuracy: 0.9650 - val_mse: 0.0281\n",
            "Epoch 59/100\n",
            "98/98 [==============================] - 6s 58ms/step - loss: 0.0876 - accuracy: 0.9636 - mse: 0.0258 - val_loss: 0.1275 - val_accuracy: 0.9574 - val_mse: 0.0343\n",
            "Epoch 60/100\n",
            "98/98 [==============================] - 5s 54ms/step - loss: 0.0848 - accuracy: 0.9680 - mse: 0.0243 - val_loss: 0.1030 - val_accuracy: 0.9636 - val_mse: 0.0278\n",
            "Epoch 61/100\n",
            "98/98 [==============================] - 5s 56ms/step - loss: 0.0939 - accuracy: 0.9623 - mse: 0.0273 - val_loss: 0.0960 - val_accuracy: 0.9660 - val_mse: 0.0262\n",
            "Epoch 62/100\n",
            "98/98 [==============================] - 6s 57ms/step - loss: 0.0802 - accuracy: 0.9664 - mse: 0.0240 - val_loss: 0.1004 - val_accuracy: 0.9641 - val_mse: 0.0277\n",
            "Epoch 63/100\n",
            "98/98 [==============================] - 6s 58ms/step - loss: 0.0785 - accuracy: 0.9677 - mse: 0.0228 - val_loss: 0.1286 - val_accuracy: 0.9578 - val_mse: 0.0340\n",
            "Epoch 64/100\n",
            "98/98 [==============================] - 6s 60ms/step - loss: 0.0825 - accuracy: 0.9687 - mse: 0.0235 - val_loss: 0.1187 - val_accuracy: 0.9502 - val_mse: 0.0350\n",
            "Epoch 65/100\n",
            "98/98 [==============================] - 6s 59ms/step - loss: 0.0867 - accuracy: 0.9674 - mse: 0.0250 - val_loss: 0.0992 - val_accuracy: 0.9626 - val_mse: 0.0279\n",
            "Epoch 66/100\n",
            "98/98 [==============================] - 6s 57ms/step - loss: 0.1015 - accuracy: 0.9620 - mse: 0.0287 - val_loss: 0.0946 - val_accuracy: 0.9617 - val_mse: 0.0269\n",
            "Epoch 67/100\n",
            "98/98 [==============================] - 6s 59ms/step - loss: 0.0706 - accuracy: 0.9722 - mse: 0.0204 - val_loss: 0.2162 - val_accuracy: 0.9166 - val_mse: 0.0633\n",
            "Epoch 68/100\n",
            "98/98 [==============================] - 6s 58ms/step - loss: 0.1019 - accuracy: 0.9597 - mse: 0.0300 - val_loss: 0.0952 - val_accuracy: 0.9650 - val_mse: 0.0259\n",
            "Epoch 69/100\n",
            "98/98 [==============================] - 5s 56ms/step - loss: 0.0910 - accuracy: 0.9671 - mse: 0.0257 - val_loss: 0.1181 - val_accuracy: 0.9526 - val_mse: 0.0349\n",
            "Epoch 70/100\n",
            "98/98 [==============================] - 6s 59ms/step - loss: 0.0797 - accuracy: 0.9680 - mse: 0.0232 - val_loss: 0.1005 - val_accuracy: 0.9612 - val_mse: 0.0289\n",
            "Epoch 71/100\n",
            "98/98 [==============================] - 6s 61ms/step - loss: 0.0959 - accuracy: 0.9623 - mse: 0.0280 - val_loss: 0.0965 - val_accuracy: 0.9650 - val_mse: 0.0265\n",
            "Epoch 72/100\n",
            "98/98 [==============================] - 6s 58ms/step - loss: 0.0738 - accuracy: 0.9706 - mse: 0.0215 - val_loss: 0.1033 - val_accuracy: 0.9636 - val_mse: 0.0278\n",
            "Epoch 73/100\n",
            "98/98 [==============================] - 6s 61ms/step - loss: 0.0694 - accuracy: 0.9741 - mse: 0.0198 - val_loss: 0.1075 - val_accuracy: 0.9650 - val_mse: 0.0286\n",
            "Epoch 74/100\n",
            "98/98 [==============================] - 6s 62ms/step - loss: 0.0621 - accuracy: 0.9773 - mse: 0.0172 - val_loss: 0.1385 - val_accuracy: 0.9439 - val_mse: 0.0413\n",
            "Epoch 75/100\n",
            "98/98 [==============================] - 6s 57ms/step - loss: 0.0895 - accuracy: 0.9636 - mse: 0.0265 - val_loss: 0.1296 - val_accuracy: 0.9583 - val_mse: 0.0335\n",
            "Epoch 76/100\n",
            "98/98 [==============================] - 6s 58ms/step - loss: 0.0710 - accuracy: 0.9728 - mse: 0.0207 - val_loss: 0.0943 - val_accuracy: 0.9660 - val_mse: 0.0254\n",
            "Epoch 77/100\n",
            "98/98 [==============================] - 5s 54ms/step - loss: 0.0730 - accuracy: 0.9748 - mse: 0.0209 - val_loss: 0.1237 - val_accuracy: 0.9511 - val_mse: 0.0366\n",
            "Epoch 78/100\n",
            "98/98 [==============================] - 6s 57ms/step - loss: 0.0857 - accuracy: 0.9706 - mse: 0.0229 - val_loss: 0.0992 - val_accuracy: 0.9621 - val_mse: 0.0279\n",
            "Epoch 79/100\n",
            "98/98 [==============================] - 6s 58ms/step - loss: 0.0991 - accuracy: 0.9639 - mse: 0.0277 - val_loss: 0.0964 - val_accuracy: 0.9655 - val_mse: 0.0264\n",
            "Epoch 80/100\n",
            "98/98 [==============================] - 5s 56ms/step - loss: 0.0699 - accuracy: 0.9748 - mse: 0.0195 - val_loss: 0.1201 - val_accuracy: 0.9621 - val_mse: 0.0318\n",
            "Epoch 81/100\n",
            "98/98 [==============================] - 5s 55ms/step - loss: 0.0730 - accuracy: 0.9712 - mse: 0.0214 - val_loss: 0.0944 - val_accuracy: 0.9636 - val_mse: 0.0269\n",
            "Epoch 82/100\n",
            "98/98 [==============================] - 6s 56ms/step - loss: 0.0690 - accuracy: 0.9764 - mse: 0.0190 - val_loss: 0.1043 - val_accuracy: 0.9588 - val_mse: 0.0303\n",
            "Epoch 83/100\n",
            "98/98 [==============================] - 6s 59ms/step - loss: 0.0767 - accuracy: 0.9674 - mse: 0.0229 - val_loss: 0.0981 - val_accuracy: 0.9660 - val_mse: 0.0269\n",
            "Epoch 84/100\n",
            "98/98 [==============================] - 5s 55ms/step - loss: 0.0663 - accuracy: 0.9744 - mse: 0.0190 - val_loss: 0.1061 - val_accuracy: 0.9602 - val_mse: 0.0304\n",
            "Epoch 85/100\n",
            "98/98 [==============================] - 6s 58ms/step - loss: 0.0967 - accuracy: 0.9648 - mse: 0.0267 - val_loss: 0.0962 - val_accuracy: 0.9631 - val_mse: 0.0268\n",
            "Epoch 86/100\n",
            "98/98 [==============================] - 6s 57ms/step - loss: 0.0632 - accuracy: 0.9773 - mse: 0.0175 - val_loss: 0.0981 - val_accuracy: 0.9645 - val_mse: 0.0271\n",
            "Epoch 87/100\n",
            "98/98 [==============================] - 5s 54ms/step - loss: 0.0657 - accuracy: 0.9754 - mse: 0.0187 - val_loss: 0.1196 - val_accuracy: 0.9550 - val_mse: 0.0351\n",
            "Epoch 88/100\n",
            "98/98 [==============================] - 6s 57ms/step - loss: 0.0639 - accuracy: 0.9722 - mse: 0.0187 - val_loss: 0.0973 - val_accuracy: 0.9674 - val_mse: 0.0262\n",
            "Epoch 89/100\n",
            "98/98 [==============================] - 6s 57ms/step - loss: 0.0646 - accuracy: 0.9732 - mse: 0.0193 - val_loss: 0.0976 - val_accuracy: 0.9650 - val_mse: 0.0263\n",
            "Epoch 90/100\n",
            "98/98 [==============================] - 5s 55ms/step - loss: 0.0708 - accuracy: 0.9722 - mse: 0.0208 - val_loss: 0.1141 - val_accuracy: 0.9593 - val_mse: 0.0320\n",
            "Epoch 91/100\n",
            "98/98 [==============================] - 6s 59ms/step - loss: 0.0600 - accuracy: 0.9738 - mse: 0.0177 - val_loss: 0.1704 - val_accuracy: 0.9449 - val_mse: 0.0419\n",
            "Epoch 92/100\n",
            "98/98 [==============================] - 5s 56ms/step - loss: 0.0696 - accuracy: 0.9744 - mse: 0.0192 - val_loss: 0.0936 - val_accuracy: 0.9674 - val_mse: 0.0252\n",
            "Epoch 93/100\n",
            "98/98 [==============================] - 6s 59ms/step - loss: 0.0685 - accuracy: 0.9744 - mse: 0.0190 - val_loss: 0.1109 - val_accuracy: 0.9574 - val_mse: 0.0323\n",
            "Epoch 94/100\n",
            "98/98 [==============================] - 6s 58ms/step - loss: 0.0571 - accuracy: 0.9757 - mse: 0.0169 - val_loss: 0.0941 - val_accuracy: 0.9665 - val_mse: 0.0253\n",
            "Epoch 95/100\n",
            "98/98 [==============================] - 6s 62ms/step - loss: 0.0552 - accuracy: 0.9779 - mse: 0.0158 - val_loss: 0.1140 - val_accuracy: 0.9588 - val_mse: 0.0322\n",
            "Epoch 96/100\n",
            "98/98 [==============================] - 6s 60ms/step - loss: 0.0602 - accuracy: 0.9751 - mse: 0.0181 - val_loss: 0.0986 - val_accuracy: 0.9660 - val_mse: 0.0267\n",
            "Epoch 97/100\n",
            "98/98 [==============================] - 6s 61ms/step - loss: 0.0515 - accuracy: 0.9783 - mse: 0.0153 - val_loss: 0.2160 - val_accuracy: 0.9262 - val_mse: 0.0580\n",
            "Epoch 98/100\n",
            "98/98 [==============================] - 6s 58ms/step - loss: 0.1105 - accuracy: 0.9680 - mse: 0.0275 - val_loss: 0.2273 - val_accuracy: 0.9391 - val_mse: 0.0768\n",
            "Epoch 99/100\n",
            "98/98 [==============================] - 6s 60ms/step - loss: 0.1212 - accuracy: 0.9693 - mse: 0.0365 - val_loss: 0.0990 - val_accuracy: 0.9593 - val_mse: 0.0284\n",
            "Epoch 100/100\n",
            "98/98 [==============================] - 6s 62ms/step - loss: 0.1842 - accuracy: 0.9604 - mse: 0.0433 - val_loss: 0.1010 - val_accuracy: 0.9684 - val_mse: 0.0270\n"
          ],
          "name": "stdout"
        }
      ]
    },
    {
      "cell_type": "code",
      "metadata": {
        "id": "d9a29ddb",
        "outputId": "e73b7786-f271-43a0-8bd0-fa15580100ad"
      },
      "source": [
        "history.history.keys()\n",
        "\n",
        "acc_train = history.history['accuracy']\n",
        "acc_val = history.history['val_accuracy']\n",
        "epoch_ct = range(len(acc_train))\n",
        "\n",
        "plt.plot(epoch_ct, acc_train, label='Training')\n",
        "plt.plot(epoch_ct, acc_val, label='Validation')\n",
        "plt.title('Accuracy')\n",
        "plt.legend();"
      ],
      "id": "d9a29ddb",
      "execution_count": null,
      "outputs": [
        {
          "output_type": "display_data",
          "data": {
            "image/png": "[encoded data removed]",
            "text/plain": [
              "<Figure size 432x288 with 1 Axes>"
            ]
          },
          "metadata": {
            "tags": [],
            "needs_background": "light"
          }
        }
      ]
    },
    {
      "cell_type": "code",
      "metadata": {
        "id": "aed436e4",
        "outputId": "4b22ab7f-864e-4f9c-e246-fd4d9893f44e"
      },
      "source": [
        "history.history.keys()\n",
        "\n",
        "mse_train = history.history['mse']\n",
        "mse_val = history.history['val_mse']\n",
        "epoch_ct = range(len(mse_train))\n",
        "\n",
        "plt.plot(epoch_ct, mse_train, label='Training')\n",
        "plt.plot(epoch_ct, mse_val, label='Validation')\n",
        "plt.title('Mean Squared Error')\n",
        "plt.legend();"
      ],
      "id": "aed436e4",
      "execution_count": null,
      "outputs": [
        {
          "output_type": "display_data",
          "data": {
            "image/png": "[encoded data removed]",
            "text/plain": [
              "<Figure size 432x288 with 1 Axes>"
            ]
          },
          "metadata": {
            "tags": [],
            "needs_background": "light"
          }
        }
      ]
    },
    {
      "cell_type": "markdown",
      "metadata": {
        "id": "0000c704"
      },
      "source": [
        "### Incorporate resampling"
      ],
      "id": "0000c704"
    },
    {
      "cell_type": "code",
      "metadata": {
        "id": "40b9bd14"
      },
      "source": [
        "x_train, x_val, y_train, y_val = train_test_split(images_train_scaled, labels_train, random_state=RANDOM_STATE, test_size = 0.25)"
      ],
      "id": "40b9bd14",
      "execution_count": null,
      "outputs": []
    },
    {
      "cell_type": "code",
      "metadata": {
        "id": "7061134b"
      },
      "source": [
        "# Oversample the minority class: \n",
        "# https://www.tensorflow.org/tutorials/structured_data/imbalanced_data#oversample_the_minority_class\n",
        "np.random.seed(RANDOM_STATE)\n",
        "\n",
        "\n",
        "print(generator_train.class_indices)\n",
        "ind_neg = y_train[:, 0]==1\n",
        "ind_pos = y_train[:, 0]==0\n",
        "\n",
        "neg_ct = ind_neg.sum()\n",
        "pos_ct = ind_pos.sum()\n",
        "print('NORMAL count:', neg_ct, ', PNEUMONIA count:', pos_ct)\n",
        "\n",
        "ids = np.arange(neg_ct)\n",
        "\n",
        "# Select random entries from the list of inputs\n",
        "ind_add_ons = np.random.choice(ids, size=pos_ct-neg_ct)\n",
        "add_ons_x = x_train[ind_neg][ind_add_ons]\n",
        "add_ons_y = y_train[ind_neg][ind_add_ons]\n",
        "\n",
        "x_train_balanced = np.concatenate([x_train, add_ons_x], axis=0)\n",
        "y_train_balanced = np.concatenate([y_train, add_ons_y], axis=0)\n",
        "print('Training sizes after resampling:', x_train_balanced.shape, y_train_balanced.shape)\n",
        "print('NORMAL count, PNEUMONIA count:', y_train_balanced.sum(axis=0))"
      ],
      "id": "7061134b",
      "execution_count": null,
      "outputs": []
    },
    {
      "cell_type": "code",
      "metadata": {
        "colab": {
          "base_uri": "https://localhost:8080/",
          "height": 227
        },
        "id": "d0996c88",
        "outputId": "754199c4-98c7-48da-abb7-c5a5acadff3c"
      },
      "source": [
        "x_train_flat, shape = reshape_flat(x_train_balanced)\n",
        "x_val_flat, _ = reshape_flat(x_val)\n",
        "\n",
        "model = Sequential()\n",
        "model.add(Dense(TARGET_SIZE[0], activation='relu', input_shape = shape))\n",
        "model.add(Dense(2, activation='softmax'))\n",
        "model.compile(optimizer='SGD', loss='categorical_crossentropy', metrics=['accuracy', 'mse'])"
      ],
      "id": "d0996c88",
      "execution_count": 9,
      "outputs": [
        {
          "output_type": "error",
          "ename": "NameError",
          "evalue": "ignored",
          "traceback": [
            "\u001b[0;31m---------------------------------------------------------------------------\u001b[0m",
            "\u001b[0;31mNameError\u001b[0m                                 Traceback (most recent call last)",
            "\u001b[0;32m<ipython-input-9-5a5044d18b4f>\u001b[0m in \u001b[0;36m<module>\u001b[0;34m()\u001b[0m\n\u001b[0;32m----> 1\u001b[0;31m \u001b[0mx_train_flat\u001b[0m\u001b[0;34m,\u001b[0m \u001b[0mshape\u001b[0m \u001b[0;34m=\u001b[0m \u001b[0mreshape_flat\u001b[0m\u001b[0;34m(\u001b[0m\u001b[0mx_train_balanced\u001b[0m\u001b[0;34m)\u001b[0m\u001b[0;34m\u001b[0m\u001b[0;34m\u001b[0m\u001b[0m\n\u001b[0m\u001b[1;32m      2\u001b[0m \u001b[0mx_val_flat\u001b[0m\u001b[0;34m,\u001b[0m \u001b[0m_\u001b[0m \u001b[0;34m=\u001b[0m \u001b[0mreshape_flat\u001b[0m\u001b[0;34m(\u001b[0m\u001b[0mx_val\u001b[0m\u001b[0;34m)\u001b[0m\u001b[0;34m\u001b[0m\u001b[0;34m\u001b[0m\u001b[0m\n\u001b[1;32m      3\u001b[0m \u001b[0;34m\u001b[0m\u001b[0m\n\u001b[1;32m      4\u001b[0m \u001b[0mmodel\u001b[0m \u001b[0;34m=\u001b[0m \u001b[0mSequential\u001b[0m\u001b[0;34m(\u001b[0m\u001b[0;34m)\u001b[0m\u001b[0;34m\u001b[0m\u001b[0;34m\u001b[0m\u001b[0m\n\u001b[1;32m      5\u001b[0m \u001b[0mmodel\u001b[0m\u001b[0;34m.\u001b[0m\u001b[0madd\u001b[0m\u001b[0;34m(\u001b[0m\u001b[0mDense\u001b[0m\u001b[0;34m(\u001b[0m\u001b[0mTARGET_SIZE\u001b[0m\u001b[0;34m[\u001b[0m\u001b[0;36m0\u001b[0m\u001b[0;34m]\u001b[0m\u001b[0;34m,\u001b[0m \u001b[0mactivation\u001b[0m\u001b[0;34m=\u001b[0m\u001b[0;34m'relu'\u001b[0m\u001b[0;34m,\u001b[0m \u001b[0minput_shape\u001b[0m \u001b[0;34m=\u001b[0m \u001b[0mshape\u001b[0m\u001b[0;34m)\u001b[0m\u001b[0;34m)\u001b[0m\u001b[0;34m\u001b[0m\u001b[0;34m\u001b[0m\u001b[0m\n",
            "\u001b[0;31mNameError\u001b[0m: name 'x_train_balanced' is not defined"
          ]
        }
      ]
    },
    {
      "cell_type": "code",
      "metadata": {
        "collapsed": true,
        "jupyter": {
          "outputs_hidden": true
        },
        "tags": [],
        "id": "e9ae95b3"
      },
      "source": [
        "history = model.fit(x=x_train_flat, y=y_train_balanced, epochs=50, validation_data=(x_val_flat, y_val))\n",
        "model.summary()"
      ],
      "id": "e9ae95b3",
      "execution_count": null,
      "outputs": []
    },
    {
      "cell_type": "markdown",
      "metadata": {
        "id": "36c570f5"
      },
      "source": [
        "### Incorporate Early Stopping"
      ],
      "id": "36c570f5"
    },
    {
      "cell_type": "code",
      "metadata": {
        "collapsed": true,
        "jupyter": {
          "outputs_hidden": true
        },
        "tags": [],
        "id": "030b57f2",
        "outputId": "7190cf43-6df8-4351-db63-af8f3be8da9d"
      },
      "source": [
        "early_stopping = [EarlyStopping(monitor='val_loss', patience=10),\n",
        "                 ModelCheckpoint('best_model.h5', monitor='val_loss', save_best_only=True)]\n",
        "\n",
        "history = model.fit(x=x_train_flat, y=y_train_balanced, \n",
        "                    callbacks=early_stopping,\n",
        "                    epochs=250, \n",
        "                    validation_data=(x_val_flat, y_val))\n",
        "best_model = keras.models.load_model('best_model.h5')\n",
        "best_model.summary()"
      ],
      "id": "030b57f2",
      "execution_count": null,
      "outputs": [
        {
          "output_type": "stream",
          "text": [
            "Epoch 1/250\n",
            "182/182 [==============================] - 8s 47ms/step - loss: 0.0574 - accuracy: 0.9805 - mse: 0.0152 - val_loss: 0.3845 - val_accuracy: 0.8942 - val_mse: 0.0842\n",
            "Epoch 2/250\n",
            "182/182 [==============================] - 9s 47ms/step - loss: 0.1367 - accuracy: 0.9292 - mse: 0.0395 - val_loss: 0.3103 - val_accuracy: 0.9095 - val_mse: 0.1032\n",
            "Epoch 3/250\n",
            "182/182 [==============================] - 8s 43ms/step - loss: 0.2645 - accuracy: 0.9521 - mse: 0.0820 - val_loss: 0.1537 - val_accuracy: 0.9433 - val_mse: 0.0424\n",
            "Epoch 4/250\n",
            "182/182 [==============================] - 8s 42ms/step - loss: 0.1697 - accuracy: 0.9399 - mse: 0.0471 - val_loss: 0.1623 - val_accuracy: 0.9417 - val_mse: 0.0463\n",
            "Epoch 5/250\n",
            "182/182 [==============================] - 8s 42ms/step - loss: 0.1233 - accuracy: 0.9542 - mse: 0.0348 - val_loss: 0.1748 - val_accuracy: 0.9440 - val_mse: 0.0460\n",
            "Epoch 6/250\n",
            "182/182 [==============================] - 8s 42ms/step - loss: 0.1122 - accuracy: 0.9602 - mse: 0.0306 - val_loss: 0.1593 - val_accuracy: 0.9479 - val_mse: 0.0437\n",
            "Epoch 7/250\n",
            "182/182 [==============================] - 7s 41ms/step - loss: 0.0875 - accuracy: 0.9680 - mse: 0.0240 - val_loss: 0.2425 - val_accuracy: 0.9340 - val_mse: 0.0544\n",
            "Epoch 8/250\n",
            "182/182 [==============================] - 8s 43ms/step - loss: 0.1207 - accuracy: 0.9576 - mse: 0.0328 - val_loss: 0.1670 - val_accuracy: 0.9494 - val_mse: 0.0429\n",
            "Epoch 9/250\n",
            "182/182 [==============================] - 7s 40ms/step - loss: 0.1186 - accuracy: 0.9607 - mse: 0.0311 - val_loss: 0.3113 - val_accuracy: 0.9202 - val_mse: 0.0667\n",
            "Epoch 10/250\n",
            "182/182 [==============================] - 7s 41ms/step - loss: 0.1320 - accuracy: 0.9530 - mse: 0.0356 - val_loss: 0.2084 - val_accuracy: 0.9310 - val_mse: 0.0507\n",
            "Epoch 11/250\n",
            "182/182 [==============================] - 7s 39ms/step - loss: 0.0900 - accuracy: 0.9678 - mse: 0.0245 - val_loss: 0.3245 - val_accuracy: 0.9179 - val_mse: 0.0681\n",
            "Epoch 12/250\n",
            "182/182 [==============================] - 8s 42ms/step - loss: 0.1162 - accuracy: 0.9590 - mse: 0.0314 - val_loss: 0.1846 - val_accuracy: 0.9402 - val_mse: 0.0457\n",
            "Epoch 13/250\n",
            "182/182 [==============================] - 8s 43ms/step - loss: 0.0841 - accuracy: 0.9680 - mse: 0.0237 - val_loss: 0.1593 - val_accuracy: 0.9509 - val_mse: 0.0416\n",
            "Model: \"sequential_3\"\n",
            "_________________________________________________________________\n",
            "Layer (type)                 Output Shape              Param #   \n",
            "=================================================================\n",
            "dense_6 (Dense)              (None, 128)               6291584   \n",
            "_________________________________________________________________\n",
            "dense_7 (Dense)              (None, 2)                 258       \n",
            "=================================================================\n",
            "Total params: 6,291,842\n",
            "Trainable params: 6,291,842\n",
            "Non-trainable params: 0\n",
            "_________________________________________________________________\n"
          ],
          "name": "stdout"
        }
      ]
    },
    {
      "cell_type": "markdown",
      "metadata": {
        "id": "37082f39"
      },
      "source": [
        "### Add Regularization"
      ],
      "id": "37082f39"
    },
    {
      "cell_type": "code",
      "metadata": {
        "id": "64f002c7"
      },
      "source": [
        "LAMBDA = 0.005\n",
        "\n",
        "model = Sequential()\n",
        "model.add(Dense(256, activation='relu', input_shape = shape, kernel_regularizer=regularizers.l2(LAMBDA)))\n",
        "model.add(Dense(64, activation='relu', kernel_regularizer=regularizers.l2(LAMBDA)))\n",
        "model.add(Dense(16, activation='relu', kernel_regularizer=regularizers.l2(LAMBDA)))\n",
        "model.add(Dense(2, activation='softmax'))\n",
        "model.compile(optimizer='SGD', metrics=['accuracy', 'mse'], loss='categorical_crossentropy')\n",
        "model.fit(x=x_train_flat, y=y_train_balanced, callbacks=early_stopping, epochs=250, validation_data=(x_val_flat, y_val))\n",
        "best_model = keras.models.load_model('best_model.h5')\n",
        "best_model.summary()"
      ],
      "id": "64f002c7",
      "execution_count": null,
      "outputs": []
    },
    {
      "cell_type": "markdown",
      "metadata": {
        "id": "145a6e21"
      },
      "source": [
        "### Add Dropout"
      ],
      "id": "145a6e21"
    },
    {
      "cell_type": "code",
      "metadata": {
        "colab": {
          "base_uri": "https://localhost:8080/"
        },
        "id": "96008667",
        "outputId": "05d437f7-c7eb-488a-f450-273bfd509911"
      },
      "source": [
        "x_train_flat, shape = reshape_flat(x_train_balanced)\n",
        "x_val_flat, _ = reshape_flat(x_val)\n",
        "early_stopping = [EarlyStopping(monitor='val_loss', patience=10),\n",
        "                 ModelCheckpoint('best_model.h5', monitor='val_loss', save_best_only=True)]\n",
        "\n",
        "\n",
        "import time\n",
        "\n",
        "t0 = time.time()\n",
        "print(t0)\n",
        "\n",
        "LAMBDA = 0.005\n",
        "DROPOUT = 0.3\n",
        "\n",
        "model = Sequential()\n",
        "model.add(Dense(256, activation='relu', input_shape = SHAPE, kernel_regularizer=regularizers.l2(LAMBDA)))\n",
        "model.add(Dropout(DROPOUT))\n",
        "\n",
        "model.add(Dense(64, activation='relu', kernel_regularizer=regularizers.l2(LAMBDA)))\n",
        "model.add(Dropout(DROPOUT))\n",
        "\n",
        "model.add(Dense(16, activation='relu', kernel_regularizer=regularizers.l2(LAMBDA)))\n",
        "model.add(Dropout(DROPOUT))\n",
        "\n",
        "model.add(Dense(2, activation='softmax'))\n",
        "model.compile(optimizer='SGD', metrics=['accuracy', 'mse'], loss='categorical_crossentropy')\n",
        "model.fit(x=x_train_flat, y=y_train_balanced, callbacks=early_stopping, epochs=250, validation_data=(x_val_flat, y_val), verbose=2)\n",
        "best_model = keras.models.load_model('best_model.h5')\n",
        "best_model.summary()\n",
        "t1 = time.time()\n",
        "print(t1)\n",
        "print('Full runtime:', t1-t0)"
      ],
      "id": "96008667",
      "execution_count": 19,
      "outputs": [
        {
          "output_type": "stream",
          "text": [
            "1624504302.4227312\n",
            "Epoch 1/250\n",
            "182/182 [==============================] - 3s 12ms/step - loss: 3.8938 - accuracy: 0.5150 - mse: 0.2635 - val_loss: 3.7467 - val_accuracy: 0.9075 - val_mse: 0.2395\n",
            "Epoch 2/250\n",
            "182/182 [==============================] - 2s 9ms/step - loss: 3.6866 - accuracy: 0.6308 - mse: 0.2245 - val_loss: 3.5758 - val_accuracy: 0.6919 - val_mse: 0.2102\n",
            "Epoch 3/250\n",
            "182/182 [==============================] - 2s 9ms/step - loss: 3.4283 - accuracy: 0.7907 - mse: 0.1574 - val_loss: 3.2366 - val_accuracy: 0.8022 - val_mse: 0.1188\n",
            "Epoch 4/250\n",
            "182/182 [==============================] - 2s 9ms/step - loss: 3.2044 - accuracy: 0.8512 - mse: 0.1116 - val_loss: 2.9670 - val_accuracy: 0.9449 - val_mse: 0.0492\n",
            "Epoch 5/250\n",
            "182/182 [==============================] - 2s 9ms/step - loss: 3.1391 - accuracy: 0.8404 - mse: 0.1218 - val_loss: 2.8344 - val_accuracy: 0.9764 - val_mse: 0.0329\n",
            "Epoch 6/250\n",
            "182/182 [==============================] - 2s 8ms/step - loss: 2.9621 - accuracy: 0.8822 - mse: 0.0937 - val_loss: 2.6565 - val_accuracy: 0.9705 - val_mse: 0.0212\n",
            "Epoch 7/250\n",
            "182/182 [==============================] - 2s 9ms/step - loss: 2.7951 - accuracy: 0.9133 - mse: 0.0697 - val_loss: 2.6312 - val_accuracy: 0.9547 - val_mse: 0.0355\n",
            "Epoch 8/250\n",
            "182/182 [==============================] - 2s 8ms/step - loss: 2.7153 - accuracy: 0.9101 - mse: 0.0709 - val_loss: 2.6708 - val_accuracy: 0.8671 - val_mse: 0.0852\n",
            "Epoch 9/250\n",
            "182/182 [==============================] - 2s 9ms/step - loss: 2.6329 - accuracy: 0.9024 - mse: 0.0726 - val_loss: 2.3773 - val_accuracy: 0.9793 - val_mse: 0.0157\n",
            "Epoch 10/250\n",
            "182/182 [==============================] - 2s 9ms/step - loss: 2.5009 - accuracy: 0.9240 - mse: 0.0570 - val_loss: 2.5539 - val_accuracy: 0.8504 - val_mse: 0.1002\n",
            "Epoch 11/250\n",
            "182/182 [==============================] - 2s 9ms/step - loss: 2.4440 - accuracy: 0.9121 - mse: 0.0664 - val_loss: 2.2823 - val_accuracy: 0.9567 - val_mse: 0.0298\n",
            "Epoch 12/250\n",
            "182/182 [==============================] - 2s 9ms/step - loss: 2.4498 - accuracy: 0.8913 - mse: 0.0924 - val_loss: 2.1551 - val_accuracy: 0.9882 - val_mse: 0.0122\n",
            "Epoch 13/250\n",
            "182/182 [==============================] - 2s 9ms/step - loss: 2.3064 - accuracy: 0.9162 - mse: 0.0682 - val_loss: 2.0702 - val_accuracy: 0.9833 - val_mse: 0.0124\n",
            "Epoch 14/250\n",
            "182/182 [==============================] - 2s 10ms/step - loss: 2.2953 - accuracy: 0.8812 - mse: 0.0891 - val_loss: 2.1192 - val_accuracy: 0.9321 - val_mse: 0.0513\n",
            "Epoch 15/250\n",
            "182/182 [==============================] - 2s 9ms/step - loss: 2.1980 - accuracy: 0.8963 - mse: 0.0786 - val_loss: 2.2185 - val_accuracy: 0.9744 - val_mse: 0.0826\n",
            "Epoch 16/250\n",
            "182/182 [==============================] - 2s 8ms/step - loss: 2.1563 - accuracy: 0.8831 - mse: 0.0879 - val_loss: 1.9009 - val_accuracy: 0.9646 - val_mse: 0.0248\n",
            "Epoch 17/250\n",
            "182/182 [==============================] - 2s 9ms/step - loss: 2.0886 - accuracy: 0.8667 - mse: 0.0903 - val_loss: 1.8758 - val_accuracy: 0.9626 - val_mse: 0.0301\n",
            "Epoch 18/250\n",
            "182/182 [==============================] - 2s 9ms/step - loss: 1.9204 - accuracy: 0.9190 - mse: 0.0530 - val_loss: 1.7416 - val_accuracy: 0.9813 - val_mse: 0.0125\n",
            "Epoch 19/250\n",
            "182/182 [==============================] - 2s 9ms/step - loss: 1.9906 - accuracy: 0.9000 - mse: 0.0891 - val_loss: 1.7530 - val_accuracy: 0.9744 - val_mse: 0.0224\n",
            "Epoch 20/250\n",
            "182/182 [==============================] - 2s 9ms/step - loss: 1.8676 - accuracy: 0.9121 - mse: 0.0719 - val_loss: 1.6776 - val_accuracy: 0.9793 - val_mse: 0.0184\n",
            "Epoch 21/250\n",
            "182/182 [==============================] - 2s 9ms/step - loss: 1.8457 - accuracy: 0.9161 - mse: 0.0757 - val_loss: 1.6134 - val_accuracy: 0.9823 - val_mse: 0.0150\n",
            "Epoch 22/250\n",
            "182/182 [==============================] - 2s 8ms/step - loss: 1.7586 - accuracy: 0.9201 - mse: 0.0679 - val_loss: 1.5839 - val_accuracy: 0.9646 - val_mse: 0.0262\n",
            "Epoch 23/250\n",
            "182/182 [==============================] - 2s 9ms/step - loss: 1.7076 - accuracy: 0.9157 - mse: 0.0702 - val_loss: 1.5244 - val_accuracy: 0.9715 - val_mse: 0.0216\n",
            "Epoch 24/250\n",
            "182/182 [==============================] - 2s 9ms/step - loss: 1.6517 - accuracy: 0.9121 - mse: 0.0710 - val_loss: 1.5210 - val_accuracy: 0.9764 - val_mse: 0.0266\n",
            "Epoch 25/250\n",
            "182/182 [==============================] - 2s 9ms/step - loss: 1.5899 - accuracy: 0.9197 - mse: 0.0644 - val_loss: 1.4128 - val_accuracy: 0.9734 - val_mse: 0.0184\n",
            "Epoch 26/250\n",
            "182/182 [==============================] - 2s 10ms/step - loss: 1.5137 - accuracy: 0.9348 - mse: 0.0558 - val_loss: 1.8390 - val_accuracy: 0.7441 - val_mse: 0.1742\n",
            "Epoch 27/250\n",
            "182/182 [==============================] - 2s 9ms/step - loss: 1.6278 - accuracy: 0.8565 - mse: 0.1104 - val_loss: 1.3855 - val_accuracy: 0.9695 - val_mse: 0.0314\n",
            "Epoch 28/250\n",
            "182/182 [==============================] - 2s 9ms/step - loss: 1.5256 - accuracy: 0.8402 - mse: 0.0987 - val_loss: 1.3461 - val_accuracy: 0.9665 - val_mse: 0.0336\n",
            "Epoch 29/250\n",
            "182/182 [==============================] - 2s 9ms/step - loss: 1.3983 - accuracy: 0.9295 - mse: 0.0607 - val_loss: 1.2382 - val_accuracy: 0.9774 - val_mse: 0.0196\n",
            "Epoch 30/250\n",
            "182/182 [==============================] - 2s 9ms/step - loss: 1.2861 - accuracy: 0.9382 - mse: 0.0423 - val_loss: 1.1721 - val_accuracy: 0.9764 - val_mse: 0.0165\n",
            "Epoch 31/250\n",
            "182/182 [==============================] - 2s 9ms/step - loss: 1.2679 - accuracy: 0.9225 - mse: 0.0496 - val_loss: 1.2029 - val_accuracy: 0.9518 - val_mse: 0.0362\n",
            "Epoch 32/250\n",
            "182/182 [==============================] - 2s 9ms/step - loss: 1.2316 - accuracy: 0.9231 - mse: 0.0490 - val_loss: 1.1114 - val_accuracy: 0.9724 - val_mse: 0.0187\n",
            "Epoch 33/250\n",
            "182/182 [==============================] - 2s 9ms/step - loss: 1.2027 - accuracy: 0.9250 - mse: 0.0483 - val_loss: 1.0783 - val_accuracy: 0.9715 - val_mse: 0.0202\n",
            "Epoch 34/250\n",
            "182/182 [==============================] - 2s 9ms/step - loss: 1.1522 - accuracy: 0.9273 - mse: 0.0465 - val_loss: 1.0573 - val_accuracy: 0.9695 - val_mse: 0.0218\n",
            "Epoch 35/250\n",
            "182/182 [==============================] - 2s 9ms/step - loss: 1.1183 - accuracy: 0.9405 - mse: 0.0433 - val_loss: 1.0366 - val_accuracy: 0.9616 - val_mse: 0.0281\n",
            "Epoch 36/250\n",
            "182/182 [==============================] - 2s 8ms/step - loss: 1.2046 - accuracy: 0.8931 - mse: 0.0761 - val_loss: 1.2377 - val_accuracy: 0.8848 - val_mse: 0.0903\n",
            "Epoch 37/250\n",
            "182/182 [==============================] - 2s 9ms/step - loss: 1.1289 - accuracy: 0.9260 - mse: 0.0650 - val_loss: 1.1120 - val_accuracy: 0.9744 - val_mse: 0.0459\n",
            "Epoch 38/250\n",
            "182/182 [==============================] - 2s 8ms/step - loss: 1.1048 - accuracy: 0.9333 - mse: 0.0632 - val_loss: 1.0074 - val_accuracy: 0.9882 - val_mse: 0.0239\n",
            "Epoch 39/250\n",
            "182/182 [==============================] - 2s 8ms/step - loss: 1.2224 - accuracy: 0.8548 - mse: 0.1174 - val_loss: 1.0538 - val_accuracy: 0.9813 - val_mse: 0.0451\n",
            "Epoch 40/250\n",
            "182/182 [==============================] - 2s 8ms/step - loss: 1.2534 - accuracy: 0.7995 - mse: 0.1424 - val_loss: 1.0372 - val_accuracy: 0.8612 - val_mse: 0.0719\n",
            "Epoch 41/250\n",
            "182/182 [==============================] - 2s 9ms/step - loss: 1.3904 - accuracy: 0.6324 - mse: 0.2143 - val_loss: 1.5230 - val_accuracy: 0.0463 - val_mse: 0.2811\n",
            "Epoch 42/250\n",
            "182/182 [==============================] - 2s 8ms/step - loss: 1.4484 - accuracy: 0.5142 - mse: 0.2479 - val_loss: 0.8887 - val_accuracy: 0.9705 - val_mse: 0.0317\n",
            "Epoch 43/250\n",
            "182/182 [==============================] - 2s 8ms/step - loss: 1.4031 - accuracy: 0.5423 - mse: 0.2398 - val_loss: 1.4323 - val_accuracy: 0.0453 - val_mse: 0.2623\n",
            "Epoch 44/250\n",
            "182/182 [==============================] - 2s 9ms/step - loss: 1.3961 - accuracy: 0.5072 - mse: 0.2481 - val_loss: 1.4182 - val_accuracy: 0.0463 - val_mse: 0.2678\n",
            "Epoch 45/250\n",
            "182/182 [==============================] - 2s 9ms/step - loss: 1.3383 - accuracy: 0.5510 - mse: 0.2349 - val_loss: 0.7588 - val_accuracy: 0.9774 - val_mse: 0.0220\n",
            "Epoch 46/250\n",
            "182/182 [==============================] - 2s 9ms/step - loss: 1.1385 - accuracy: 0.7714 - mse: 0.1639 - val_loss: 1.6094 - val_accuracy: 0.0463 - val_mse: 0.3829\n",
            "Epoch 47/250\n",
            "182/182 [==============================] - 2s 9ms/step - loss: 1.2605 - accuracy: 0.6403 - mse: 0.2188 - val_loss: 1.5018 - val_accuracy: 0.1850 - val_mse: 0.3407\n",
            "Epoch 48/250\n",
            "182/182 [==============================] - 2s 8ms/step - loss: 1.1904 - accuracy: 0.6925 - mse: 0.1983 - val_loss: 1.0834 - val_accuracy: 0.7067 - val_mse: 0.1625\n",
            "Epoch 49/250\n",
            "182/182 [==============================] - 2s 8ms/step - loss: 1.1023 - accuracy: 0.7587 - mse: 0.1701 - val_loss: 0.6606 - val_accuracy: 0.9754 - val_mse: 0.0198\n",
            "Epoch 50/250\n",
            "182/182 [==============================] - 2s 9ms/step - loss: 0.9999 - accuracy: 0.8257 - mse: 0.1369 - val_loss: 0.7367 - val_accuracy: 0.9331 - val_mse: 0.0502\n",
            "Epoch 51/250\n",
            "182/182 [==============================] - 2s 9ms/step - loss: 0.9439 - accuracy: 0.8427 - mse: 0.1217 - val_loss: 1.0364 - val_accuracy: 0.7037 - val_mse: 0.1811\n",
            "Epoch 52/250\n",
            "182/182 [==============================] - 2s 8ms/step - loss: 0.8988 - accuracy: 0.8585 - mse: 0.1117 - val_loss: 0.5840 - val_accuracy: 0.9783 - val_mse: 0.0162\n",
            "Epoch 53/250\n",
            "182/182 [==============================] - 2s 8ms/step - loss: 0.8789 - accuracy: 0.8602 - mse: 0.1097 - val_loss: 0.7766 - val_accuracy: 0.8740 - val_mse: 0.0830\n",
            "Epoch 54/250\n",
            "182/182 [==============================] - 2s 8ms/step - loss: 0.9410 - accuracy: 0.8052 - mse: 0.1428 - val_loss: 0.5732 - val_accuracy: 0.9636 - val_mse: 0.0232\n",
            "Epoch 55/250\n",
            "182/182 [==============================] - 2s 9ms/step - loss: 0.7733 - accuracy: 0.9050 - mse: 0.0828 - val_loss: 0.6768 - val_accuracy: 0.8967 - val_mse: 0.0668\n",
            "Epoch 56/250\n",
            "182/182 [==============================] - 2s 8ms/step - loss: 0.8033 - accuracy: 0.8760 - mse: 0.0980 - val_loss: 2.0413 - val_accuracy: 0.0945 - val_mse: 0.6099\n",
            "Epoch 57/250\n",
            "182/182 [==============================] - 2s 8ms/step - loss: 0.8796 - accuracy: 0.8183 - mse: 0.1373 - val_loss: 0.5384 - val_accuracy: 0.9695 - val_mse: 0.0224\n",
            "Epoch 58/250\n",
            "182/182 [==============================] - 2s 9ms/step - loss: 0.7435 - accuracy: 0.8915 - mse: 0.0889 - val_loss: 0.5668 - val_accuracy: 0.9478 - val_mse: 0.0375\n",
            "Epoch 59/250\n",
            "182/182 [==============================] - 2s 9ms/step - loss: 0.8241 - accuracy: 0.8333 - mse: 0.1268 - val_loss: 0.4701 - val_accuracy: 0.9793 - val_mse: 0.0139\n",
            "Epoch 60/250\n",
            "182/182 [==============================] - 2s 9ms/step - loss: 0.6834 - accuracy: 0.9063 - mse: 0.0778 - val_loss: 0.4939 - val_accuracy: 0.9606 - val_mse: 0.0268\n",
            "Epoch 61/250\n",
            "182/182 [==============================] - 2s 9ms/step - loss: 0.6431 - accuracy: 0.9243 - mse: 0.0663 - val_loss: 0.4950 - val_accuracy: 0.9547 - val_mse: 0.0316\n",
            "Epoch 62/250\n",
            "182/182 [==============================] - 2s 9ms/step - loss: 0.6454 - accuracy: 0.9126 - mse: 0.0732 - val_loss: 0.4421 - val_accuracy: 0.9764 - val_mse: 0.0176\n",
            "Epoch 63/250\n",
            "182/182 [==============================] - 2s 9ms/step - loss: 0.6221 - accuracy: 0.9195 - mse: 0.0687 - val_loss: 0.4415 - val_accuracy: 0.9665 - val_mse: 0.0218\n",
            "Epoch 64/250\n",
            "182/182 [==============================] - 2s 8ms/step - loss: 0.6038 - accuracy: 0.9242 - mse: 0.0663 - val_loss: 0.4150 - val_accuracy: 0.9774 - val_mse: 0.0164\n",
            "Epoch 65/250\n",
            "182/182 [==============================] - 2s 8ms/step - loss: 0.5912 - accuracy: 0.9224 - mse: 0.0662 - val_loss: 0.3922 - val_accuracy: 0.9833 - val_mse: 0.0123\n",
            "Epoch 66/250\n",
            "182/182 [==============================] - 2s 9ms/step - loss: 0.8721 - accuracy: 0.7589 - mse: 0.1744 - val_loss: 0.3888 - val_accuracy: 0.9833 - val_mse: 0.0139\n",
            "Epoch 67/250\n",
            "182/182 [==============================] - 2s 9ms/step - loss: 0.7840 - accuracy: 0.7904 - mse: 0.1495 - val_loss: 0.4241 - val_accuracy: 0.9587 - val_mse: 0.0279\n",
            "Epoch 68/250\n",
            "182/182 [==============================] - 2s 8ms/step - loss: 0.7293 - accuracy: 0.8210 - mse: 0.1337 - val_loss: 0.3817 - val_accuracy: 0.9764 - val_mse: 0.0179\n",
            "Epoch 69/250\n",
            "182/182 [==============================] - 2s 9ms/step - loss: 0.7683 - accuracy: 0.7824 - mse: 0.1543 - val_loss: 0.3623 - val_accuracy: 0.9793 - val_mse: 0.0155\n",
            "Epoch 70/250\n",
            "182/182 [==============================] - 2s 9ms/step - loss: 0.7183 - accuracy: 0.8115 - mse: 0.1382 - val_loss: 0.4266 - val_accuracy: 0.9360 - val_mse: 0.0412\n",
            "Epoch 71/250\n",
            "182/182 [==============================] - 2s 8ms/step - loss: 0.6802 - accuracy: 0.8353 - mse: 0.1255 - val_loss: 1.5145 - val_accuracy: 0.1939 - val_mse: 0.4843\n",
            "Epoch 72/250\n",
            "182/182 [==============================] - 2s 9ms/step - loss: 0.6540 - accuracy: 0.8483 - mse: 0.1174 - val_loss: 0.3424 - val_accuracy: 0.9734 - val_mse: 0.0181\n",
            "Epoch 73/250\n",
            "182/182 [==============================] - 2s 9ms/step - loss: 0.5610 - accuracy: 0.8939 - mse: 0.0846 - val_loss: 0.3416 - val_accuracy: 0.9656 - val_mse: 0.0217\n",
            "Epoch 74/250\n",
            "182/182 [==============================] - 2s 9ms/step - loss: 0.6539 - accuracy: 0.8441 - mse: 0.1209 - val_loss: 0.3558 - val_accuracy: 0.9587 - val_mse: 0.0278\n",
            "Epoch 75/250\n",
            "182/182 [==============================] - 2s 9ms/step - loss: 0.6307 - accuracy: 0.8507 - mse: 0.1178 - val_loss: 0.3034 - val_accuracy: 0.9813 - val_mse: 0.0135\n",
            "Epoch 76/250\n",
            "182/182 [==============================] - 2s 9ms/step - loss: 0.4617 - accuracy: 0.9393 - mse: 0.0551 - val_loss: 0.3332 - val_accuracy: 0.9616 - val_mse: 0.0268\n",
            "Epoch 77/250\n",
            "182/182 [==============================] - 2s 8ms/step - loss: 0.5297 - accuracy: 0.8953 - mse: 0.0840 - val_loss: 0.3161 - val_accuracy: 0.9656 - val_mse: 0.0232\n",
            "Epoch 78/250\n",
            "182/182 [==============================] - 2s 8ms/step - loss: 0.4491 - accuracy: 0.9334 - mse: 0.0568 - val_loss: 0.2943 - val_accuracy: 0.9774 - val_mse: 0.0170\n",
            "Epoch 79/250\n",
            "182/182 [==============================] - 2s 10ms/step - loss: 0.4855 - accuracy: 0.9141 - mse: 0.0708 - val_loss: 0.2885 - val_accuracy: 0.9783 - val_mse: 0.0165\n",
            "Epoch 80/250\n",
            "182/182 [==============================] - 2s 9ms/step - loss: 0.5199 - accuracy: 0.8955 - mse: 0.0863 - val_loss: 0.2978 - val_accuracy: 0.9636 - val_mse: 0.0230\n",
            "Epoch 81/250\n",
            "182/182 [==============================] - 2s 8ms/step - loss: 0.4862 - accuracy: 0.9066 - mse: 0.0765 - val_loss: 0.2652 - val_accuracy: 0.9833 - val_mse: 0.0133\n",
            "Epoch 82/250\n",
            "182/182 [==============================] - 2s 9ms/step - loss: 0.4965 - accuracy: 0.9007 - mse: 0.0802 - val_loss: 0.2929 - val_accuracy: 0.9715 - val_mse: 0.0215\n",
            "Epoch 83/250\n",
            "182/182 [==============================] - 2s 8ms/step - loss: 0.4345 - accuracy: 0.9258 - mse: 0.0615 - val_loss: 0.2823 - val_accuracy: 0.9636 - val_mse: 0.0226\n",
            "Epoch 84/250\n",
            "182/182 [==============================] - 2s 9ms/step - loss: 0.3945 - accuracy: 0.9399 - mse: 0.0499 - val_loss: 0.2493 - val_accuracy: 0.9813 - val_mse: 0.0134\n",
            "Epoch 85/250\n",
            "182/182 [==============================] - 2s 9ms/step - loss: 0.3503 - accuracy: 0.9557 - mse: 0.0372 - val_loss: 0.2533 - val_accuracy: 0.9803 - val_mse: 0.0159\n",
            "Epoch 86/250\n",
            "182/182 [==============================] - 2s 8ms/step - loss: 0.3946 - accuracy: 0.9378 - mse: 0.0532 - val_loss: 0.2389 - val_accuracy: 0.9813 - val_mse: 0.0132\n",
            "Epoch 87/250\n",
            "182/182 [==============================] - 2s 9ms/step - loss: 0.3699 - accuracy: 0.9434 - mse: 0.0473 - val_loss: 0.2628 - val_accuracy: 0.9685 - val_mse: 0.0232\n",
            "Epoch 88/250\n",
            "182/182 [==============================] - 2s 9ms/step - loss: 0.3419 - accuracy: 0.9529 - mse: 0.0390 - val_loss: 0.2390 - val_accuracy: 0.9793 - val_mse: 0.0162\n",
            "Epoch 89/250\n",
            "182/182 [==============================] - 2s 9ms/step - loss: 0.3313 - accuracy: 0.9547 - mse: 0.0381 - val_loss: 0.2314 - val_accuracy: 0.9803 - val_mse: 0.0153\n",
            "Epoch 90/250\n",
            "182/182 [==============================] - 2s 10ms/step - loss: 0.3240 - accuracy: 0.9580 - mse: 0.0375 - val_loss: 0.4677 - val_accuracy: 0.8465 - val_mse: 0.0979\n",
            "Epoch 91/250\n",
            "182/182 [==============================] - 2s 9ms/step - loss: 0.3490 - accuracy: 0.9434 - mse: 0.0465 - val_loss: 0.2206 - val_accuracy: 0.9813 - val_mse: 0.0144\n",
            "Epoch 92/250\n",
            "182/182 [==============================] - 2s 9ms/step - loss: 0.3558 - accuracy: 0.9432 - mse: 0.0491 - val_loss: 0.2169 - val_accuracy: 0.9813 - val_mse: 0.0146\n",
            "Epoch 93/250\n",
            "182/182 [==============================] - 2s 10ms/step - loss: 0.4226 - accuracy: 0.9142 - mse: 0.0738 - val_loss: 0.2417 - val_accuracy: 0.9616 - val_mse: 0.0251\n",
            "Epoch 94/250\n",
            "182/182 [==============================] - 2s 9ms/step - loss: 0.3654 - accuracy: 0.9341 - mse: 0.0562 - val_loss: 0.1995 - val_accuracy: 0.9862 - val_mse: 0.0113\n",
            "Epoch 95/250\n",
            "182/182 [==============================] - 2s 9ms/step - loss: 0.5187 - accuracy: 0.8578 - mse: 0.1141 - val_loss: 0.3246 - val_accuracy: 0.9203 - val_mse: 0.0539\n",
            "Epoch 96/250\n",
            "182/182 [==============================] - 2s 10ms/step - loss: 0.5174 - accuracy: 0.8458 - mse: 0.1172 - val_loss: 0.2028 - val_accuracy: 0.9764 - val_mse: 0.0156\n",
            "Epoch 97/250\n",
            "182/182 [==============================] - 2s 9ms/step - loss: 0.4293 - accuracy: 0.9023 - mse: 0.0816 - val_loss: 0.1952 - val_accuracy: 0.9813 - val_mse: 0.0142\n",
            "Epoch 98/250\n",
            "182/182 [==============================] - 2s 9ms/step - loss: 0.3785 - accuracy: 0.9189 - mse: 0.0668 - val_loss: 0.1895 - val_accuracy: 0.9823 - val_mse: 0.0134\n",
            "Epoch 99/250\n",
            "182/182 [==============================] - 2s 9ms/step - loss: 0.3459 - accuracy: 0.9352 - mse: 0.0563 - val_loss: 0.1913 - val_accuracy: 0.9774 - val_mse: 0.0151\n",
            "Epoch 100/250\n",
            "182/182 [==============================] - 2s 9ms/step - loss: 0.2892 - accuracy: 0.9588 - mse: 0.0366 - val_loss: 0.1856 - val_accuracy: 0.9813 - val_mse: 0.0141\n",
            "Epoch 101/250\n",
            "182/182 [==============================] - 2s 10ms/step - loss: 0.2752 - accuracy: 0.9637 - mse: 0.0338 - val_loss: 0.1815 - val_accuracy: 0.9833 - val_mse: 0.0138\n",
            "Epoch 102/250\n",
            "182/182 [==============================] - 2s 9ms/step - loss: 0.3184 - accuracy: 0.9420 - mse: 0.0498 - val_loss: 0.1798 - val_accuracy: 0.9833 - val_mse: 0.0139\n",
            "Epoch 103/250\n",
            "182/182 [==============================] - 2s 9ms/step - loss: 0.2773 - accuracy: 0.9566 - mse: 0.0365 - val_loss: 0.1921 - val_accuracy: 0.9803 - val_mse: 0.0169\n",
            "Epoch 104/250\n",
            "182/182 [==============================] - 2s 9ms/step - loss: 0.4774 - accuracy: 0.8712 - mse: 0.1071 - val_loss: 0.1940 - val_accuracy: 0.9695 - val_mse: 0.0198\n",
            "Epoch 105/250\n",
            "182/182 [==============================] - 2s 8ms/step - loss: 0.3243 - accuracy: 0.9367 - mse: 0.0536 - val_loss: 0.1812 - val_accuracy: 0.9754 - val_mse: 0.0165\n",
            "Epoch 106/250\n",
            "182/182 [==============================] - 2s 9ms/step - loss: 0.3583 - accuracy: 0.9243 - mse: 0.0660 - val_loss: 0.1679 - val_accuracy: 0.9833 - val_mse: 0.0131\n",
            "Epoch 107/250\n",
            "182/182 [==============================] - 2s 9ms/step - loss: 0.3743 - accuracy: 0.9124 - mse: 0.0720 - val_loss: 0.1737 - val_accuracy: 0.9774 - val_mse: 0.0159\n",
            "Epoch 108/250\n",
            "182/182 [==============================] - 2s 9ms/step - loss: 0.3242 - accuracy: 0.9320 - mse: 0.0562 - val_loss: 0.1660 - val_accuracy: 0.9813 - val_mse: 0.0140\n",
            "Epoch 109/250\n",
            "182/182 [==============================] - 2s 9ms/step - loss: 0.3335 - accuracy: 0.9294 - mse: 0.0586 - val_loss: 0.1684 - val_accuracy: 0.9783 - val_mse: 0.0151\n",
            "Epoch 110/250\n",
            "182/182 [==============================] - 2s 8ms/step - loss: 0.3664 - accuracy: 0.9154 - mse: 0.0708 - val_loss: 0.1986 - val_accuracy: 0.9646 - val_mse: 0.0253\n",
            "Epoch 111/250\n",
            "182/182 [==============================] - 2s 9ms/step - loss: 0.3292 - accuracy: 0.9306 - mse: 0.0595 - val_loss: 0.1531 - val_accuracy: 0.9843 - val_mse: 0.0116\n",
            "Epoch 112/250\n",
            "182/182 [==============================] - 2s 9ms/step - loss: 0.2755 - accuracy: 0.9529 - mse: 0.0416 - val_loss: 0.1608 - val_accuracy: 0.9783 - val_mse: 0.0150\n",
            "Epoch 113/250\n",
            "182/182 [==============================] - 2s 8ms/step - loss: 0.2597 - accuracy: 0.9577 - mse: 0.0379 - val_loss: 0.1518 - val_accuracy: 0.9823 - val_mse: 0.0127\n",
            "Epoch 114/250\n",
            "182/182 [==============================] - 2s 9ms/step - loss: 0.2675 - accuracy: 0.9520 - mse: 0.0411 - val_loss: 0.1529 - val_accuracy: 0.9823 - val_mse: 0.0137\n",
            "Epoch 115/250\n",
            "182/182 [==============================] - 2s 9ms/step - loss: 0.3087 - accuracy: 0.9353 - mse: 0.0554 - val_loss: 0.1509 - val_accuracy: 0.9823 - val_mse: 0.0135\n",
            "Epoch 116/250\n",
            "182/182 [==============================] - 2s 9ms/step - loss: 0.2477 - accuracy: 0.9570 - mse: 0.0362 - val_loss: 0.2558 - val_accuracy: 0.9409 - val_mse: 0.0465\n",
            "Epoch 117/250\n",
            "182/182 [==============================] - 2s 9ms/step - loss: 0.3592 - accuracy: 0.9107 - mse: 0.0734 - val_loss: 0.1564 - val_accuracy: 0.9793 - val_mse: 0.0161\n",
            "Epoch 118/250\n",
            "182/182 [==============================] - 2s 8ms/step - loss: 0.2487 - accuracy: 0.9602 - mse: 0.0364 - val_loss: 0.1850 - val_accuracy: 0.9656 - val_mse: 0.0242\n",
            "Epoch 119/250\n",
            "182/182 [==============================] - 2s 9ms/step - loss: 0.3549 - accuracy: 0.9142 - mse: 0.0718 - val_loss: 0.1485 - val_accuracy: 0.9833 - val_mse: 0.0138\n",
            "Epoch 120/250\n",
            "182/182 [==============================] - 2s 9ms/step - loss: 0.2188 - accuracy: 0.9702 - mse: 0.0271 - val_loss: 0.1444 - val_accuracy: 0.9833 - val_mse: 0.0137\n",
            "Epoch 121/250\n",
            "182/182 [==============================] - 2s 9ms/step - loss: 0.2437 - accuracy: 0.9596 - mse: 0.0371 - val_loss: 0.1371 - val_accuracy: 0.9852 - val_mse: 0.0114\n",
            "Epoch 122/250\n",
            "182/182 [==============================] - 2s 9ms/step - loss: 0.3276 - accuracy: 0.9244 - mse: 0.0651 - val_loss: 0.2424 - val_accuracy: 0.9311 - val_mse: 0.0475\n",
            "Epoch 123/250\n",
            "182/182 [==============================] - 2s 9ms/step - loss: 0.2566 - accuracy: 0.9504 - mse: 0.0417 - val_loss: 0.1609 - val_accuracy: 0.9715 - val_mse: 0.0202\n",
            "Epoch 124/250\n",
            "182/182 [==============================] - 2s 9ms/step - loss: 0.3031 - accuracy: 0.9342 - mse: 0.0577 - val_loss: 0.1461 - val_accuracy: 0.9764 - val_mse: 0.0165\n",
            "Epoch 125/250\n",
            "182/182 [==============================] - 2s 9ms/step - loss: 0.3456 - accuracy: 0.9137 - mse: 0.0725 - val_loss: 0.1406 - val_accuracy: 0.9803 - val_mse: 0.0150\n",
            "Epoch 126/250\n",
            "182/182 [==============================] - 2s 8ms/step - loss: 0.2799 - accuracy: 0.9421 - mse: 0.0511 - val_loss: 0.1577 - val_accuracy: 0.9734 - val_mse: 0.0196\n",
            "Epoch 127/250\n",
            "182/182 [==============================] - 2s 9ms/step - loss: 0.3280 - accuracy: 0.9203 - mse: 0.0688 - val_loss: 0.1316 - val_accuracy: 0.9823 - val_mse: 0.0132\n",
            "Epoch 128/250\n",
            "182/182 [==============================] - 2s 10ms/step - loss: 0.2518 - accuracy: 0.9491 - mse: 0.0438 - val_loss: 0.1334 - val_accuracy: 0.9803 - val_mse: 0.0145\n",
            "Epoch 129/250\n",
            "182/182 [==============================] - 2s 9ms/step - loss: 0.2521 - accuracy: 0.9500 - mse: 0.0436 - val_loss: 0.1815 - val_accuracy: 0.9567 - val_mse: 0.0309\n",
            "Epoch 130/250\n",
            "182/182 [==============================] - 2s 9ms/step - loss: 0.3210 - accuracy: 0.9198 - mse: 0.0671 - val_loss: 0.1410 - val_accuracy: 0.9813 - val_mse: 0.0145\n",
            "Epoch 131/250\n",
            "182/182 [==============================] - 2s 9ms/step - loss: 0.3429 - accuracy: 0.9091 - mse: 0.0755 - val_loss: 0.1399 - val_accuracy: 0.9793 - val_mse: 0.0148\n",
            "Epoch 132/250\n",
            "182/182 [==============================] - 2s 9ms/step - loss: 0.3716 - accuracy: 0.8935 - mse: 0.0877 - val_loss: 0.1317 - val_accuracy: 0.9813 - val_mse: 0.0133\n",
            "Epoch 133/250\n",
            "182/182 [==============================] - 2s 9ms/step - loss: 0.3670 - accuracy: 0.8960 - mse: 0.0862 - val_loss: 0.1301 - val_accuracy: 0.9803 - val_mse: 0.0149\n",
            "Epoch 134/250\n",
            "182/182 [==============================] - 2s 10ms/step - loss: 0.3318 - accuracy: 0.9192 - mse: 0.0696 - val_loss: 0.1408 - val_accuracy: 0.9774 - val_mse: 0.0174\n",
            "Epoch 135/250\n",
            "182/182 [==============================] - 2s 9ms/step - loss: 0.4143 - accuracy: 0.8715 - mse: 0.1042 - val_loss: 0.1481 - val_accuracy: 0.9715 - val_mse: 0.0196\n",
            "Epoch 136/250\n",
            "182/182 [==============================] - 2s 10ms/step - loss: 0.4331 - accuracy: 0.8535 - mse: 0.1136 - val_loss: 0.2284 - val_accuracy: 0.9350 - val_mse: 0.0443\n",
            "Epoch 137/250\n",
            "182/182 [==============================] - 2s 9ms/step - loss: 0.4453 - accuracy: 0.8433 - mse: 0.1190 - val_loss: 0.1185 - val_accuracy: 0.9823 - val_mse: 0.0120\n",
            "Epoch 138/250\n",
            "182/182 [==============================] - 2s 9ms/step - loss: 0.3045 - accuracy: 0.9239 - mse: 0.0651 - val_loss: 0.2351 - val_accuracy: 0.9341 - val_mse: 0.0486\n",
            "Epoch 139/250\n",
            "182/182 [==============================] - 2s 9ms/step - loss: 0.4157 - accuracy: 0.8703 - mse: 0.1063 - val_loss: 0.1285 - val_accuracy: 0.9764 - val_mse: 0.0167\n",
            "Epoch 140/250\n",
            "182/182 [==============================] - 2s 10ms/step - loss: 0.3047 - accuracy: 0.9214 - mse: 0.0657 - val_loss: 0.1413 - val_accuracy: 0.9665 - val_mse: 0.0215\n",
            "Epoch 141/250\n",
            "182/182 [==============================] - 2s 9ms/step - loss: 0.2970 - accuracy: 0.9256 - mse: 0.0638 - val_loss: 0.1195 - val_accuracy: 0.9843 - val_mse: 0.0130\n",
            "Epoch 142/250\n",
            "182/182 [==============================] - 2s 9ms/step - loss: 0.4944 - accuracy: 0.8178 - mse: 0.1390 - val_loss: 0.1183 - val_accuracy: 0.9823 - val_mse: 0.0129\n",
            "Epoch 143/250\n",
            "182/182 [==============================] - 2s 9ms/step - loss: 0.4673 - accuracy: 0.8227 - mse: 0.1316 - val_loss: 0.1169 - val_accuracy: 0.9793 - val_mse: 0.0141\n",
            "Epoch 144/250\n",
            "182/182 [==============================] - 2s 9ms/step - loss: 0.2964 - accuracy: 0.9303 - mse: 0.0635 - val_loss: 0.1122 - val_accuracy: 0.9833 - val_mse: 0.0127\n",
            "Epoch 145/250\n",
            "182/182 [==============================] - 2s 9ms/step - loss: 0.3133 - accuracy: 0.9183 - mse: 0.0702 - val_loss: 0.1135 - val_accuracy: 0.9813 - val_mse: 0.0132\n",
            "Epoch 146/250\n",
            "182/182 [==============================] - 2s 9ms/step - loss: 0.2997 - accuracy: 0.9221 - mse: 0.0660 - val_loss: 0.1299 - val_accuracy: 0.9705 - val_mse: 0.0199\n",
            "Epoch 147/250\n",
            "182/182 [==============================] - 2s 9ms/step - loss: 0.2845 - accuracy: 0.9308 - mse: 0.0603 - val_loss: 0.1342 - val_accuracy: 0.9764 - val_mse: 0.0188\n",
            "Epoch 148/250\n",
            "182/182 [==============================] - 2s 9ms/step - loss: 0.3141 - accuracy: 0.9153 - mse: 0.0718 - val_loss: 0.1200 - val_accuracy: 0.9783 - val_mse: 0.0165\n",
            "Epoch 149/250\n",
            "182/182 [==============================] - 2s 9ms/step - loss: 0.3416 - accuracy: 0.9032 - mse: 0.0811 - val_loss: 0.1303 - val_accuracy: 0.9695 - val_mse: 0.0207\n",
            "Epoch 150/250\n",
            "182/182 [==============================] - 2s 9ms/step - loss: 0.2753 - accuracy: 0.9332 - mse: 0.0587 - val_loss: 0.1304 - val_accuracy: 0.9715 - val_mse: 0.0187\n",
            "Epoch 151/250\n",
            "182/182 [==============================] - 2s 9ms/step - loss: 0.2859 - accuracy: 0.9277 - mse: 0.0623 - val_loss: 0.1068 - val_accuracy: 0.9843 - val_mse: 0.0121\n",
            "Epoch 152/250\n",
            "182/182 [==============================] - 2s 9ms/step - loss: 0.2666 - accuracy: 0.9372 - mse: 0.0557 - val_loss: 0.1092 - val_accuracy: 0.9813 - val_mse: 0.0136\n",
            "Epoch 153/250\n",
            "182/182 [==============================] - 2s 9ms/step - loss: 0.2893 - accuracy: 0.9242 - mse: 0.0640 - val_loss: 0.1027 - val_accuracy: 0.9843 - val_mse: 0.0113\n",
            "Epoch 154/250\n",
            "182/182 [==============================] - 2s 9ms/step - loss: 0.3992 - accuracy: 0.8724 - mse: 0.1044 - val_loss: 0.1109 - val_accuracy: 0.9793 - val_mse: 0.0148\n",
            "Epoch 155/250\n",
            "182/182 [==============================] - 2s 9ms/step - loss: 0.2981 - accuracy: 0.9190 - mse: 0.0680 - val_loss: 0.1255 - val_accuracy: 0.9734 - val_mse: 0.0183\n",
            "Epoch 156/250\n",
            "182/182 [==============================] - 2s 9ms/step - loss: 0.4197 - accuracy: 0.8548 - mse: 0.1149 - val_loss: 0.2274 - val_accuracy: 0.9222 - val_mse: 0.0535\n",
            "Epoch 157/250\n",
            "182/182 [==============================] - 2s 10ms/step - loss: 0.2968 - accuracy: 0.9213 - mse: 0.0681 - val_loss: 0.1007 - val_accuracy: 0.9843 - val_mse: 0.0114\n",
            "Epoch 158/250\n",
            "182/182 [==============================] - 2s 9ms/step - loss: 0.2643 - accuracy: 0.9358 - mse: 0.0566 - val_loss: 0.1235 - val_accuracy: 0.9705 - val_mse: 0.0210\n",
            "Epoch 159/250\n",
            "182/182 [==============================] - 2s 9ms/step - loss: 0.2684 - accuracy: 0.9313 - mse: 0.0589 - val_loss: 0.1309 - val_accuracy: 0.9665 - val_mse: 0.0215\n",
            "Epoch 160/250\n",
            "182/182 [==============================] - 2s 10ms/step - loss: 0.4531 - accuracy: 0.8413 - mse: 0.1271 - val_loss: 0.1343 - val_accuracy: 0.9636 - val_mse: 0.0254\n",
            "Epoch 161/250\n",
            "182/182 [==============================] - 2s 10ms/step - loss: 0.2700 - accuracy: 0.9338 - mse: 0.0590 - val_loss: 0.1011 - val_accuracy: 0.9823 - val_mse: 0.0129\n",
            "Epoch 162/250\n",
            "182/182 [==============================] - 2s 9ms/step - loss: 0.3474 - accuracy: 0.8940 - mse: 0.0876 - val_loss: 0.1081 - val_accuracy: 0.9833 - val_mse: 0.0137\n",
            "Epoch 163/250\n",
            "182/182 [==============================] - 2s 9ms/step - loss: 0.4189 - accuracy: 0.8474 - mse: 0.1174 - val_loss: 0.1115 - val_accuracy: 0.9813 - val_mse: 0.0155\n",
            "Epoch 164/250\n",
            "182/182 [==============================] - 2s 9ms/step - loss: 0.4283 - accuracy: 0.8421 - mse: 0.1217 - val_loss: 0.2033 - val_accuracy: 0.9242 - val_mse: 0.0486\n",
            "Epoch 165/250\n",
            "182/182 [==============================] - 2s 9ms/step - loss: 0.4041 - accuracy: 0.8564 - mse: 0.1119 - val_loss: 1.2965 - val_accuracy: 0.2175 - val_mse: 0.4899\n",
            "Epoch 166/250\n",
            "182/182 [==============================] - 2s 9ms/step - loss: 0.4135 - accuracy: 0.8465 - mse: 0.1156 - val_loss: 0.1147 - val_accuracy: 0.9774 - val_mse: 0.0175\n",
            "Epoch 167/250\n",
            "182/182 [==============================] - 2s 10ms/step - loss: 0.3710 - accuracy: 0.8943 - mse: 0.0995 - val_loss: 0.1317 - val_accuracy: 0.9606 - val_mse: 0.0261\n",
            "Model: \"sequential_3\"\n",
            "_________________________________________________________________\n",
            "Layer (type)                 Output Shape              Param #   \n",
            "=================================================================\n",
            "dense_6 (Dense)              (None, 256)               12583168  \n",
            "_________________________________________________________________\n",
            "dropout_3 (Dropout)          (None, 256)               0         \n",
            "_________________________________________________________________\n",
            "dense_7 (Dense)              (None, 64)                16448     \n",
            "_________________________________________________________________\n",
            "dropout_4 (Dropout)          (None, 64)                0         \n",
            "_________________________________________________________________\n",
            "dense_8 (Dense)              (None, 16)                1040      \n",
            "_________________________________________________________________\n",
            "dropout_5 (Dropout)          (None, 16)                0         \n",
            "_________________________________________________________________\n",
            "dense_9 (Dense)              (None, 2)                 34        \n",
            "=================================================================\n",
            "Total params: 12,600,690\n",
            "Trainable params: 12,600,690\n",
            "Non-trainable params: 0\n",
            "_________________________________________________________________\n",
            "1624504579.6778085\n",
            "Full runtime: 277.25507736206055\n"
          ],
          "name": "stdout"
        }
      ]
    },
    {
      "cell_type": "code",
      "metadata": {
        "id": "b3c28165"
      },
      "source": [
        ""
      ],
      "id": "b3c28165",
      "execution_count": null,
      "outputs": []
    }
  ]
}