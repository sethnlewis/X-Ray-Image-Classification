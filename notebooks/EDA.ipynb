{
  "nbformat": 4,
  "nbformat_minor": 5,
  "metadata": {
    "kernelspec": {
      "display_name": "Python 3",
      "language": "python",
      "name": "python3"
    },
    "language_info": {
      "codemirror_mode": {
        "name": "ipython",
        "version": 3
      },
      "file_extension": ".py",
      "mimetype": "text/x-python",
      "name": "python",
      "nbconvert_exporter": "python",
      "pygments_lexer": "ipython3",
      "version": "3.8.3"
    },
    "colab": {
      "name": "EDA.ipynb",
      "provenance": [],
      "toc_visible": true
    },
    "accelerator": "GPU"
  },
  "cells": [
    {
      "cell_type": "markdown",
      "metadata": {
        "id": "732a0b61"
      },
      "source": [
        "### Imports & declarations"
      ],
      "id": "732a0b61"
    },
    {
      "cell_type": "code",
      "metadata": {
        "colab": {
          "base_uri": "https://localhost:8080/"
        },
        "id": "9f066efb",
        "outputId": "ffc6733d-7a40-459e-f2ea-77e5df0cb97d"
      },
      "source": [
        "import numpy as np\n",
        "import pandas as pd\n",
        "import matplotlib.pyplot as plt\n",
        "import time\n",
        "\n",
        "from sklearn.model_selection import train_test_split\n",
        "\n",
        "import keras\n",
        "from keras.preprocessing.image import img_to_array, load_img, array_to_img, ImageDataGenerator\n",
        "from keras import regularizers\n",
        "from keras.callbacks import EarlyStopping, ModelCheckpoint\n",
        "from keras.models import Sequential\n",
        "from keras.layers import Dense, Dropout\n",
        "import tensorflow as tf\n",
        "\n",
        "LOCAL_PATH_MINI = '../data/raw/kaggle_mini_subsample'\n",
        "LOCAL_PATH_TRAIN = '../data/raw/train'\n",
        "COLAB_PATH_TRAIN = '/content/drive/MyDrive/Data Science/Colab Notebooks/Module 4 Project/data/raw/train'\n",
        "COLAB_PATH_MINI = '/content/drive/MyDrive/Data Science/Colab Notebooks/Module 4 Project/data/raw/mini_subsample'\n",
        "\n",
        "RANDOM_STATE = 2020\n",
        "\n",
        "# Comment when running locally, uncomment for Google Colab\n",
        "from google.colab import drive\n",
        "drive.mount('/content/drive')"
      ],
      "id": "9f066efb",
      "execution_count": 1,
      "outputs": [
        {
          "output_type": "stream",
          "text": [
            "Drive already mounted at /content/drive; to attempt to forcibly remount, call drive.mount(\"/content/drive\", force_remount=True).\n"
          ],
          "name": "stdout"
        }
      ]
    },
    {
      "cell_type": "markdown",
      "metadata": {
        "id": "dQYhzmEQz8Uo"
      },
      "source": [
        "### Define basic functions"
      ],
      "id": "dQYhzmEQz8Uo"
    },
    {
      "cell_type": "code",
      "metadata": {
        "id": "e9dbf694"
      },
      "source": [
        "def make_flat(x):\n",
        "    s = x.shape\n",
        "    dim_0 = s[0]\n",
        "    dim_1 = s[1]*s[2]*s[3]\n",
        "    x_flat = x.reshape(dim_0, dim_1)\n",
        "    shape = (x_flat.shape[1],)\n",
        "    return x_flat, shape"
      ],
      "id": "e9dbf694",
      "execution_count": 5,
      "outputs": []
    },
    {
      "cell_type": "markdown",
      "metadata": {
        "id": "d1598963"
      },
      "source": [
        "## Mini Dataset\n",
        "\n",
        "#### Import & Clean"
      ],
      "id": "d1598963"
    },
    {
      "cell_type": "code",
      "metadata": {
        "colab": {
          "base_uri": "https://localhost:8080/",
          "height": 212
        },
        "id": "54e67a51",
        "outputId": "c68ac526-6f26-4ad9-faf8-b93aae33162c"
      },
      "source": [
        "BATCH_SIZE = 250\n",
        "TARGET_SIZE = [128, 128]\n",
        "\n",
        "path = COLAB_PATH_MINI\n",
        "image_generator = ImageDataGenerator().flow_from_directory(path, batch_size=BATCH_SIZE, target_size=TARGET_SIZE);\n",
        "images, labels = next(image_generator)\n",
        "images_scaled = images / 255\n",
        "\n",
        "display('Example image:', array_to_img(images[0]))\n",
        "print('Indices:', image_generator.class_indices)\n",
        "print('Dataset shape:', images_scaled.shape)"
      ],
      "id": "54e67a51",
      "execution_count": null,
      "outputs": [
        {
          "output_type": "stream",
          "text": [
            "Found 186 images belonging to 2 classes.\n"
          ],
          "name": "stdout"
        },
        {
          "output_type": "display_data",
          "data": {
            "application/vnd.google.colaboratory.intrinsic+json": {
              "type": "string"
            },
            "text/plain": [
              "'Example image:'"
            ]
          },
          "metadata": {
            "tags": []
          }
        },
        {
          "output_type": "display_data",
          "data": {
            "image/png": "[encoded data removed]",
            "text/plain": [
              "<PIL.Image.Image image mode=RGB size=128x128 at 0x7F7A6D50DFD0>"
            ]
          },
          "metadata": {
            "tags": []
          }
        },
        {
          "output_type": "stream",
          "text": [
            "Indices: {'NORMAL': 0, 'PNEUMONIA': 1}\n",
            "Dataset shape: (186, 128, 128, 3)\n"
          ],
          "name": "stdout"
        }
      ]
    },
    {
      "cell_type": "markdown",
      "metadata": {
        "id": "OLEH1pCC02e2"
      },
      "source": [
        "#### Mini Dataset Model"
      ],
      "id": "OLEH1pCC02e2"
    },
    {
      "cell_type": "code",
      "metadata": {
        "colab": {
          "base_uri": "https://localhost:8080/"
        },
        "id": "9d5ef4de",
        "outputId": "ddc7380e-c330-4d5c-d026-ba9bdb4d2978"
      },
      "source": [
        "x, shape = make_flat(images_scaled)\n",
        "\n",
        "model = Sequential()\n",
        "model.add(Dense(8, activation='relu', input_shape = shape))\n",
        "model.add(Dense(2, activation='softmax'))\n",
        "model.compile(optimizer='SGD', loss='categorical_crossentropy', metrics=['accuracy'])\n",
        "\n",
        "history = model.fit(x=x, y=labels, epochs=50)\n",
        "\n",
        "model.summary()"
      ],
      "id": "9d5ef4de",
      "execution_count": null,
      "outputs": [
        {
          "output_type": "stream",
          "text": [
            "Model: \"sequential\"\n",
            "_________________________________________________________________\n",
            "Layer (type)                 Output Shape              Param #   \n",
            "=================================================================\n",
            "dense (Dense)                (None, 64)                3145792   \n",
            "_________________________________________________________________\n",
            "dense_1 (Dense)              (None, 2)                 130       \n",
            "=================================================================\n",
            "Total params: 3,145,922\n",
            "Trainable params: 3,145,922\n",
            "Non-trainable params: 0\n",
            "_________________________________________________________________\n"
          ],
          "name": "stdout"
        }
      ]
    },
    {
      "cell_type": "code",
      "metadata": {
        "colab": {
          "base_uri": "https://localhost:8080/",
          "height": 264
        },
        "id": "c5c7b171",
        "outputId": "2daaa142-f07d-4925-c134-b9a0f050ae03"
      },
      "source": [
        "acc = history.history['accuracy']\n",
        "plt.plot(range(len(acc)), acc);\n",
        "plt.title('Training accuracy for mini dataset')"
      ],
      "id": "c5c7b171",
      "execution_count": null,
      "outputs": [
        {
          "output_type": "display_data",
          "data": {
            "image/png": "[encoded data removed]",
            "text/plain": [
              "<Figure size 432x288 with 1 Axes>"
            ]
          },
          "metadata": {
            "tags": [],
            "needs_background": "light"
          }
        }
      ]
    },
    {
      "cell_type": "markdown",
      "metadata": {
        "id": "ksQpJcDYIrRp"
      },
      "source": [
        "## Full Dataset"
      ],
      "id": "ksQpJcDYIrRp"
    },
    {
      "cell_type": "markdown",
      "metadata": {
        "id": "wc6GVPzO1VfN"
      },
      "source": [
        "### Import and clean"
      ],
      "id": "wc6GVPzO1VfN"
    },
    {
      "cell_type": "code",
      "metadata": {
        "colab": {
          "base_uri": "https://localhost:8080/"
        },
        "id": "d4CEkFwmA7Wx",
        "outputId": "cf08acea-1403-488d-9a41-5d06e6ca10d5"
      },
      "source": [
        "path = COLAB_PATH_TRAIN\n",
        "BATCH_SIZE = 32\n",
        "data_tf = tf.keras.preprocessing.image_dataset_from_directory(path, \n",
        "                                                image_size=(256, 256), # WORKS UP TO 256\n",
        "                                                batch_size=BATCH_SIZE,\n",
        "                                                seed=RANDOM_STATE)\n",
        "\n",
        "for i, item in enumerate(data_tf.as_numpy_iterator()):\n",
        "    if i == 0:\n",
        "        images = np.array(item[0])\n",
        "        labels = np.array(item[1])\n",
        "    else:\n",
        "        images = np.concatenate([images, item[0]], axis=0)\n",
        "        labels = np.concatenate([labels, item[1]], axis=0)\n",
        "        if i % 10 == 0:\n",
        "            print(int(i/(5232/BATCH_SIZE)*100), '%')\n",
        "\n",
        "images /= 256\n",
        "\n",
        "labels_inverted = np.array([0 if i == 1 else 1 for i in labels])\n",
        "labels = np.concatenate([labels_inverted.reshape(-1,1), labels.reshape(-1,1)], axis=1)\n",
        "\n",
        "data_tf = None # clear RAM\n",
        "print('Data shape:', images.shape)\n",
        "print('Label shape:', labels.shape)"
      ],
      "id": "d4CEkFwmA7Wx",
      "execution_count": 6,
      "outputs": [
        {
          "output_type": "stream",
          "text": [
            "Found 5232 files belonging to 2 classes.\n",
            "3 %\n",
            "6 %\n",
            "9 %\n",
            "12 %\n",
            "15 %\n",
            "18 %\n",
            "21 %\n",
            "24 %\n",
            "27 %\n",
            "30 %\n",
            "33 %\n",
            "36 %\n",
            "39 %\n",
            "42 %\n",
            "45 %\n",
            "48 %\n",
            "51 %\n",
            "55 %\n",
            "58 %\n",
            "61 %\n",
            "64 %\n",
            "67 %\n",
            "70 %\n",
            "73 %\n",
            "76 %\n",
            "79 %\n",
            "82 %\n",
            "85 %\n",
            "88 %\n",
            "91 %\n",
            "94 %\n",
            "97 %\n",
            "Data shape: (5232, 256, 256, 3)\n",
            "Label shape: (5232, 2)\n"
          ],
          "name": "stdout"
        }
      ]
    },
    {
      "cell_type": "code",
      "metadata": {
        "id": "6d0cbcad"
      },
      "source": [
        "# BATCH_SIZE_TRAIN = 1341+3875\n",
        "# TARGET_SIZE = [256, 256]\n",
        "\n",
        "# path = COLAB_PATH_TRAIN\n",
        "\n",
        "# t0 = time.time()\n",
        "# generator = ImageDataGenerator().flow_from_directory(path,\n",
        "#                                                      #batch_size=BATCH_SIZE_TRAIN,\n",
        "#                                                      target_size=TARGET_SIZE)\n",
        "\n",
        "# images, labels = next(generator)\n",
        "# images = images / 256\n",
        "# t1 = time.time()\n",
        "\n",
        "# print('Runtime:', t1-t0)\n",
        "# print(images.shape, labels.shape)"
      ],
      "id": "6d0cbcad",
      "execution_count": 46,
      "outputs": []
    },
    {
      "cell_type": "markdown",
      "metadata": {
        "id": "xl_a04woKVND"
      },
      "source": [
        "### Baseline Model"
      ],
      "id": "xl_a04woKVND"
    },
    {
      "cell_type": "code",
      "metadata": {
        "id": "0SEPvkgXKUCC"
      },
      "source": [
        "x, shape = make_flat(images)\n",
        "\n",
        "model = Sequential()\n",
        "model.add(Dense(10, input_shape = shape))\n",
        "model.add(Dense(2, activation='softmax'))\n",
        "model.compile(optimizer='SGD', metrics=['accuracy', 'mse'], loss='categorical_crossentropy')\n",
        "\n",
        "\n",
        "history = model.fit(x=x, y=labels, \n",
        "                    epochs=100, \n",
        "                    validation_split=0.25)\n",
        "\n",
        "history.summary()\n",
        "history['val_acc']"
      ],
      "id": "0SEPvkgXKUCC",
      "execution_count": null,
      "outputs": []
    },
    {
      "cell_type": "markdown",
      "metadata": {
        "id": "36c570f5"
      },
      "source": [
        "### Define Early Stopping"
      ],
      "id": "36c570f5"
    },
    {
      "cell_type": "code",
      "metadata": {
        "collapsed": true,
        "jupyter": {
          "outputs_hidden": true
        },
        "tags": [],
        "id": "030b57f2"
      },
      "source": [
        "early_stopping = [EarlyStopping(monitor='val_loss', patience=10),\n",
        "                 ModelCheckpoint('best_model.h5', monitor='val_loss', save_best_only=True)]"
      ],
      "id": "030b57f2",
      "execution_count": null,
      "outputs": []
    },
    {
      "cell_type": "markdown",
      "metadata": {
        "id": "dadc79d8"
      },
      "source": [
        "### Entire train dataset, validation split"
      ],
      "id": "dadc79d8"
    },
    {
      "cell_type": "markdown",
      "metadata": {
        "id": "mMfhAbJJ2UmU"
      },
      "source": [
        "##### Create and fit model"
      ],
      "id": "mMfhAbJJ2UmU"
    },
    {
      "cell_type": "code",
      "metadata": {
        "colab": {
          "base_uri": "https://localhost:8080/",
          "height": 227
        },
        "id": "8e414b50",
        "outputId": "5908fbe4-ad3a-4679-d8a2-153e86da8df1"
      },
      "source": [
        "x, shape = make_flat(images)\n",
        "\n",
        "model = Sequential()\n",
        "model.add(Dense(32, activation='relu', input_shape = shape))\n",
        "model.add(Dense(2, activation='softmax'))\n",
        "model.compile(optimizer='SGD', loss='categorical_crossentropy', metrics=['accuracy', 'mse'])\n",
        "model.summary()\n",
        "\n",
        "history = model.fit(x=x, y=labels_train, \n",
        "                    callbacks = early_stopping,\n",
        "                    epochs=50, \n",
        "                    validation_split=0.25, \n",
        "                    verbose=2)\n",
        "\n",
        "best_model = keras.models.load_model('best_model.h5')\n",
        "display(best_model.summary())"
      ],
      "id": "8e414b50",
      "execution_count": 11,
      "outputs": [
        {
          "output_type": "error",
          "ename": "NameError",
          "evalue": "ignored",
          "traceback": [
            "\u001b[0;31m---------------------------------------------------------------------------\u001b[0m",
            "\u001b[0;31mNameError\u001b[0m                                 Traceback (most recent call last)",
            "\u001b[0;32m<ipython-input-11-ea6509587c4c>\u001b[0m in \u001b[0;36m<module>\u001b[0;34m()\u001b[0m\n\u001b[0;32m----> 1\u001b[0;31m \u001b[0mx\u001b[0m\u001b[0;34m,\u001b[0m \u001b[0mshape\u001b[0m \u001b[0;34m=\u001b[0m \u001b[0mreshape_flat\u001b[0m\u001b[0;34m(\u001b[0m\u001b[0mimages\u001b[0m\u001b[0;34m)\u001b[0m\u001b[0;34m\u001b[0m\u001b[0;34m\u001b[0m\u001b[0m\n\u001b[0m\u001b[1;32m      2\u001b[0m \u001b[0;34m\u001b[0m\u001b[0m\n\u001b[1;32m      3\u001b[0m \u001b[0mmodel\u001b[0m \u001b[0;34m=\u001b[0m \u001b[0mSequential\u001b[0m\u001b[0;34m(\u001b[0m\u001b[0;34m)\u001b[0m\u001b[0;34m\u001b[0m\u001b[0;34m\u001b[0m\u001b[0m\n\u001b[1;32m      4\u001b[0m \u001b[0mmodel\u001b[0m\u001b[0;34m.\u001b[0m\u001b[0madd\u001b[0m\u001b[0;34m(\u001b[0m\u001b[0mDense\u001b[0m\u001b[0;34m(\u001b[0m\u001b[0;36m32\u001b[0m\u001b[0;34m,\u001b[0m \u001b[0mactivation\u001b[0m\u001b[0;34m=\u001b[0m\u001b[0;34m'relu'\u001b[0m\u001b[0;34m,\u001b[0m \u001b[0minput_shape\u001b[0m \u001b[0;34m=\u001b[0m \u001b[0mshape\u001b[0m\u001b[0;34m)\u001b[0m\u001b[0;34m)\u001b[0m\u001b[0;34m\u001b[0m\u001b[0;34m\u001b[0m\u001b[0m\n\u001b[1;32m      5\u001b[0m \u001b[0mmodel\u001b[0m\u001b[0;34m.\u001b[0m\u001b[0madd\u001b[0m\u001b[0;34m(\u001b[0m\u001b[0mDense\u001b[0m\u001b[0;34m(\u001b[0m\u001b[0;36m2\u001b[0m\u001b[0;34m,\u001b[0m \u001b[0mactivation\u001b[0m\u001b[0;34m=\u001b[0m\u001b[0;34m'softmax'\u001b[0m\u001b[0;34m)\u001b[0m\u001b[0;34m)\u001b[0m\u001b[0;34m\u001b[0m\u001b[0;34m\u001b[0m\u001b[0m\n",
            "\u001b[0;31mNameError\u001b[0m: name 'reshape_flat' is not defined"
          ]
        }
      ]
    },
    {
      "cell_type": "markdown",
      "metadata": {
        "id": "pbxAIJ5Q2YKg"
      },
      "source": [
        "##### Plot results"
      ],
      "id": "pbxAIJ5Q2YKg"
    },
    {
      "cell_type": "code",
      "metadata": {
        "id": "d9a29ddb"
      },
      "source": [
        "acc_train = history.history['accuracy']\n",
        "acc_val = history.history['val_accuracy']\n",
        "epoch_ct = range(len(acc_train))\n",
        "\n",
        "plt.plot(epoch_ct, acc_train, label='Training')\n",
        "plt.plot(epoch_ct, acc_val, label='Validation')\n",
        "plt.title('Accuracy')\n",
        "plt.legend();"
      ],
      "id": "d9a29ddb",
      "execution_count": null,
      "outputs": []
    },
    {
      "cell_type": "code",
      "metadata": {
        "id": "aed436e4"
      },
      "source": [
        "history.history.keys()\n",
        "\n",
        "mse_train = history.history['mse']\n",
        "mse_val = history.history['val_mse']\n",
        "epoch_ct = range(len(mse_train))\n",
        "\n",
        "plt.plot(epoch_ct, mse_train, label='Training')\n",
        "plt.plot(epoch_ct, mse_val, label='Validation')\n",
        "plt.title('Mean Squared Error')\n",
        "plt.legend();"
      ],
      "id": "aed436e4",
      "execution_count": null,
      "outputs": []
    },
    {
      "cell_type": "markdown",
      "metadata": {
        "id": "0000c704"
      },
      "source": [
        "### Create balanced dataset"
      ],
      "id": "0000c704"
    },
    {
      "cell_type": "code",
      "metadata": {
        "id": "40b9bd14"
      },
      "source": [
        "x_train, x_val, y_train, y_val = train_test_split(images, labels, \n",
        "                                                  random_state=RANDOM_STATE, \n",
        "                                                  test_size = 0.25)\n",
        "images = None # clear memory"
      ],
      "id": "40b9bd14",
      "execution_count": 7,
      "outputs": []
    },
    {
      "cell_type": "code",
      "metadata": {
        "colab": {
          "base_uri": "https://localhost:8080/"
        },
        "id": "UG5vcXD-WWoJ",
        "outputId": "69cea260-d3e5-403a-c42c-7e5ed0521a5d"
      },
      "source": [
        "y_train.shape"
      ],
      "id": "UG5vcXD-WWoJ",
      "execution_count": 48,
      "outputs": [
        {
          "output_type": "execute_result",
          "data": {
            "text/plain": [
              "(3924, 2)"
            ]
          },
          "metadata": {
            "tags": []
          },
          "execution_count": 48
        }
      ]
    },
    {
      "cell_type": "code",
      "metadata": {
        "id": "7061134b",
        "colab": {
          "base_uri": "https://localhost:8080/"
        },
        "outputId": "603ab567-3ca4-4dba-9606-d873d1a016ec"
      },
      "source": [
        "# Oversample the minority class: \n",
        "# https://www.tensorflow.org/tutorials/structured_data/imbalanced_data#oversample_the_minority_class\n",
        "np.random.seed(RANDOM_STATE)\n",
        "\n",
        "\n",
        "ind_neg = y_train[:, 0]==1\n",
        "ind_pos = y_train[:, 0]==0\n",
        "\n",
        "neg_ct = ind_neg.sum()\n",
        "pos_ct = ind_pos.sum()\n",
        "print('NORMAL count:', neg_ct, ', PNEUMONIA count:', pos_ct)\n",
        "\n",
        "ids = np.arange(neg_ct)\n",
        "\n",
        "# Select random entries from the list of inputs\n",
        "ind_add_ons = np.random.choice(ids, size=pos_ct-neg_ct)\n",
        "add_ons_x = x_train[ind_neg][ind_add_ons]\n",
        "add_ons_y = y_train[ind_neg][ind_add_ons]\n",
        "\n",
        "x_train_balanced = np.concatenate([x_train, add_ons_x], axis=0)\n",
        "y_train_balanced = np.concatenate([y_train, add_ons_y], axis=0)\n",
        "print('Training sizes after resampling:', x_train_balanced.shape, y_train_balanced.shape)\n",
        "print('NORMAL count, PNEUMONIA count:', y_train_balanced.sum(axis=0))\n",
        "\n",
        "# clear memory\n",
        "x_train = None\n",
        "y_train = None"
      ],
      "id": "7061134b",
      "execution_count": 8,
      "outputs": [
        {
          "output_type": "stream",
          "text": [
            "NORMAL count: 1008 , PNEUMONIA count: 2916\n",
            "Training sizes after resampling: (5832, 256, 256, 3) (5832, 2)\n",
            "NORMAL count, PNEUMONIA count: [2916 2916]\n"
          ],
          "name": "stdout"
        }
      ]
    },
    {
      "cell_type": "markdown",
      "metadata": {
        "id": "wevtiXRS3I-r"
      },
      "source": [
        "### Create model with resampled dataset"
      ],
      "id": "wevtiXRS3I-r"
    },
    {
      "cell_type": "code",
      "metadata": {
        "id": "d0996c88"
      },
      "source": [
        "x_train_flat, shape = make_flat(x_train_balanced)\n",
        "x_val_flat, _ = make_flat(x_val)\n",
        "\n",
        "model = Sequential()\n",
        "model.add(Dense(8, activation='relu', input_shape = shape))\n",
        "model.add(Dense(2, activation='softmax'))\n",
        "model.compile(optimizer='SGD', loss='categorical_crossentropy', metrics=['accuracy', 'mse'])"
      ],
      "id": "d0996c88",
      "execution_count": null,
      "outputs": []
    },
    {
      "cell_type": "code",
      "metadata": {
        "collapsed": true,
        "jupyter": {
          "outputs_hidden": true
        },
        "tags": [],
        "id": "e9ae95b3"
      },
      "source": [
        "history = model.fit(x=x_train_flat, y=y_train_balanced, epochs=50, validation_data=(x_val_flat, y_val))\n",
        "model.summary()"
      ],
      "id": "e9ae95b3",
      "execution_count": null,
      "outputs": []
    },
    {
      "cell_type": "markdown",
      "metadata": {
        "id": "37082f39"
      },
      "source": [
        "### Add Regularization"
      ],
      "id": "37082f39"
    },
    {
      "cell_type": "code",
      "metadata": {
        "id": "64f002c7"
      },
      "source": [
        "LAMBDA = 0.005\n",
        "\n",
        "model = Sequential()\n",
        "model.add(Dense(256, activation='relu', input_shape = shape, kernel_regularizer=regularizers.l2(LAMBDA)))\n",
        "model.add(Dense(64, activation='relu', kernel_regularizer=regularizers.l2(LAMBDA)))\n",
        "model.add(Dense(16, activation='relu', kernel_regularizer=regularizers.l2(LAMBDA)))\n",
        "model.add(Dense(2, activation='softmax'))\n",
        "model.compile(optimizer='SGD', metrics=['accuracy', 'mse'], loss='categorical_crossentropy')\n",
        "\n",
        "history = model.fit(x=x_train_flat, y=y_train_balanced, \n",
        "                    callbacks=early_stopping, \n",
        "                    epochs=250, \n",
        "                    validation_data=(x_val_flat, y_val))\n",
        "\n",
        "best_model = keras.models.load_model('best_model.h5')\n",
        "best_model.summary()"
      ],
      "id": "64f002c7",
      "execution_count": null,
      "outputs": []
    },
    {
      "cell_type": "markdown",
      "metadata": {
        "id": "145a6e21"
      },
      "source": [
        "### Add Dropout"
      ],
      "id": "145a6e21"
    },
    {
      "cell_type": "code",
      "metadata": {
        "colab": {
          "base_uri": "https://localhost:8080/"
        },
        "id": "96008667",
        "outputId": "daad0b22-4bf6-4f1c-8081-209d6cb70dee"
      },
      "source": [
        "x_train_flat, shape = make_flat(x_train_balanced)\n",
        "x_val_flat, _ = make_flat(x_val)\n",
        "early_stopping = [EarlyStopping(monitor='val_loss', patience=10),\n",
        "                 ModelCheckpoint('best_model.h5', monitor='val_loss', save_best_only=True)]\n",
        "\n",
        "LAMBDA = 0.005\n",
        "DROPOUT = 0.3\n",
        "\n",
        "t0 = time.time()\n",
        "\n",
        "\n",
        "model = Sequential()\n",
        "model.add(Dense(256, activation='relu', input_shape = shape, kernel_regularizer=regularizers.l2(LAMBDA)))\n",
        "model.add(Dropout(DROPOUT))\n",
        "\n",
        "model.add(Dense(64, activation='relu', kernel_regularizer=regularizers.l2(LAMBDA)))\n",
        "model.add(Dropout(DROPOUT))\n",
        "\n",
        "model.add(Dense(16, activation='relu', kernel_regularizer=regularizers.l2(LAMBDA)))\n",
        "model.add(Dropout(DROPOUT))\n",
        "\n",
        "model.add(Dense(2, activation='softmax'))\n",
        "\n",
        "model.compile(optimizer='SGD', metrics=['accuracy', 'mse'], loss='categorical_crossentropy')\n",
        "\n",
        "model.fit(x=x_train_flat, y=y_train_balanced, \n",
        "          callbacks=early_stopping, \n",
        "          epochs=250, \n",
        "          validation_data=(x_val_flat, y_val), verbose=2)\n",
        "\n",
        "best_model = keras.models.load_model('best_model.h5')\n",
        "best_model.summary()\n",
        "\n",
        "print('Full runtime:', time.time() - t0)"
      ],
      "id": "96008667",
      "execution_count": 9,
      "outputs": [
        {
          "output_type": "stream",
          "text": [
            "Epoch 1/250\n",
            "183/183 - 20s - loss: 3.9018 - accuracy: 0.4942 - mse: 0.2639 - val_loss: 3.7290 - val_accuracy: 0.7393 - val_mse: 0.2300\n",
            "Epoch 2/250\n",
            "183/183 - 5s - loss: 3.7105 - accuracy: 0.5412 - mse: 0.2482 - val_loss: 3.6767 - val_accuracy: 0.2645 - val_mse: 0.2592\n",
            "Epoch 3/250\n",
            "183/183 - 5s - loss: 3.4765 - accuracy: 0.7112 - mse: 0.1913 - val_loss: 3.8376 - val_accuracy: 0.2798 - val_mse: 0.3778\n",
            "Epoch 4/250\n",
            "183/183 - 5s - loss: 3.3113 - accuracy: 0.7707 - mse: 0.1627 - val_loss: 3.0018 - val_accuracy: 0.8976 - val_mse: 0.0720\n",
            "Epoch 5/250\n",
            "183/183 - 5s - loss: 3.2014 - accuracy: 0.8085 - mse: 0.1577 - val_loss: 3.2616 - val_accuracy: 0.7179 - val_mse: 0.2084\n",
            "Epoch 6/250\n",
            "183/183 - 5s - loss: 3.0946 - accuracy: 0.7649 - mse: 0.1567 - val_loss: 3.6468 - val_accuracy: 0.5245 - val_mse: 0.3509\n",
            "Epoch 7/250\n",
            "183/183 - 5s - loss: 2.9100 - accuracy: 0.8397 - mse: 0.1205 - val_loss: 3.2566 - val_accuracy: 0.4518 - val_mse: 0.2874\n",
            "Epoch 8/250\n",
            "183/183 - 5s - loss: 2.8026 - accuracy: 0.8663 - mse: 0.1094 - val_loss: 2.6124 - val_accuracy: 0.9472 - val_mse: 0.0513\n",
            "Epoch 9/250\n",
            "183/183 - 5s - loss: 2.6838 - accuracy: 0.8783 - mse: 0.0993 - val_loss: 2.4645 - val_accuracy: 0.9388 - val_mse: 0.0437\n",
            "Epoch 10/250\n",
            "183/183 - 5s - loss: 2.6114 - accuracy: 0.8615 - mse: 0.1037 - val_loss: 2.4218 - val_accuracy: 0.9197 - val_mse: 0.0522\n",
            "Epoch 11/250\n",
            "183/183 - 5s - loss: 2.5959 - accuracy: 0.7925 - mse: 0.1315 - val_loss: 2.3644 - val_accuracy: 0.9266 - val_mse: 0.0583\n",
            "Epoch 12/250\n",
            "183/183 - 5s - loss: 2.4291 - accuracy: 0.8750 - mse: 0.0948 - val_loss: 2.2495 - val_accuracy: 0.9297 - val_mse: 0.0508\n",
            "Epoch 13/250\n",
            "183/183 - 5s - loss: 2.3332 - accuracy: 0.8731 - mse: 0.0884 - val_loss: 2.4630 - val_accuracy: 0.7217 - val_mse: 0.1576\n",
            "Epoch 14/250\n",
            "183/183 - 5s - loss: 2.2352 - accuracy: 0.8875 - mse: 0.0793 - val_loss: 2.0835 - val_accuracy: 0.9472 - val_mse: 0.0411\n",
            "Epoch 15/250\n",
            "183/183 - 5s - loss: 2.1937 - accuracy: 0.8831 - mse: 0.0891 - val_loss: 2.0449 - val_accuracy: 0.9205 - val_mse: 0.0524\n",
            "Epoch 16/250\n",
            "183/183 - 5s - loss: 2.1571 - accuracy: 0.8834 - mse: 0.0977 - val_loss: 2.1433 - val_accuracy: 0.9472 - val_mse: 0.0924\n",
            "Epoch 17/250\n",
            "183/183 - 5s - loss: 2.0685 - accuracy: 0.8812 - mse: 0.0911 - val_loss: 1.9219 - val_accuracy: 0.9281 - val_mse: 0.0537\n",
            "Epoch 18/250\n",
            "183/183 - 5s - loss: 1.9757 - accuracy: 0.8957 - mse: 0.0804 - val_loss: 1.8186 - val_accuracy: 0.9557 - val_mse: 0.0376\n",
            "Epoch 19/250\n",
            "183/183 - 5s - loss: 1.9227 - accuracy: 0.8925 - mse: 0.0823 - val_loss: 1.8092 - val_accuracy: 0.9197 - val_mse: 0.0560\n",
            "Epoch 20/250\n",
            "183/183 - 5s - loss: 1.9604 - accuracy: 0.8496 - mse: 0.1154 - val_loss: 1.9040 - val_accuracy: 0.9312 - val_mse: 0.0934\n",
            "Epoch 21/250\n",
            "183/183 - 5s - loss: 1.8007 - accuracy: 0.8908 - mse: 0.0798 - val_loss: 2.0100 - val_accuracy: 0.8219 - val_mse: 0.1447\n",
            "Epoch 22/250\n",
            "183/183 - 5s - loss: 1.7981 - accuracy: 0.8841 - mse: 0.0940 - val_loss: 2.5309 - val_accuracy: 0.4778 - val_mse: 0.3529\n",
            "Epoch 23/250\n",
            "183/183 - 5s - loss: 1.7182 - accuracy: 0.8969 - mse: 0.0838 - val_loss: 1.6925 - val_accuracy: 0.9549 - val_mse: 0.0702\n",
            "Epoch 24/250\n",
            "183/183 - 5s - loss: 1.7006 - accuracy: 0.8942 - mse: 0.0923 - val_loss: 1.6124 - val_accuracy: 0.9404 - val_mse: 0.0612\n",
            "Epoch 25/250\n",
            "183/183 - 5s - loss: 1.6516 - accuracy: 0.8923 - mse: 0.0906 - val_loss: 1.5429 - val_accuracy: 0.9442 - val_mse: 0.0544\n",
            "Epoch 26/250\n",
            "183/183 - 5s - loss: 1.5585 - accuracy: 0.8980 - mse: 0.0808 - val_loss: 1.7878 - val_accuracy: 0.7569 - val_mse: 0.1689\n",
            "Epoch 27/250\n",
            "183/183 - 5s - loss: 1.5103 - accuracy: 0.8969 - mse: 0.0803 - val_loss: 1.4205 - val_accuracy: 0.9090 - val_mse: 0.0598\n",
            "Epoch 28/250\n",
            "183/183 - 5s - loss: 1.4471 - accuracy: 0.9076 - mse: 0.0730 - val_loss: 1.3263 - val_accuracy: 0.9457 - val_mse: 0.0400\n",
            "Epoch 29/250\n",
            "183/183 - 5s - loss: 1.4046 - accuracy: 0.9033 - mse: 0.0737 - val_loss: 1.2867 - val_accuracy: 0.9518 - val_mse: 0.0392\n",
            "Epoch 30/250\n",
            "183/183 - 5s - loss: 1.3858 - accuracy: 0.8932 - mse: 0.0807 - val_loss: 1.2713 - val_accuracy: 0.9457 - val_mse: 0.0445\n",
            "Epoch 31/250\n",
            "183/183 - 5s - loss: 1.3320 - accuracy: 0.8990 - mse: 0.0756 - val_loss: 1.4606 - val_accuracy: 0.8142 - val_mse: 0.1273\n",
            "Epoch 32/250\n",
            "183/183 - 5s - loss: 1.2779 - accuracy: 0.9059 - mse: 0.0711 - val_loss: 1.1604 - val_accuracy: 0.9450 - val_mse: 0.0382\n",
            "Epoch 33/250\n",
            "183/183 - 5s - loss: 1.2527 - accuracy: 0.9002 - mse: 0.0740 - val_loss: 1.1525 - val_accuracy: 0.9312 - val_mse: 0.0482\n",
            "Epoch 34/250\n",
            "183/183 - 5s - loss: 1.1915 - accuracy: 0.9129 - mse: 0.0652 - val_loss: 1.1068 - val_accuracy: 0.9365 - val_mse: 0.0428\n",
            "Epoch 35/250\n",
            "183/183 - 5s - loss: 1.1734 - accuracy: 0.9014 - mse: 0.0711 - val_loss: 1.0764 - val_accuracy: 0.9419 - val_mse: 0.0415\n",
            "Epoch 36/250\n",
            "183/183 - 5s - loss: 1.1223 - accuracy: 0.9071 - mse: 0.0652 - val_loss: 1.8875 - val_accuracy: 0.5910 - val_mse: 0.3038\n",
            "Epoch 37/250\n",
            "183/183 - 5s - loss: 1.0959 - accuracy: 0.9053 - mse: 0.0666 - val_loss: 0.9996 - val_accuracy: 0.9434 - val_mse: 0.0399\n",
            "Epoch 38/250\n",
            "183/183 - 5s - loss: 1.0669 - accuracy: 0.9175 - mse: 0.0662 - val_loss: 1.0216 - val_accuracy: 0.9327 - val_mse: 0.0527\n",
            "Epoch 39/250\n",
            "183/183 - 5s - loss: 1.0554 - accuracy: 0.9067 - mse: 0.0708 - val_loss: 0.9494 - val_accuracy: 0.9373 - val_mse: 0.0424\n",
            "Epoch 40/250\n",
            "183/183 - 5s - loss: 1.0713 - accuracy: 0.8690 - mse: 0.0892 - val_loss: 0.9195 - val_accuracy: 0.9381 - val_mse: 0.0421\n",
            "Epoch 41/250\n",
            "183/183 - 5s - loss: 1.0350 - accuracy: 0.8786 - mse: 0.0844 - val_loss: 0.9103 - val_accuracy: 0.9388 - val_mse: 0.0428\n",
            "Epoch 42/250\n",
            "183/183 - 5s - loss: 0.9618 - accuracy: 0.9081 - mse: 0.0668 - val_loss: 1.0793 - val_accuracy: 0.8578 - val_mse: 0.1106\n",
            "Epoch 43/250\n",
            "183/183 - 5s - loss: 0.9234 - accuracy: 0.9131 - mse: 0.0616 - val_loss: 0.8553 - val_accuracy: 0.9381 - val_mse: 0.0433\n",
            "Epoch 44/250\n",
            "183/183 - 5s - loss: 1.0062 - accuracy: 0.8338 - mse: 0.1007 - val_loss: 1.3295 - val_accuracy: 0.7011 - val_mse: 0.2096\n",
            "Epoch 45/250\n",
            "183/183 - 5s - loss: 0.9318 - accuracy: 0.8532 - mse: 0.0835 - val_loss: 0.7983 - val_accuracy: 0.9396 - val_mse: 0.0415\n",
            "Epoch 46/250\n",
            "183/183 - 5s - loss: 0.8690 - accuracy: 0.9026 - mse: 0.0680 - val_loss: 0.7569 - val_accuracy: 0.9541 - val_mse: 0.0339\n",
            "Epoch 47/250\n",
            "183/183 - 5s - loss: 0.8667 - accuracy: 0.9011 - mse: 0.0762 - val_loss: 0.7477 - val_accuracy: 0.9450 - val_mse: 0.0386\n",
            "Epoch 48/250\n",
            "183/183 - 5s - loss: 0.8439 - accuracy: 0.9017 - mse: 0.0745 - val_loss: 0.8212 - val_accuracy: 0.9442 - val_mse: 0.0497\n",
            "Epoch 49/250\n",
            "183/183 - 5s - loss: 0.8415 - accuracy: 0.9045 - mse: 0.0770 - val_loss: 0.7122 - val_accuracy: 0.9480 - val_mse: 0.0393\n",
            "Epoch 50/250\n",
            "183/183 - 5s - loss: 0.8026 - accuracy: 0.8987 - mse: 0.0727 - val_loss: 0.7202 - val_accuracy: 0.9457 - val_mse: 0.0441\n",
            "Epoch 51/250\n",
            "183/183 - 5s - loss: 0.7529 - accuracy: 0.9134 - mse: 0.0622 - val_loss: 0.8687 - val_accuracy: 0.8593 - val_mse: 0.1008\n",
            "Epoch 52/250\n",
            "183/183 - 5s - loss: 0.7302 - accuracy: 0.9124 - mse: 0.0609 - val_loss: 0.6829 - val_accuracy: 0.9274 - val_mse: 0.0484\n",
            "Epoch 53/250\n",
            "183/183 - 5s - loss: 0.7111 - accuracy: 0.9122 - mse: 0.0607 - val_loss: 0.7038 - val_accuracy: 0.9190 - val_mse: 0.0599\n",
            "Epoch 54/250\n",
            "183/183 - 5s - loss: 0.6918 - accuracy: 0.9143 - mse: 0.0597 - val_loss: 0.6188 - val_accuracy: 0.9472 - val_mse: 0.0380\n",
            "Epoch 55/250\n",
            "183/183 - 5s - loss: 0.6676 - accuracy: 0.9115 - mse: 0.0572 - val_loss: 0.7803 - val_accuracy: 0.9151 - val_mse: 0.0704\n",
            "Epoch 56/250\n",
            "183/183 - 5s - loss: 0.6931 - accuracy: 0.9071 - mse: 0.0661 - val_loss: 0.6537 - val_accuracy: 0.9442 - val_mse: 0.0501\n",
            "Epoch 57/250\n",
            "183/183 - 5s - loss: 0.6534 - accuracy: 0.9100 - mse: 0.0604 - val_loss: 1.3937 - val_accuracy: 0.6338 - val_mse: 0.2837\n",
            "Epoch 58/250\n",
            "183/183 - 5s - loss: 0.6371 - accuracy: 0.9093 - mse: 0.0605 - val_loss: 0.5583 - val_accuracy: 0.9564 - val_mse: 0.0347\n",
            "Epoch 59/250\n",
            "183/183 - 5s - loss: 0.6059 - accuracy: 0.9119 - mse: 0.0549 - val_loss: 0.5702 - val_accuracy: 0.9358 - val_mse: 0.0454\n",
            "Epoch 60/250\n",
            "183/183 - 5s - loss: 0.5809 - accuracy: 0.9206 - mse: 0.0516 - val_loss: 0.5545 - val_accuracy: 0.9434 - val_mse: 0.0424\n",
            "Epoch 61/250\n",
            "183/183 - 5s - loss: 0.6725 - accuracy: 0.8795 - mse: 0.0788 - val_loss: 0.5250 - val_accuracy: 0.9526 - val_mse: 0.0364\n",
            "Epoch 62/250\n",
            "183/183 - 5s - loss: 0.6238 - accuracy: 0.8849 - mse: 0.0724 - val_loss: 0.5169 - val_accuracy: 0.9549 - val_mse: 0.0369\n",
            "Epoch 63/250\n",
            "183/183 - 5s - loss: 0.5839 - accuracy: 0.9095 - mse: 0.0624 - val_loss: 0.5298 - val_accuracy: 0.9343 - val_mse: 0.0468\n",
            "Epoch 64/250\n",
            "183/183 - 5s - loss: 0.6585 - accuracy: 0.8501 - mse: 0.0928 - val_loss: 0.4961 - val_accuracy: 0.9381 - val_mse: 0.0409\n",
            "Epoch 65/250\n",
            "183/183 - 5s - loss: 0.5653 - accuracy: 0.8992 - mse: 0.0652 - val_loss: 0.4792 - val_accuracy: 0.9495 - val_mse: 0.0384\n",
            "Epoch 66/250\n",
            "183/183 - 5s - loss: 0.5295 - accuracy: 0.9150 - mse: 0.0566 - val_loss: 0.5549 - val_accuracy: 0.9006 - val_mse: 0.0704\n",
            "Epoch 67/250\n",
            "183/183 - 5s - loss: 0.5325 - accuracy: 0.9048 - mse: 0.0616 - val_loss: 0.4494 - val_accuracy: 0.9587 - val_mse: 0.0343\n",
            "Epoch 68/250\n",
            "183/183 - 5s - loss: 0.5480 - accuracy: 0.8956 - mse: 0.0683 - val_loss: 0.4649 - val_accuracy: 0.9373 - val_mse: 0.0424\n",
            "Epoch 69/250\n",
            "183/183 - 5s - loss: 0.5039 - accuracy: 0.9141 - mse: 0.0557 - val_loss: 0.4301 - val_accuracy: 0.9595 - val_mse: 0.0339\n",
            "Epoch 70/250\n",
            "183/183 - 5s - loss: 0.4869 - accuracy: 0.9182 - mse: 0.0546 - val_loss: 0.4381 - val_accuracy: 0.9373 - val_mse: 0.0418\n",
            "Epoch 71/250\n",
            "183/183 - 5s - loss: 0.5146 - accuracy: 0.9016 - mse: 0.0658 - val_loss: 0.4657 - val_accuracy: 0.9350 - val_mse: 0.0479\n",
            "Epoch 72/250\n",
            "183/183 - 5s - loss: 0.5076 - accuracy: 0.8990 - mse: 0.0674 - val_loss: 0.4009 - val_accuracy: 0.9572 - val_mse: 0.0331\n",
            "Epoch 73/250\n",
            "183/183 - 5s - loss: 0.4584 - accuracy: 0.9153 - mse: 0.0537 - val_loss: 6.4312 - val_accuracy: 0.2615 - val_mse: 0.7364\n",
            "Epoch 74/250\n",
            "183/183 - 5s - loss: 0.5357 - accuracy: 0.9060 - mse: 0.0780 - val_loss: 0.6261 - val_accuracy: 0.8165 - val_mse: 0.1209\n",
            "Epoch 75/250\n",
            "183/183 - 5s - loss: 0.5057 - accuracy: 0.9053 - mse: 0.0743 - val_loss: 0.3780 - val_accuracy: 0.9564 - val_mse: 0.0331\n",
            "Epoch 76/250\n",
            "183/183 - 5s - loss: 0.4855 - accuracy: 0.9122 - mse: 0.0696 - val_loss: 0.3991 - val_accuracy: 0.9465 - val_mse: 0.0408\n",
            "Epoch 77/250\n",
            "183/183 - 5s - loss: 0.4571 - accuracy: 0.9134 - mse: 0.0644 - val_loss: 0.3699 - val_accuracy: 0.9541 - val_mse: 0.0352\n",
            "Epoch 78/250\n",
            "183/183 - 5s - loss: 0.4306 - accuracy: 0.9138 - mse: 0.0583 - val_loss: 0.3562 - val_accuracy: 0.9564 - val_mse: 0.0336\n",
            "Epoch 79/250\n",
            "183/183 - 5s - loss: 0.4408 - accuracy: 0.9028 - mse: 0.0643 - val_loss: 0.3639 - val_accuracy: 0.9549 - val_mse: 0.0348\n",
            "Epoch 80/250\n",
            "183/183 - 5s - loss: 0.4209 - accuracy: 0.9115 - mse: 0.0576 - val_loss: 0.3991 - val_accuracy: 0.9213 - val_mse: 0.0543\n",
            "Epoch 81/250\n",
            "183/183 - 5s - loss: 0.3964 - accuracy: 0.9204 - mse: 0.0540 - val_loss: 0.3471 - val_accuracy: 0.9564 - val_mse: 0.0357\n",
            "Epoch 82/250\n",
            "183/183 - 5s - loss: 0.4284 - accuracy: 0.8945 - mse: 0.0664 - val_loss: 0.3399 - val_accuracy: 0.9549 - val_mse: 0.0354\n",
            "Epoch 83/250\n",
            "183/183 - 5s - loss: 0.3974 - accuracy: 0.9103 - mse: 0.0580 - val_loss: 0.3433 - val_accuracy: 0.9564 - val_mse: 0.0349\n",
            "Epoch 84/250\n",
            "183/183 - 5s - loss: 0.3988 - accuracy: 0.9126 - mse: 0.0594 - val_loss: 0.3392 - val_accuracy: 0.9557 - val_mse: 0.0368\n",
            "Epoch 85/250\n",
            "183/183 - 5s - loss: 0.4024 - accuracy: 0.8904 - mse: 0.0641 - val_loss: 0.3214 - val_accuracy: 0.9557 - val_mse: 0.0345\n",
            "Epoch 86/250\n",
            "183/183 - 5s - loss: 0.4930 - accuracy: 0.8294 - mse: 0.0993 - val_loss: 0.3165 - val_accuracy: 0.9564 - val_mse: 0.0354\n",
            "Epoch 87/250\n",
            "183/183 - 5s - loss: 0.4476 - accuracy: 0.8760 - mse: 0.0831 - val_loss: 0.3123 - val_accuracy: 0.9557 - val_mse: 0.0350\n",
            "Epoch 88/250\n",
            "183/183 - 5s - loss: 0.4292 - accuracy: 0.8925 - mse: 0.0784 - val_loss: 0.3048 - val_accuracy: 0.9595 - val_mse: 0.0338\n",
            "Epoch 89/250\n",
            "183/183 - 5s - loss: 0.4361 - accuracy: 0.8884 - mse: 0.0809 - val_loss: 2.8759 - val_accuracy: 0.3532 - val_mse: 0.5915\n",
            "Epoch 90/250\n",
            "183/183 - 5s - loss: 0.4508 - accuracy: 0.8848 - mse: 0.0870 - val_loss: 0.2984 - val_accuracy: 0.9534 - val_mse: 0.0349\n",
            "Epoch 91/250\n",
            "183/183 - 5s - loss: 0.3956 - accuracy: 0.9071 - mse: 0.0703 - val_loss: 0.3156 - val_accuracy: 0.9419 - val_mse: 0.0438\n",
            "Epoch 92/250\n",
            "183/183 - 5s - loss: 0.4036 - accuracy: 0.8993 - mse: 0.0744 - val_loss: 0.3961 - val_accuracy: 0.8639 - val_mse: 0.0772\n",
            "Epoch 93/250\n",
            "183/183 - 5s - loss: 0.4099 - accuracy: 0.8990 - mse: 0.0771 - val_loss: 0.3136 - val_accuracy: 0.9281 - val_mse: 0.0471\n",
            "Epoch 94/250\n",
            "183/183 - 5s - loss: 0.3952 - accuracy: 0.9038 - mse: 0.0727 - val_loss: 0.2826 - val_accuracy: 0.9564 - val_mse: 0.0351\n",
            "Epoch 95/250\n",
            "183/183 - 5s - loss: 0.3790 - accuracy: 0.9153 - mse: 0.0668 - val_loss: 0.3235 - val_accuracy: 0.9251 - val_mse: 0.0520\n",
            "Epoch 96/250\n",
            "183/183 - 5s - loss: 0.3618 - accuracy: 0.9191 - mse: 0.0630 - val_loss: 0.2887 - val_accuracy: 0.9511 - val_mse: 0.0391\n",
            "Epoch 97/250\n",
            "183/183 - 5s - loss: 0.3412 - accuracy: 0.9312 - mse: 0.0571 - val_loss: 0.2764 - val_accuracy: 0.9557 - val_mse: 0.0358\n",
            "Epoch 98/250\n",
            "183/183 - 5s - loss: 0.3759 - accuracy: 0.9072 - mse: 0.0696 - val_loss: 0.4722 - val_accuracy: 0.8777 - val_mse: 0.0985\n",
            "Epoch 99/250\n",
            "183/183 - 5s - loss: 0.4459 - accuracy: 0.8616 - mse: 0.0984 - val_loss: 0.3189 - val_accuracy: 0.9396 - val_mse: 0.0481\n",
            "Epoch 100/250\n",
            "183/183 - 5s - loss: 0.4092 - accuracy: 0.8599 - mse: 0.0895 - val_loss: 0.2937 - val_accuracy: 0.9404 - val_mse: 0.0445\n",
            "Epoch 101/250\n",
            "183/183 - 5s - loss: 0.3691 - accuracy: 0.8983 - mse: 0.0735 - val_loss: 0.2790 - val_accuracy: 0.9495 - val_mse: 0.0405\n",
            "Epoch 102/250\n",
            "183/183 - 5s - loss: 0.3862 - accuracy: 0.8978 - mse: 0.0796 - val_loss: 0.6816 - val_accuracy: 0.8815 - val_mse: 0.1045\n",
            "Epoch 103/250\n",
            "183/183 - 5s - loss: 0.3507 - accuracy: 0.9211 - mse: 0.0646 - val_loss: 0.2517 - val_accuracy: 0.9549 - val_mse: 0.0343\n",
            "Epoch 104/250\n",
            "183/183 - 5s - loss: 0.3153 - accuracy: 0.9316 - mse: 0.0556 - val_loss: 0.2511 - val_accuracy: 0.9557 - val_mse: 0.0355\n",
            "Epoch 105/250\n",
            "183/183 - 5s - loss: 0.3056 - accuracy: 0.9343 - mse: 0.0530 - val_loss: 0.2586 - val_accuracy: 0.9557 - val_mse: 0.0356\n",
            "Epoch 106/250\n",
            "183/183 - 5s - loss: 0.3101 - accuracy: 0.9319 - mse: 0.0551 - val_loss: 0.5921 - val_accuracy: 0.7187 - val_mse: 0.1712\n",
            "Epoch 107/250\n",
            "183/183 - 5s - loss: 0.3154 - accuracy: 0.9292 - mse: 0.0574 - val_loss: 0.2411 - val_accuracy: 0.9564 - val_mse: 0.0349\n",
            "Epoch 108/250\n",
            "183/183 - 5s - loss: 0.3180 - accuracy: 0.9295 - mse: 0.0580 - val_loss: 0.4339 - val_accuracy: 0.8784 - val_mse: 0.0950\n",
            "Epoch 109/250\n",
            "183/183 - 5s - loss: 0.3030 - accuracy: 0.9318 - mse: 0.0548 - val_loss: 0.2752 - val_accuracy: 0.9350 - val_mse: 0.0485\n",
            "Epoch 110/250\n",
            "183/183 - 5s - loss: 0.2983 - accuracy: 0.9330 - mse: 0.0542 - val_loss: 0.2496 - val_accuracy: 0.9572 - val_mse: 0.0371\n",
            "Epoch 111/250\n",
            "183/183 - 5s - loss: 0.3158 - accuracy: 0.9210 - mse: 0.0606 - val_loss: 0.2571 - val_accuracy: 0.9488 - val_mse: 0.0422\n",
            "Epoch 112/250\n",
            "183/183 - 5s - loss: 0.2642 - accuracy: 0.9402 - mse: 0.0450 - val_loss: 0.2293 - val_accuracy: 0.9549 - val_mse: 0.0349\n",
            "Epoch 113/250\n",
            "183/183 - 5s - loss: 0.2549 - accuracy: 0.9438 - mse: 0.0429 - val_loss: 0.2709 - val_accuracy: 0.9419 - val_mse: 0.0466\n",
            "Epoch 114/250\n",
            "183/183 - 5s - loss: 0.2853 - accuracy: 0.9347 - mse: 0.0507 - val_loss: 0.2313 - val_accuracy: 0.9541 - val_mse: 0.0366\n",
            "Epoch 115/250\n",
            "183/183 - 5s - loss: 0.2836 - accuracy: 0.9342 - mse: 0.0513 - val_loss: 0.2457 - val_accuracy: 0.9488 - val_mse: 0.0412\n",
            "Epoch 116/250\n",
            "183/183 - 5s - loss: 0.3110 - accuracy: 0.9057 - mse: 0.0649 - val_loss: 0.2342 - val_accuracy: 0.9557 - val_mse: 0.0372\n",
            "Epoch 117/250\n",
            "183/183 - 5s - loss: 0.2863 - accuracy: 0.9095 - mse: 0.0576 - val_loss: 0.2531 - val_accuracy: 0.9365 - val_mse: 0.0441\n",
            "Epoch 118/250\n",
            "183/183 - 5s - loss: 0.3528 - accuracy: 0.8704 - mse: 0.0789 - val_loss: 0.2341 - val_accuracy: 0.9465 - val_mse: 0.0400\n",
            "Epoch 119/250\n",
            "183/183 - 5s - loss: 0.2851 - accuracy: 0.9084 - mse: 0.0577 - val_loss: 0.2317 - val_accuracy: 0.9495 - val_mse: 0.0390\n",
            "Epoch 120/250\n",
            "183/183 - 5s - loss: 0.3067 - accuracy: 0.8973 - mse: 0.0654 - val_loss: 0.3850 - val_accuracy: 0.9281 - val_mse: 0.0913\n",
            "Epoch 121/250\n",
            "183/183 - 5s - loss: 0.2983 - accuracy: 0.8992 - mse: 0.0630 - val_loss: 0.2277 - val_accuracy: 0.9495 - val_mse: 0.0372\n",
            "Epoch 122/250\n",
            "183/183 - 5s - loss: 0.2921 - accuracy: 0.9035 - mse: 0.0616 - val_loss: 0.2227 - val_accuracy: 0.9549 - val_mse: 0.0357\n",
            "Epoch 123/250\n",
            "183/183 - 5s - loss: 0.2978 - accuracy: 0.8980 - mse: 0.0641 - val_loss: 0.2531 - val_accuracy: 0.9450 - val_mse: 0.0442\n",
            "Epoch 124/250\n",
            "183/183 - 5s - loss: 0.2991 - accuracy: 0.9023 - mse: 0.0639 - val_loss: 0.2198 - val_accuracy: 0.9580 - val_mse: 0.0340\n",
            "Epoch 125/250\n",
            "183/183 - 5s - loss: 0.2755 - accuracy: 0.9053 - mse: 0.0581 - val_loss: 0.2110 - val_accuracy: 0.9572 - val_mse: 0.0346\n",
            "Epoch 126/250\n",
            "183/183 - 5s - loss: 0.2646 - accuracy: 0.9180 - mse: 0.0535 - val_loss: 0.7307 - val_accuracy: 0.7989 - val_mse: 0.1674\n",
            "Epoch 127/250\n",
            "183/183 - 5s - loss: 0.2800 - accuracy: 0.9057 - mse: 0.0598 - val_loss: 0.2114 - val_accuracy: 0.9557 - val_mse: 0.0354\n",
            "Epoch 128/250\n",
            "183/183 - 5s - loss: 0.2926 - accuracy: 0.8940 - mse: 0.0647 - val_loss: 0.2165 - val_accuracy: 0.9518 - val_mse: 0.0376\n",
            "Epoch 129/250\n",
            "183/183 - 5s - loss: 0.3818 - accuracy: 0.8359 - mse: 0.0957 - val_loss: 0.2356 - val_accuracy: 0.9350 - val_mse: 0.0457\n",
            "Epoch 130/250\n",
            "183/183 - 5s - loss: 0.2810 - accuracy: 0.9150 - mse: 0.0617 - val_loss: 0.3361 - val_accuracy: 0.9167 - val_mse: 0.0684\n",
            "Epoch 131/250\n",
            "183/183 - 5s - loss: 0.2391 - accuracy: 0.9378 - mse: 0.0469 - val_loss: 0.2724 - val_accuracy: 0.9274 - val_mse: 0.0556\n",
            "Epoch 132/250\n",
            "183/183 - 5s - loss: 0.2396 - accuracy: 0.9367 - mse: 0.0479 - val_loss: 0.2099 - val_accuracy: 0.9557 - val_mse: 0.0356\n",
            "Epoch 133/250\n",
            "183/183 - 5s - loss: 0.2374 - accuracy: 0.9395 - mse: 0.0453 - val_loss: 0.2029 - val_accuracy: 0.9541 - val_mse: 0.0349\n",
            "Epoch 134/250\n",
            "183/183 - 5s - loss: 0.2330 - accuracy: 0.9414 - mse: 0.0448 - val_loss: 0.2000 - val_accuracy: 0.9572 - val_mse: 0.0337\n",
            "Epoch 135/250\n",
            "183/183 - 5s - loss: 0.2894 - accuracy: 0.9290 - mse: 0.0603 - val_loss: 0.2011 - val_accuracy: 0.9557 - val_mse: 0.0351\n",
            "Epoch 136/250\n",
            "183/183 - 5s - loss: 0.2756 - accuracy: 0.9283 - mse: 0.0580 - val_loss: 0.2457 - val_accuracy: 0.9365 - val_mse: 0.0504\n",
            "Epoch 137/250\n",
            "183/183 - 5s - loss: 0.2865 - accuracy: 0.9234 - mse: 0.0614 - val_loss: 0.2458 - val_accuracy: 0.9450 - val_mse: 0.0434\n",
            "Epoch 138/250\n",
            "183/183 - 5s - loss: 0.2535 - accuracy: 0.9405 - mse: 0.0507 - val_loss: 0.2405 - val_accuracy: 0.9381 - val_mse: 0.0477\n",
            "Epoch 139/250\n",
            "183/183 - 5s - loss: 0.2762 - accuracy: 0.9280 - mse: 0.0580 - val_loss: 0.2177 - val_accuracy: 0.9495 - val_mse: 0.0404\n",
            "Epoch 140/250\n",
            "183/183 - 5s - loss: 0.2735 - accuracy: 0.9304 - mse: 0.0572 - val_loss: 0.1970 - val_accuracy: 0.9549 - val_mse: 0.0347\n",
            "Epoch 141/250\n",
            "183/183 - 5s - loss: 0.3484 - accuracy: 0.8903 - mse: 0.0830 - val_loss: 0.1947 - val_accuracy: 0.9572 - val_mse: 0.0339\n",
            "Epoch 142/250\n",
            "183/183 - 5s - loss: 0.3131 - accuracy: 0.9005 - mse: 0.0744 - val_loss: 0.1983 - val_accuracy: 0.9564 - val_mse: 0.0344\n",
            "Epoch 143/250\n",
            "183/183 - 5s - loss: 0.2937 - accuracy: 0.9160 - mse: 0.0657 - val_loss: 0.2264 - val_accuracy: 0.9396 - val_mse: 0.0449\n",
            "Epoch 144/250\n",
            "183/183 - 5s - loss: 0.2725 - accuracy: 0.9266 - mse: 0.0586 - val_loss: 0.2153 - val_accuracy: 0.9472 - val_mse: 0.0385\n",
            "Epoch 145/250\n",
            "183/183 - 5s - loss: 0.2507 - accuracy: 0.9372 - mse: 0.0508 - val_loss: 0.7144 - val_accuracy: 0.8012 - val_mse: 0.1679\n",
            "Epoch 146/250\n",
            "183/183 - 5s - loss: 0.2521 - accuracy: 0.9366 - mse: 0.0514 - val_loss: 0.2473 - val_accuracy: 0.9281 - val_mse: 0.0544\n",
            "Epoch 147/250\n",
            "183/183 - 5s - loss: 0.2510 - accuracy: 0.9345 - mse: 0.0529 - val_loss: 0.2172 - val_accuracy: 0.9495 - val_mse: 0.0408\n",
            "Epoch 148/250\n",
            "183/183 - 5s - loss: 0.2632 - accuracy: 0.9295 - mse: 0.0563 - val_loss: 0.1951 - val_accuracy: 0.9572 - val_mse: 0.0345\n",
            "Epoch 149/250\n",
            "183/183 - 5s - loss: 0.2994 - accuracy: 0.9184 - mse: 0.0661 - val_loss: 0.2164 - val_accuracy: 0.9564 - val_mse: 0.0390\n",
            "Epoch 150/250\n",
            "183/183 - 5s - loss: 0.2495 - accuracy: 0.9372 - mse: 0.0505 - val_loss: 0.3139 - val_accuracy: 0.9037 - val_mse: 0.0735\n",
            "Epoch 151/250\n",
            "183/183 - 5s - loss: 0.2926 - accuracy: 0.9266 - mse: 0.0618 - val_loss: 0.2216 - val_accuracy: 0.9480 - val_mse: 0.0422\n",
            "Model: \"sequential\"\n",
            "_________________________________________________________________\n",
            "Layer (type)                 Output Shape              Param #   \n",
            "=================================================================\n",
            "dense (Dense)                (None, 256)               50331904  \n",
            "_________________________________________________________________\n",
            "dropout (Dropout)            (None, 256)               0         \n",
            "_________________________________________________________________\n",
            "dense_1 (Dense)              (None, 64)                16448     \n",
            "_________________________________________________________________\n",
            "dropout_1 (Dropout)          (None, 64)                0         \n",
            "_________________________________________________________________\n",
            "dense_2 (Dense)              (None, 16)                1040      \n",
            "_________________________________________________________________\n",
            "dropout_2 (Dropout)          (None, 16)                0         \n",
            "_________________________________________________________________\n",
            "dense_3 (Dense)              (None, 2)                 34        \n",
            "=================================================================\n",
            "Total params: 50,349,426\n",
            "Trainable params: 50,349,426\n",
            "Non-trainable params: 0\n",
            "_________________________________________________________________\n",
            "Full runtime: 813.9219312667847\n"
          ],
          "name": "stdout"
        }
      ]
    },
    {
      "cell_type": "markdown",
      "metadata": {
        "id": "kvJy1MllwM0N"
      },
      "source": [
        "### Remove the layer of 256 notes from previous model"
      ],
      "id": "kvJy1MllwM0N"
    },
    {
      "cell_type": "code",
      "metadata": {
        "id": "b3c28165"
      },
      "source": [
        "x_train_flat, shape = make_flat(x_train_balanced)\n",
        "x_val_flat, _ = make_flat(x_val)\n",
        "early_stopping = [EarlyStopping(monitor='val_loss', patience=10),\n",
        "                 ModelCheckpoint('best_model.h5', monitor='val_loss', save_best_only=True)]\n",
        "\n",
        "LAMBDA = 0.005\n",
        "DROPOUT = 0.3\n",
        "\n",
        "t0 = time.time()\n",
        "\n",
        "model.add(Dense(64, activation='relu', kernel_regularizer=regularizers.l2(LAMBDA)))\n",
        "model.add(Dropout(DROPOUT))\n",
        "\n",
        "model.add(Dense(16, activation='relu', kernel_regularizer=regularizers.l2(LAMBDA)))\n",
        "model.add(Dropout(DROPOUT))\n",
        "\n",
        "model.add(Dense(2, activation='softmax'))\n",
        "\n",
        "model.compile(optimizer='SGD', metrics=['accuracy', 'mse'], loss='categorical_crossentropy')\n",
        "\n",
        "model.fit(x=x_train_flat, y=y_train_balanced, \n",
        "          callbacks=early_stopping, \n",
        "          epochs=250, \n",
        "          validation_data=(x_val_flat, y_val), verbose=2)\n",
        "\n",
        "best_model = keras.models.load_model('best_model.h5')\n",
        "best_model.summary()\n",
        "\n",
        "print('Full runtime:', time.time() - t0)"
      ],
      "id": "b3c28165",
      "execution_count": null,
      "outputs": []
    }
  ]
}