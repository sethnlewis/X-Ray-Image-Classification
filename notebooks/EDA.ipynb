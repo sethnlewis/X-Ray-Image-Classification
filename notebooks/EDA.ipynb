{
  "nbformat": 4,
  "nbformat_minor": 5,
  "metadata": {
    "kernelspec": {
      "display_name": "Python 3",
      "language": "python",
      "name": "python3"
    },
    "language_info": {
      "codemirror_mode": {
        "name": "ipython",
        "version": 3
      },
      "file_extension": ".py",
      "mimetype": "text/x-python",
      "name": "python",
      "nbconvert_exporter": "python",
      "pygments_lexer": "ipython3",
      "version": "3.8.3"
    },
    "colab": {
      "name": "EDA.ipynb",
      "provenance": []
    },
    "accelerator": "GPU"
  },
  "cells": [
    {
      "cell_type": "markdown",
      "metadata": {
        "id": "732a0b61"
      },
      "source": [
        "### Imports & declarations"
      ],
      "id": "732a0b61"
    },
    {
      "cell_type": "code",
      "metadata": {
        "colab": {
          "base_uri": "https://localhost:8080/"
        },
        "id": "9f066efb",
        "outputId": "f7d3f1ef-ba46-4f2c-9d93-c85404f43dd2"
      },
      "source": [
        "import numpy as np\n",
        "import pandas as pd\n",
        "import matplotlib.pyplot as plt\n",
        "import time\n",
        "\n",
        "from sklearn.model_selection import train_test_split\n",
        "\n",
        "import keras\n",
        "from keras.preprocessing.image import img_to_array, load_img, array_to_img, ImageDataGenerator\n",
        "from keras import regularizers\n",
        "from keras.callbacks import EarlyStopping, ModelCheckpoint\n",
        "from keras.models import Sequential\n",
        "from keras.layers import Dense, Dropout\n",
        "import tensorflow as tf\n",
        "\n",
        "LOCAL_PATH_MINI = '../data/raw/kaggle_mini_subsample'\n",
        "LOCAL_PATH_TRAIN = '../data/raw/train'\n",
        "COLAB_PATH_TRAIN = '/content/drive/MyDrive/Data Science/Colab Notebooks/Module 4 Project/data/raw/train'\n",
        "COLAB_PATH_MINI = '/content/drive/MyDrive/Data Science/Colab Notebooks/Module 4 Project/data/raw/mini_subsample'\n",
        "\n",
        "RANDOM_STATE = 2020\n",
        "\n",
        "# Comment when running locally, uncomment for Google Colab\n",
        "from google.colab import drive\n",
        "drive.mount('/content/drive')"
      ],
      "id": "9f066efb",
      "execution_count": 1,
      "outputs": [
        {
          "output_type": "stream",
          "text": [
            "Mounted at /content/drive\n"
          ],
          "name": "stdout"
        }
      ]
    },
    {
      "cell_type": "markdown",
      "metadata": {
        "id": "dQYhzmEQz8Uo"
      },
      "source": [
        "### Define basic functions"
      ],
      "id": "dQYhzmEQz8Uo"
    },
    {
      "cell_type": "code",
      "metadata": {
        "id": "WgK799Fpm3Ka"
      },
      "source": [
        "function ClickConnect(){\n",
        "    console.log(\"Working\"); \n",
        "    document.querySelector(\"colab-toolbar-button#connect\").click() \n",
        "}\n",
        "setInterval(ClickConnect,60000)"
      ],
      "id": "WgK799Fpm3Ka",
      "execution_count": null,
      "outputs": []
    },
    {
      "cell_type": "code",
      "metadata": {
        "id": "e9dbf694"
      },
      "source": [
        "def make_flat(x):\n",
        "    s = x.shape\n",
        "    dim_0 = s[0]\n",
        "    dim_1 = s[1]*s[2]*s[3]\n",
        "    x_flat = x.reshape(dim_0, dim_1)\n",
        "    shape = (x_flat.shape[1],)\n",
        "    return x_flat, shape"
      ],
      "id": "e9dbf694",
      "execution_count": 3,
      "outputs": []
    },
    {
      "cell_type": "markdown",
      "metadata": {
        "id": "d1598963"
      },
      "source": [
        "### Import & Clean: Mini Dataset"
      ],
      "id": "d1598963"
    },
    {
      "cell_type": "code",
      "metadata": {
        "colab": {
          "base_uri": "https://localhost:8080/",
          "height": 212
        },
        "id": "54e67a51",
        "outputId": "c68ac526-6f26-4ad9-faf8-b93aae33162c"
      },
      "source": [
        "BATCH_SIZE = 250\n",
        "TARGET_SIZE = [128, 128]\n",
        "\n",
        "path = COLAB_PATH_MINI\n",
        "image_generator = ImageDataGenerator().flow_from_directory(path, batch_size=BATCH_SIZE, target_size=TARGET_SIZE);\n",
        "images, labels = next(image_generator)\n",
        "images_scaled = images / 255\n",
        "\n",
        "display('Example image:', array_to_img(images[0]))\n",
        "print('Indices:', image_generator.class_indices)\n",
        "print('Dataset shape:', images_scaled.shape)"
      ],
      "id": "54e67a51",
      "execution_count": null,
      "outputs": [
        {
          "output_type": "stream",
          "text": [
            "Found 186 images belonging to 2 classes.\n"
          ],
          "name": "stdout"
        },
        {
          "output_type": "display_data",
          "data": {
            "application/vnd.google.colaboratory.intrinsic+json": {
              "type": "string"
            },
            "text/plain": [
              "'Example image:'"
            ]
          },
          "metadata": {
            "tags": []
          }
        },
        {
          "output_type": "display_data",
          "data": {
            "image/png": "[encoded data removed]",
            "text/plain": [
              "<PIL.Image.Image image mode=RGB size=128x128 at 0x7F7A6D50DFD0>"
            ]
          },
          "metadata": {
            "tags": []
          }
        },
        {
          "output_type": "stream",
          "text": [
            "Indices: {'NORMAL': 0, 'PNEUMONIA': 1}\n",
            "Dataset shape: (186, 128, 128, 3)\n"
          ],
          "name": "stdout"
        }
      ]
    },
    {
      "cell_type": "markdown",
      "metadata": {
        "id": "OLEH1pCC02e2"
      },
      "source": [
        "### Model: Mini Dataset"
      ],
      "id": "OLEH1pCC02e2"
    },
    {
      "cell_type": "code",
      "metadata": {
        "colab": {
          "base_uri": "https://localhost:8080/"
        },
        "id": "9d5ef4de",
        "outputId": "ddc7380e-c330-4d5c-d026-ba9bdb4d2978"
      },
      "source": [
        "x, shape = make_flat(images_scaled)\n",
        "\n",
        "model = Sequential()\n",
        "model.add(Dense(8, activation='relu', input_shape = shape))\n",
        "model.add(Dense(2, activation='softmax'))\n",
        "model.compile(optimizer='SGD', loss='categorical_crossentropy', metrics=['accuracy'])\n",
        "\n",
        "history = model.fit(x=x, y=labels, epochs=50)\n",
        "\n",
        "model.summary()"
      ],
      "id": "9d5ef4de",
      "execution_count": null,
      "outputs": [
        {
          "output_type": "stream",
          "text": [
            "Model: \"sequential\"\n",
            "_________________________________________________________________\n",
            "Layer (type)                 Output Shape              Param #   \n",
            "=================================================================\n",
            "dense (Dense)                (None, 64)                3145792   \n",
            "_________________________________________________________________\n",
            "dense_1 (Dense)              (None, 2)                 130       \n",
            "=================================================================\n",
            "Total params: 3,145,922\n",
            "Trainable params: 3,145,922\n",
            "Non-trainable params: 0\n",
            "_________________________________________________________________\n"
          ],
          "name": "stdout"
        }
      ]
    },
    {
      "cell_type": "code",
      "metadata": {
        "colab": {
          "base_uri": "https://localhost:8080/",
          "height": 264
        },
        "id": "c5c7b171",
        "outputId": "2daaa142-f07d-4925-c134-b9a0f050ae03"
      },
      "source": [
        "acc = history.history['accuracy']\n",
        "plt.plot(range(len(acc)), acc);\n",
        "plt.title('Training accuracy for mini dataset')"
      ],
      "id": "c5c7b171",
      "execution_count": null,
      "outputs": [
        {
          "output_type": "display_data",
          "data": {
            "image/png": "[encoded data removed]",
            "text/plain": [
              "<Figure size 432x288 with 1 Axes>"
            ]
          },
          "metadata": {
            "tags": [],
            "needs_background": "light"
          }
        }
      ]
    },
    {
      "cell_type": "markdown",
      "metadata": {
        "id": "wc6GVPzO1VfN"
      },
      "source": [
        "### Import and clean: Full Dataset"
      ],
      "id": "wc6GVPzO1VfN"
    },
    {
      "cell_type": "code",
      "metadata": {
        "id": "-0jj0DfipTSy",
        "outputId": "40b9d3e3-7552-4dc0-ca04-a09cb7367d55",
        "colab": {
          "base_uri": "https://localhost:8080/"
        }
      },
      "source": [
        "path = COLAB_PATH_TRAIN\n",
        "BATCH_SIZE = 32\n",
        "data_tf = tf.keras.preprocessing.image_dataset_from_directory(path, \n",
        "                                                image_size=(8, 8), # WORKS UP TO 256\n",
        "                                                batch_size=BATCH_SIZE,\n",
        "                                                seed=RANDOM_STATE)"
      ],
      "id": "-0jj0DfipTSy",
      "execution_count": 25,
      "outputs": [
        {
          "output_type": "stream",
          "text": [
            "Found 5232 files belonging to 2 classes.\n"
          ],
          "name": "stdout"
        }
      ]
    },
    {
      "cell_type": "code",
      "metadata": {
        "colab": {
          "base_uri": "https://localhost:8080/"
        },
        "id": "d4CEkFwmA7Wx",
        "outputId": "0813d5c4-9ab6-46c5-a864-67f7d27a5ec6"
      },
      "source": [
        "path = COLAB_PATH_TRAIN\n",
        "BATCH_SIZE = 32\n",
        "data_tf = tf.keras.preprocessing.image_dataset_from_directory(path, \n",
        "                                                image_size=(8, 8), # WORKS UP TO 256\n",
        "                                                batch_size=BATCH_SIZE,\n",
        "                                                seed=RANDOM_STATE)\n",
        "\n",
        "for i, item in enumerate(data_tf.as_numpy_iterator()):\n",
        "    if i == 0:\n",
        "        images = np.array(item[0])\n",
        "        labels = np.array(item[1])\n",
        "    else:\n",
        "        images = np.concatenate([images, item[0]], axis=0)\n",
        "        labels = np.concatenate([labels, item[1]], axis=0)\n",
        "        if i % 5 == 0:\n",
        "            print(int(i/(5232/BATCH_SIZE)*100), '%')\n",
        "\n",
        "images /= 256\n",
        "\n",
        "data_tf = None # clear RAM\n",
        "print('Data shape:', images.shape)"
      ],
      "id": "d4CEkFwmA7Wx",
      "execution_count": 26,
      "outputs": [
        {
          "output_type": "stream",
          "text": [
            "Found 5232 files belonging to 2 classes.\n",
            "3 %\n",
            "6 %\n",
            "9 %\n",
            "12 %\n",
            "15 %\n",
            "18 %\n",
            "21 %\n",
            "24 %\n",
            "27 %\n",
            "30 %\n",
            "33 %\n",
            "36 %\n",
            "39 %\n",
            "42 %\n",
            "45 %\n",
            "48 %\n",
            "51 %\n",
            "55 %\n",
            "58 %\n",
            "61 %\n",
            "64 %\n",
            "67 %\n",
            "70 %\n",
            "73 %\n",
            "76 %\n",
            "79 %\n",
            "82 %\n",
            "85 %\n",
            "88 %\n",
            "91 %\n",
            "94 %\n",
            "97 %\n",
            "Data shape: (5232, 8, 8, 3)\n"
          ],
          "name": "stdout"
        }
      ]
    },
    {
      "cell_type": "code",
      "metadata": {
        "id": "yaInwMBtqgHf",
        "outputId": "36c48883-90f0-46fb-81ac-263b4a7850a6",
        "colab": {
          "base_uri": "https://localhost:8080/"
        }
      },
      "source": [
        "labels.reshape(-1,1).shape"
      ],
      "id": "yaInwMBtqgHf",
      "execution_count": 36,
      "outputs": [
        {
          "output_type": "execute_result",
          "data": {
            "text/plain": [
              "(5232, 1)"
            ]
          },
          "metadata": {
            "tags": []
          },
          "execution_count": 36
        }
      ]
    },
    {
      "cell_type": "code",
      "metadata": {
        "id": "NfMf1SB1qkP6",
        "outputId": "105fa6a2-3ece-46c6-a0d5-5364bff51469",
        "colab": {
          "base_uri": "https://localhost:8080/"
        }
      },
      "source": [
        "np.concatenate([labels.reshape(-1,1), labels.reshape(-1,1)], axis=1).shape\n"
      ],
      "id": "NfMf1SB1qkP6",
      "execution_count": 37,
      "outputs": [
        {
          "output_type": "execute_result",
          "data": {
            "text/plain": [
              "(5232, 2)"
            ]
          },
          "metadata": {
            "tags": []
          },
          "execution_count": 37
        }
      ]
    },
    {
      "cell_type": "code",
      "metadata": {
        "id": "WL1kMIb_oEqj",
        "outputId": "b7a5111b-0d9c-448c-f08a-3a9ec7fe9722",
        "colab": {
          "base_uri": "https://localhost:8080/"
        }
      },
      "source": [
        "item[1]"
      ],
      "id": "WL1kMIb_oEqj",
      "execution_count": 12,
      "outputs": [
        {
          "output_type": "execute_result",
          "data": {
            "text/plain": [
              "array([1, 0, 0, 1, 0, 1, 1, 1, 1, 1, 1, 1, 1, 1, 1, 0], dtype=int32)"
            ]
          },
          "metadata": {
            "tags": []
          },
          "execution_count": 12
        }
      ]
    },
    {
      "cell_type": "code",
      "metadata": {
        "colab": {
          "base_uri": "https://localhost:8080/"
        },
        "id": "6d0cbcad",
        "outputId": "0be4f02c-3ffa-450b-ecf2-136e09cedbcb"
      },
      "source": [
        "# BATCH_SIZE_TRAIN = 1341+3875\n",
        "# TARGET_SIZE = [256, 256]\n",
        "\n",
        "# path = COLAB_PATH_TRAIN\n",
        "\n",
        "# t0 = time.time()\n",
        "# generator = ImageDataGenerator().flow_from_directory(path,\n",
        "#                                                      #batch_size=BATCH_SIZE_TRAIN,\n",
        "#                                                      target_size=TARGET_SIZE)\n",
        "\n",
        "# images, labels = next(generator)\n",
        "# images = images / 256\n",
        "# t1 = time.time()\n",
        "\n",
        "# print('Runtime:', t1-t0)\n",
        "# print(images.shape, labels.shape)"
      ],
      "id": "6d0cbcad",
      "execution_count": 3,
      "outputs": [
        {
          "output_type": "stream",
          "text": [
            "Found 5232 images belonging to 2 classes.\n",
            "Runtime: 488.08068585395813\n",
            "(5216, 256, 256, 3) (5216, 2)\n"
          ],
          "name": "stdout"
        }
      ]
    },
    {
      "cell_type": "markdown",
      "metadata": {
        "id": "dadc79d8"
      },
      "source": [
        "### Full train dataset, no validation dataset"
      ],
      "id": "dadc79d8"
    },
    {
      "cell_type": "markdown",
      "metadata": {
        "id": "mMfhAbJJ2UmU"
      },
      "source": [
        "##### Create and fit model"
      ],
      "id": "mMfhAbJJ2UmU"
    },
    {
      "cell_type": "code",
      "metadata": {
        "colab": {
          "base_uri": "https://localhost:8080/"
        },
        "id": "8e414b50",
        "outputId": "0be4fe20-59a9-4564-dfcc-1a705f431868"
      },
      "source": [
        "x, shape = reshape_flat(images_scaled)\n",
        "\n",
        "model = Sequential()\n",
        "model.add(Dense(TARGET_SIZE[0], activation='relu', input_shape = shape))\n",
        "model.add(Dense(2, activation='softmax'))\n",
        "model.compile(optimizer='SGD', loss='categorical_crossentropy', metrics=['accuracy', 'mse'])\n",
        "model.summary()\n",
        "\n",
        "history = model.fit(x=x, y=labels_train, epochs=50, validation_split=0.25, verbose=2)"
      ],
      "id": "8e414b50",
      "execution_count": null,
      "outputs": [
        {
          "output_type": "stream",
          "text": [
            "Model: \"sequential\"\n",
            "_________________________________________________________________\n",
            "Layer (type)                 Output Shape              Param #   \n",
            "=================================================================\n",
            "dense (Dense)                (None, 4)                 196       \n",
            "_________________________________________________________________\n",
            "dense_1 (Dense)              (None, 2)                 10        \n",
            "=================================================================\n",
            "Total params: 206\n",
            "Trainable params: 206\n",
            "Non-trainable params: 0\n",
            "_________________________________________________________________\n"
          ],
          "name": "stdout"
        }
      ]
    },
    {
      "cell_type": "markdown",
      "metadata": {
        "id": "pbxAIJ5Q2YKg"
      },
      "source": [
        "##### Plot results"
      ],
      "id": "pbxAIJ5Q2YKg"
    },
    {
      "cell_type": "code",
      "metadata": {
        "id": "d9a29ddb",
        "outputId": "e73b7786-f271-43a0-8bd0-fa15580100ad"
      },
      "source": [
        "acc_train = history.history['accuracy']\n",
        "acc_val = history.history['val_accuracy']\n",
        "epoch_ct = range(len(acc_train))\n",
        "\n",
        "plt.plot(epoch_ct, acc_train, label='Training')\n",
        "plt.plot(epoch_ct, acc_val, label='Validation')\n",
        "plt.title('Accuracy')\n",
        "plt.legend();"
      ],
      "id": "d9a29ddb",
      "execution_count": null,
      "outputs": [
        {
          "output_type": "display_data",
          "data": {
            "image/png": "[encoded data removed]",
            "text/plain": [
              "<Figure size 432x288 with 1 Axes>"
            ]
          },
          "metadata": {
            "tags": [],
            "needs_background": "light"
          }
        }
      ]
    },
    {
      "cell_type": "code",
      "metadata": {
        "id": "aed436e4",
        "outputId": "4b22ab7f-864e-4f9c-e246-fd4d9893f44e"
      },
      "source": [
        "history.history.keys()\n",
        "\n",
        "mse_train = history.history['mse']\n",
        "mse_val = history.history['val_mse']\n",
        "epoch_ct = range(len(mse_train))\n",
        "\n",
        "plt.plot(epoch_ct, mse_train, label='Training')\n",
        "plt.plot(epoch_ct, mse_val, label='Validation')\n",
        "plt.title('Mean Squared Error')\n",
        "plt.legend();"
      ],
      "id": "aed436e4",
      "execution_count": null,
      "outputs": [
        {
          "output_type": "display_data",
          "data": {
            "image/png": "[encoded data removed]",
            "text/plain": [
              "<Figure size 432x288 with 1 Axes>"
            ]
          },
          "metadata": {
            "tags": [],
            "needs_background": "light"
          }
        }
      ]
    },
    {
      "cell_type": "markdown",
      "metadata": {
        "id": "0000c704"
      },
      "source": [
        "### Create balanced dataset"
      ],
      "id": "0000c704"
    },
    {
      "cell_type": "code",
      "metadata": {
        "id": "40b9bd14"
      },
      "source": [
        "x_train, x_val, y_train, y_val = train_test_split(images, labels, \n",
        "                                                  random_state=RANDOM_STATE, \n",
        "                                                  test_size = 0.25)\n",
        "images = None # clear memory"
      ],
      "id": "40b9bd14",
      "execution_count": null,
      "outputs": []
    },
    {
      "cell_type": "code",
      "metadata": {
        "id": "UG5vcXD-WWoJ"
      },
      "source": [
        "y_train.shape"
      ],
      "id": "UG5vcXD-WWoJ",
      "execution_count": null,
      "outputs": []
    },
    {
      "cell_type": "code",
      "metadata": {
        "id": "7061134b",
        "colab": {
          "base_uri": "https://localhost:8080/",
          "height": 227
        },
        "outputId": "dcbabbbb-4c48-4dd8-b1fd-3a1900433073"
      },
      "source": [
        "# Oversample the minority class: \n",
        "# https://www.tensorflow.org/tutorials/structured_data/imbalanced_data#oversample_the_minority_class\n",
        "np.random.seed(RANDOM_STATE)\n",
        "\n",
        "\n",
        "print(data_tf.class_indices)\n",
        "ind_neg = y_train[:, 0]==1\n",
        "ind_pos = y_train[:, 0]==0\n",
        "\n",
        "neg_ct = ind_neg.sum()\n",
        "pos_ct = ind_pos.sum()\n",
        "print('NORMAL count:', neg_ct, ', PNEUMONIA count:', pos_ct)\n",
        "\n",
        "ids = np.arange(neg_ct)\n",
        "\n",
        "# Select random entries from the list of inputs\n",
        "ind_add_ons = np.random.choice(ids, size=pos_ct-neg_ct)\n",
        "add_ons_x = x_train[ind_neg][ind_add_ons]\n",
        "add_ons_y = y_train[ind_neg][ind_add_ons]\n",
        "\n",
        "x_train_balanced = np.concatenate([x_train, add_ons_x], axis=0)\n",
        "y_train_balanced = np.concatenate([y_train, add_ons_y], axis=0)\n",
        "print('Training sizes after resampling:', x_train_balanced.shape, y_train_balanced.shape)\n",
        "print('NORMAL count, PNEUMONIA count:', y_train_balanced.sum(axis=0))\n",
        "\n",
        "# clear memory\n",
        "x_train = None\n",
        "y_train = None"
      ],
      "id": "7061134b",
      "execution_count": 7,
      "outputs": [
        {
          "output_type": "error",
          "ename": "IndexError",
          "evalue": "ignored",
          "traceback": [
            "\u001b[0;31m---------------------------------------------------------------------------\u001b[0m",
            "\u001b[0;31mIndexError\u001b[0m                                Traceback (most recent call last)",
            "\u001b[0;32m<ipython-input-7-c9a352c584ed>\u001b[0m in \u001b[0;36m<module>\u001b[0;34m()\u001b[0m\n\u001b[1;32m      5\u001b[0m \u001b[0;34m\u001b[0m\u001b[0m\n\u001b[1;32m      6\u001b[0m \u001b[0;31m#print(data_tf.class_indices)\u001b[0m\u001b[0;34m\u001b[0m\u001b[0;34m\u001b[0m\u001b[0;34m\u001b[0m\u001b[0m\n\u001b[0;32m----> 7\u001b[0;31m \u001b[0mind_neg\u001b[0m \u001b[0;34m=\u001b[0m \u001b[0my_train\u001b[0m\u001b[0;34m[\u001b[0m\u001b[0;34m:\u001b[0m\u001b[0;34m,\u001b[0m \u001b[0;36m0\u001b[0m\u001b[0;34m]\u001b[0m\u001b[0;34m==\u001b[0m\u001b[0;36m1\u001b[0m\u001b[0;34m\u001b[0m\u001b[0;34m\u001b[0m\u001b[0m\n\u001b[0m\u001b[1;32m      8\u001b[0m \u001b[0mind_pos\u001b[0m \u001b[0;34m=\u001b[0m \u001b[0my_train\u001b[0m\u001b[0;34m[\u001b[0m\u001b[0;34m:\u001b[0m\u001b[0;34m,\u001b[0m \u001b[0;36m0\u001b[0m\u001b[0;34m]\u001b[0m\u001b[0;34m==\u001b[0m\u001b[0;36m0\u001b[0m\u001b[0;34m\u001b[0m\u001b[0;34m\u001b[0m\u001b[0m\n\u001b[1;32m      9\u001b[0m \u001b[0;34m\u001b[0m\u001b[0m\n",
            "\u001b[0;31mIndexError\u001b[0m: too many indices for array: array is 1-dimensional, but 2 were indexed"
          ]
        }
      ]
    },
    {
      "cell_type": "markdown",
      "metadata": {
        "id": "wevtiXRS3I-r"
      },
      "source": [
        "### Create model with resampled dataset"
      ],
      "id": "wevtiXRS3I-r"
    },
    {
      "cell_type": "code",
      "metadata": {
        "id": "d0996c88"
      },
      "source": [
        "x_train_flat, shape = reshape_flat(x_train_balanced)\n",
        "x_val_flat, _ = reshape_flat(x_val)\n",
        "\n",
        "model = Sequential()\n",
        "model.add(Dense(256, activation='relu', input_shape = shape))\n",
        "model.add(Dense(2, activation='softmax'))\n",
        "model.compile(optimizer='SGD', loss='categorical_crossentropy', metrics=['accuracy', 'mse'])"
      ],
      "id": "d0996c88",
      "execution_count": null,
      "outputs": []
    },
    {
      "cell_type": "code",
      "metadata": {
        "collapsed": true,
        "jupyter": {
          "outputs_hidden": true
        },
        "tags": [],
        "id": "e9ae95b3"
      },
      "source": [
        "history = model.fit(x=x_train_flat, y=y_train_balanced, epochs=50, validation_data=(x_val_flat, y_val))\n",
        "model.summary()"
      ],
      "id": "e9ae95b3",
      "execution_count": null,
      "outputs": []
    },
    {
      "cell_type": "markdown",
      "metadata": {
        "id": "36c570f5"
      },
      "source": [
        "### Incorporate Early Stopping"
      ],
      "id": "36c570f5"
    },
    {
      "cell_type": "code",
      "metadata": {
        "collapsed": true,
        "jupyter": {
          "outputs_hidden": true
        },
        "tags": [],
        "id": "030b57f2",
        "outputId": "7190cf43-6df8-4351-db63-af8f3be8da9d"
      },
      "source": [
        "early_stopping = [EarlyStopping(monitor='val_loss', patience=10),\n",
        "                 ModelCheckpoint('best_model.h5', monitor='val_loss', save_best_only=True)]\n",
        "\n",
        "history = model.fit(x=x_train_flat, y=y_train_balanced, \n",
        "                    callbacks=early_stopping,\n",
        "                    epochs=250, \n",
        "                    validation_data=(x_val_flat, y_val))\n",
        "\n",
        "best_model = keras.models.load_model('best_model.h5')\n",
        "best_model.summary()"
      ],
      "id": "030b57f2",
      "execution_count": null,
      "outputs": [
        {
          "output_type": "stream",
          "text": [
            "Epoch 1/250\n",
            "182/182 [==============================] - 8s 47ms/step - loss: 0.0574 - accuracy: 0.9805 - mse: 0.0152 - val_loss: 0.3845 - val_accuracy: 0.8942 - val_mse: 0.0842\n",
            "Epoch 2/250\n",
            "182/182 [==============================] - 9s 47ms/step - loss: 0.1367 - accuracy: 0.9292 - mse: 0.0395 - val_loss: 0.3103 - val_accuracy: 0.9095 - val_mse: 0.1032\n",
            "Epoch 3/250\n",
            "182/182 [==============================] - 8s 43ms/step - loss: 0.2645 - accuracy: 0.9521 - mse: 0.0820 - val_loss: 0.1537 - val_accuracy: 0.9433 - val_mse: 0.0424\n",
            "Epoch 4/250\n",
            "182/182 [==============================] - 8s 42ms/step - loss: 0.1697 - accuracy: 0.9399 - mse: 0.0471 - val_loss: 0.1623 - val_accuracy: 0.9417 - val_mse: 0.0463\n",
            "Epoch 5/250\n",
            "182/182 [==============================] - 8s 42ms/step - loss: 0.1233 - accuracy: 0.9542 - mse: 0.0348 - val_loss: 0.1748 - val_accuracy: 0.9440 - val_mse: 0.0460\n",
            "Epoch 6/250\n",
            "182/182 [==============================] - 8s 42ms/step - loss: 0.1122 - accuracy: 0.9602 - mse: 0.0306 - val_loss: 0.1593 - val_accuracy: 0.9479 - val_mse: 0.0437\n",
            "Epoch 7/250\n",
            "182/182 [==============================] - 7s 41ms/step - loss: 0.0875 - accuracy: 0.9680 - mse: 0.0240 - val_loss: 0.2425 - val_accuracy: 0.9340 - val_mse: 0.0544\n",
            "Epoch 8/250\n",
            "182/182 [==============================] - 8s 43ms/step - loss: 0.1207 - accuracy: 0.9576 - mse: 0.0328 - val_loss: 0.1670 - val_accuracy: 0.9494 - val_mse: 0.0429\n",
            "Epoch 9/250\n",
            "182/182 [==============================] - 7s 40ms/step - loss: 0.1186 - accuracy: 0.9607 - mse: 0.0311 - val_loss: 0.3113 - val_accuracy: 0.9202 - val_mse: 0.0667\n",
            "Epoch 10/250\n",
            "182/182 [==============================] - 7s 41ms/step - loss: 0.1320 - accuracy: 0.9530 - mse: 0.0356 - val_loss: 0.2084 - val_accuracy: 0.9310 - val_mse: 0.0507\n",
            "Epoch 11/250\n",
            "182/182 [==============================] - 7s 39ms/step - loss: 0.0900 - accuracy: 0.9678 - mse: 0.0245 - val_loss: 0.3245 - val_accuracy: 0.9179 - val_mse: 0.0681\n",
            "Epoch 12/250\n",
            "182/182 [==============================] - 8s 42ms/step - loss: 0.1162 - accuracy: 0.9590 - mse: 0.0314 - val_loss: 0.1846 - val_accuracy: 0.9402 - val_mse: 0.0457\n",
            "Epoch 13/250\n",
            "182/182 [==============================] - 8s 43ms/step - loss: 0.0841 - accuracy: 0.9680 - mse: 0.0237 - val_loss: 0.1593 - val_accuracy: 0.9509 - val_mse: 0.0416\n",
            "Model: \"sequential_3\"\n",
            "_________________________________________________________________\n",
            "Layer (type)                 Output Shape              Param #   \n",
            "=================================================================\n",
            "dense_6 (Dense)              (None, 128)               6291584   \n",
            "_________________________________________________________________\n",
            "dense_7 (Dense)              (None, 2)                 258       \n",
            "=================================================================\n",
            "Total params: 6,291,842\n",
            "Trainable params: 6,291,842\n",
            "Non-trainable params: 0\n",
            "_________________________________________________________________\n"
          ],
          "name": "stdout"
        }
      ]
    },
    {
      "cell_type": "markdown",
      "metadata": {
        "id": "37082f39"
      },
      "source": [
        "### Add Regularization"
      ],
      "id": "37082f39"
    },
    {
      "cell_type": "code",
      "metadata": {
        "id": "64f002c7"
      },
      "source": [
        "LAMBDA = 0.005\n",
        "\n",
        "model = Sequential()\n",
        "model.add(Dense(256, activation='relu', input_shape = shape, kernel_regularizer=regularizers.l2(LAMBDA)))\n",
        "model.add(Dense(64, activation='relu', kernel_regularizer=regularizers.l2(LAMBDA)))\n",
        "model.add(Dense(16, activation='relu', kernel_regularizer=regularizers.l2(LAMBDA)))\n",
        "model.add(Dense(2, activation='softmax'))\n",
        "model.compile(optimizer='SGD', metrics=['accuracy', 'mse'], loss='categorical_crossentropy')\n",
        "\n",
        "history = model.fit(x=x_train_flat, y=y_train_balanced, \n",
        "                    callbacks=early_stopping, \n",
        "                    epochs=250, \n",
        "                    validation_data=(x_val_flat, y_val))\n",
        "\n",
        "best_model = keras.models.load_model('best_model.h5')\n",
        "best_model.summary()"
      ],
      "id": "64f002c7",
      "execution_count": null,
      "outputs": []
    },
    {
      "cell_type": "markdown",
      "metadata": {
        "id": "145a6e21"
      },
      "source": [
        "### Add Dropout"
      ],
      "id": "145a6e21"
    },
    {
      "cell_type": "code",
      "metadata": {
        "id": "96008667"
      },
      "source": [
        "x_train_flat, shape = reshape_flat(x_train_balanced)\n",
        "x_val_flat, _ = reshape_flat(x_val)\n",
        "early_stopping = [EarlyStopping(monitor='val_loss', patience=10),\n",
        "                 ModelCheckpoint('best_model.h5', monitor='val_loss', save_best_only=True)]\n",
        "\n",
        "LAMBDA = 0.005\n",
        "DROPOUT = 0.3\n",
        "\n",
        "t0 = time.time()\n",
        "\n",
        "\n",
        "model = Sequential()\n",
        "model.add(Dense(256, activation='relu', input_shape = SHAPE, kernel_regularizer=regularizers.l2(LAMBDA)))\n",
        "model.add(Dropout(DROPOUT))\n",
        "\n",
        "model.add(Dense(64, activation='relu', kernel_regularizer=regularizers.l2(LAMBDA)))\n",
        "model.add(Dropout(DROPOUT))\n",
        "\n",
        "model.add(Dense(16, activation='relu', kernel_regularizer=regularizers.l2(LAMBDA)))\n",
        "model.add(Dropout(DROPOUT))\n",
        "\n",
        "model.add(Dense(2, activation='softmax'))\n",
        "\n",
        "model.compile(optimizer='SGD', metrics=['accuracy', 'mse'], loss='categorical_crossentropy')\n",
        "\n",
        "model.fit(x=x_train_flat, y=y_train_balanced, \n",
        "          callbacks=early_stopping, \n",
        "          epochs=250, \n",
        "          validation_data=(x_val_flat, y_val), verbose=2)\n",
        "\n",
        "best_model = keras.models.load_model('best_model.h5')\n",
        "best_model.summary()\n",
        "\n",
        "print('Full runtime:', time.time() - t0)"
      ],
      "id": "96008667",
      "execution_count": null,
      "outputs": []
    },
    {
      "cell_type": "code",
      "metadata": {
        "id": "b3c28165"
      },
      "source": [
        ""
      ],
      "id": "b3c28165",
      "execution_count": null,
      "outputs": []
    }
  ]
}