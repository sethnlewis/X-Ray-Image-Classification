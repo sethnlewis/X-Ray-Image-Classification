{
 "cells": [
  {
   "cell_type": "markdown",
   "id": "2c94f783",
   "metadata": {},
   "source": [
    "### Imports & declarations"
   ]
  },
  {
   "cell_type": "code",
   "execution_count": 36,
   "id": "4d403c7b",
   "metadata": {},
   "outputs": [],
   "source": [
    "import numpy as np\n",
    "import pandas as pd\n",
    "import matplotlib.pyplot as plt\n",
    "\n",
    "\n",
    "from sklearn.model_selection import train_test_split\n",
    "from keras.preprocessing.image import img_to_array, load_img, array_to_img, ImageDataGenerator\n",
    "from keras.models import *\n",
    "from keras.layers import *\n",
    "\n",
    "data_path_mini = '../data/raw/kaggle_mini_subsample'\n",
    "data_path_train = '../data/raw/train'\n",
    "\n",
    "RANDOM_STATE = 2020"
   ]
  },
  {
   "cell_type": "markdown",
   "id": "5ff24723",
   "metadata": {},
   "source": [
    "### Mini dataset"
   ]
  },
  {
   "cell_type": "code",
   "execution_count": 2,
   "id": "fe267b96",
   "metadata": {},
   "outputs": [
    {
     "name": "stdout",
     "output_type": "stream",
     "text": [
      "Found 500 images belonging to 2 classes.\n"
     ]
    },
    {
     "data": {
      "image/png": "[encoded data removed]",
      "text/plain": [
       "<PIL.Image.Image image mode=RGB size=128x128 at 0x21434303A60>"
      ]
     },
     "metadata": {},
     "output_type": "display_data"
    },
    {
     "name": "stdout",
     "output_type": "stream",
     "text": [
      "{'NORMAL': 0, 'PNEUMONIA': 1}\n"
     ]
    }
   ],
   "source": [
    "BATCH_SIZE = 250\n",
    "TARGET_SIZE = [128, 128]\n",
    "image_generator = ImageDataGenerator().flow_from_directory(data_path_mini, batch_size=BATCH_SIZE, target_size=TARGET_SIZE);\n",
    "images, labels = next(image_generator)\n",
    "images_scaled = images / 255\n",
    "\n",
    "display(array_to_img(images[0]))\n",
    "print(image_generator.class_indices)"
   ]
  },
  {
   "cell_type": "code",
   "execution_count": 4,
   "id": "e90b11da",
   "metadata": {},
   "outputs": [],
   "source": [
    "x = images_scaled.reshape(250,128*128*3)\n",
    "\n",
    "SHAPE = (x.shape[1],)\n",
    "\n",
    "model = Sequential()\n",
    "model.add(Dense(64, activation='relu', input_shape = SHAPE))\n",
    "model.add(Dense(2, activation='softmax'))\n",
    "model.compile(optimizer='SGD', loss='categorical_crossentropy', metrics=['accuracy'])"
   ]
  },
  {
   "cell_type": "code",
   "execution_count": 5,
   "id": "7b522501",
   "metadata": {
    "collapsed": true,
    "jupyter": {
     "outputs_hidden": true
    },
    "tags": []
   },
   "outputs": [
    {
     "name": "stdout",
     "output_type": "stream",
     "text": [
      "Epoch 1/50\n",
      "8/8 [==============================] - 0s 14ms/step - loss: 2.8369 - accuracy: 0.5640\n",
      "Epoch 2/50\n",
      "8/8 [==============================] - 0s 15ms/step - loss: 0.6801 - accuracy: 0.5560\n",
      "Epoch 3/50\n",
      "8/8 [==============================] - 0s 14ms/step - loss: 0.6599 - accuracy: 0.5960\n",
      "Epoch 4/50\n",
      "8/8 [==============================] - 0s 15ms/step - loss: 0.6540 - accuracy: 0.7440\n",
      "Epoch 5/50\n",
      "8/8 [==============================] - 0s 15ms/step - loss: 0.6581 - accuracy: 0.5480\n",
      "Epoch 6/50\n",
      "8/8 [==============================] - 0s 14ms/step - loss: 0.6107 - accuracy: 0.6160\n",
      "Epoch 7/50\n",
      "8/8 [==============================] - 0s 14ms/step - loss: 0.6586 - accuracy: 0.6520\n",
      "Epoch 8/50\n",
      "8/8 [==============================] - 0s 16ms/step - loss: 0.5272 - accuracy: 0.7640\n",
      "Epoch 9/50\n",
      "8/8 [==============================] - 0s 14ms/step - loss: 0.6692 - accuracy: 0.6960\n",
      "Epoch 10/50\n",
      "8/8 [==============================] - 0s 14ms/step - loss: 0.5835 - accuracy: 0.7120\n",
      "Epoch 11/50\n",
      "8/8 [==============================] - 0s 14ms/step - loss: 0.5658 - accuracy: 0.7120\n",
      "Epoch 12/50\n",
      "8/8 [==============================] - 0s 14ms/step - loss: 0.5024 - accuracy: 0.7760\n",
      "Epoch 13/50\n",
      "8/8 [==============================] - 0s 14ms/step - loss: 0.3535 - accuracy: 0.8720\n",
      "Epoch 14/50\n",
      "8/8 [==============================] - 0s 14ms/step - loss: 0.6117 - accuracy: 0.7040\n",
      "Epoch 15/50\n",
      "8/8 [==============================] - 0s 16ms/step - loss: 0.4289 - accuracy: 0.8080\n",
      "Epoch 16/50\n",
      "8/8 [==============================] - 0s 16ms/step - loss: 0.3250 - accuracy: 0.8800\n",
      "Epoch 17/50\n",
      "8/8 [==============================] - 0s 15ms/step - loss: 0.5207 - accuracy: 0.7800\n",
      "Epoch 18/50\n",
      "8/8 [==============================] - 0s 14ms/step - loss: 0.2732 - accuracy: 0.9160\n",
      "Epoch 19/50\n",
      "8/8 [==============================] - 0s 14ms/step - loss: 0.6014 - accuracy: 0.7000\n",
      "Epoch 20/50\n",
      "8/8 [==============================] - 0s 15ms/step - loss: 0.5278 - accuracy: 0.7480\n",
      "Epoch 21/50\n",
      "8/8 [==============================] - 0s 13ms/step - loss: 0.4216 - accuracy: 0.7840\n",
      "Epoch 22/50\n",
      "8/8 [==============================] - 0s 14ms/step - loss: 0.4013 - accuracy: 0.8360\n",
      "Epoch 23/50\n",
      "8/8 [==============================] - 0s 14ms/step - loss: 0.5978 - accuracy: 0.8200\n",
      "Epoch 24/50\n",
      "8/8 [==============================] - 0s 14ms/step - loss: 0.4863 - accuracy: 0.8560\n",
      "Epoch 25/50\n",
      "8/8 [==============================] - 0s 14ms/step - loss: 0.4514 - accuracy: 0.8920\n",
      "Epoch 26/50\n",
      "8/8 [==============================] - 0s 15ms/step - loss: 0.3539 - accuracy: 0.9000\n",
      "Epoch 27/50\n",
      "8/8 [==============================] - 0s 15ms/step - loss: 0.4999 - accuracy: 0.7760\n",
      "Epoch 28/50\n",
      "8/8 [==============================] - 0s 15ms/step - loss: 0.3883 - accuracy: 0.8680\n",
      "Epoch 29/50\n",
      "8/8 [==============================] - 0s 15ms/step - loss: 0.3446 - accuracy: 0.8480\n",
      "Epoch 30/50\n",
      "8/8 [==============================] - 0s 16ms/step - loss: 0.5308 - accuracy: 0.7960\n",
      "Epoch 31/50\n",
      "8/8 [==============================] - 0s 15ms/step - loss: 0.3869 - accuracy: 0.8400\n",
      "Epoch 32/50\n",
      "8/8 [==============================] - 0s 15ms/step - loss: 0.6779 - accuracy: 0.7120\n",
      "Epoch 33/50\n",
      "8/8 [==============================] - 0s 14ms/step - loss: 0.4192 - accuracy: 0.8280\n",
      "Epoch 34/50\n",
      "8/8 [==============================] - 0s 15ms/step - loss: 0.3643 - accuracy: 0.8320\n",
      "Epoch 35/50\n",
      "8/8 [==============================] - 0s 16ms/step - loss: 0.3553 - accuracy: 0.8560\n",
      "Epoch 36/50\n",
      "8/8 [==============================] - 0s 14ms/step - loss: 0.2538 - accuracy: 0.9120\n",
      "Epoch 37/50\n",
      "8/8 [==============================] - 0s 15ms/step - loss: 0.4252 - accuracy: 0.8440\n",
      "Epoch 38/50\n",
      "8/8 [==============================] - 0s 16ms/step - loss: 0.4786 - accuracy: 0.8160\n",
      "Epoch 39/50\n",
      "8/8 [==============================] - 0s 17ms/step - loss: 0.2539 - accuracy: 0.9200\n",
      "Epoch 40/50\n",
      "8/8 [==============================] - 0s 14ms/step - loss: 0.3527 - accuracy: 0.8480\n",
      "Epoch 41/50\n",
      "8/8 [==============================] - 0s 13ms/step - loss: 0.2230 - accuracy: 0.9120\n",
      "Epoch 42/50\n",
      "8/8 [==============================] - 0s 14ms/step - loss: 0.2654 - accuracy: 0.8920\n",
      "Epoch 43/50\n",
      "8/8 [==============================] - 0s 13ms/step - loss: 0.3458 - accuracy: 0.8360\n",
      "Epoch 44/50\n",
      "8/8 [==============================] - 0s 13ms/step - loss: 0.3302 - accuracy: 0.8840\n",
      "Epoch 45/50\n",
      "8/8 [==============================] - 0s 14ms/step - loss: 0.3995 - accuracy: 0.8480\n",
      "Epoch 46/50\n",
      "8/8 [==============================] - 0s 12ms/step - loss: 0.3005 - accuracy: 0.8640\n",
      "Epoch 47/50\n",
      "8/8 [==============================] - 0s 13ms/step - loss: 0.2590 - accuracy: 0.9080\n",
      "Epoch 48/50\n",
      "8/8 [==============================] - 0s 14ms/step - loss: 0.3787 - accuracy: 0.8560\n",
      "Epoch 49/50\n",
      "8/8 [==============================] - 0s 14ms/step - loss: 0.3435 - accuracy: 0.8480\n",
      "Epoch 50/50\n",
      "8/8 [==============================] - 0s 11ms/step - loss: 0.2421 - accuracy: 0.9040\n"
     ]
    }
   ],
   "source": [
    "history = model.fit(x=x, y=labels, epochs=50)"
   ]
  },
  {
   "cell_type": "code",
   "execution_count": 8,
   "id": "d1b62045",
   "metadata": {},
   "outputs": [
    {
     "data": {
      "image/png": "[encoded data removed]",
      "text/plain": [
       "<Figure size 432x288 with 1 Axes>"
      ]
     },
     "metadata": {
      "needs_background": "light"
     },
     "output_type": "display_data"
    }
   ],
   "source": [
    "acc = history.history['accuracy']\n",
    "plt.plot(range(len(acc)), acc);"
   ]
  },
  {
   "cell_type": "markdown",
   "id": "eee04388",
   "metadata": {},
   "source": [
    "### Full train dataset, no separate validation dataset used"
   ]
  },
  {
   "cell_type": "code",
   "execution_count": 9,
   "id": "33bd6c55",
   "metadata": {},
   "outputs": [
    {
     "name": "stdout",
     "output_type": "stream",
     "text": [
      "Found 5216 images belonging to 2 classes.\n",
      "Found 16 images belonging to 2 classes.\n",
      "(5216, 128, 128, 3) (5216, 2)\n",
      "(16, 128, 128, 3) (16, 2)\n"
     ]
    }
   ],
   "source": [
    "BATCH_SIZE_TRAIN = 1341+3875\n",
    "TARGET_SIZE = [128, 128]\n",
    "\n",
    "generator_train = ImageDataGenerator().flow_from_directory(data_path_train,\n",
    "                                                          batch_size=BATCH_SIZE_TRAIN,\n",
    "                                                          target_size=TARGET_SIZE)\n",
    "\n",
    "images_train, labels_train = next(generator_train)\n",
    "images_train_scaled = images_train / 256\n",
    "\n",
    "print(images_train_scaled.shape, labels_train.shape)"
   ]
  },
  {
   "cell_type": "code",
   "execution_count": 10,
   "id": "b1edfb02",
   "metadata": {},
   "outputs": [
    {
     "name": "stdout",
     "output_type": "stream",
     "text": [
      "(5216, 49152) (5216, 2) (49152,)\n"
     ]
    }
   ],
   "source": [
    "s = images_train.shape\n",
    "x = images_train_scaled.reshape(s[0], s[1]*s[2]*s[3])\n",
    "\n",
    "SHAPE = (x.shape[1],)\n",
    "\n",
    "print(x.shape, labels_train.shape, SHAPE)"
   ]
  },
  {
   "cell_type": "code",
   "execution_count": 29,
   "id": "4f038804",
   "metadata": {},
   "outputs": [],
   "source": [
    "model = Sequential()\n",
    "model.add(Dense(128, activation='relu', input_shape = SHAPE))\n",
    "model.add(Dense(2, activation='softmax'))\n",
    "model.compile(optimizer='SGD', loss='categorical_crossentropy', metrics=['accuracy', 'mse'])"
   ]
  },
  {
   "cell_type": "code",
   "execution_count": 30,
   "id": "194ec7fb",
   "metadata": {
    "collapsed": true,
    "jupyter": {
     "outputs_hidden": true
    },
    "tags": []
   },
   "outputs": [
    {
     "name": "stdout",
     "output_type": "stream",
     "text": [
      "Epoch 1/100\n",
      "98/98 [==============================] - 8s 78ms/step - loss: 0.7325 - accuracy: 0.7418 - mse: 0.1891 - val_loss: 0.5223 - val_accuracy: 0.8256 - val_mse: 0.1687\n",
      "Epoch 2/100\n",
      "98/98 [==============================] - 7s 69ms/step - loss: 0.4244 - accuracy: 0.7951 - mse: 0.1366 - val_loss: 0.5501 - val_accuracy: 0.6914 - val_mse: 0.1868\n",
      "Epoch 3/100\n",
      "98/98 [==============================] - 6s 61ms/step - loss: 0.3323 - accuracy: 0.8658 - mse: 0.1011 - val_loss: 0.4779 - val_accuracy: 0.7676 - val_mse: 0.1582\n",
      "Epoch 4/100\n",
      "98/98 [==============================] - 6s 56ms/step - loss: 0.2831 - accuracy: 0.8875 - mse: 0.0839 - val_loss: 0.1676 - val_accuracy: 0.9368 - val_mse: 0.0480\n",
      "Epoch 5/100\n",
      "98/98 [==============================] - 6s 60ms/step - loss: 0.2659 - accuracy: 0.8917 - mse: 0.0782 - val_loss: 0.1814 - val_accuracy: 0.9257 - val_mse: 0.0545\n",
      "Epoch 6/100\n",
      "98/98 [==============================] - 6s 61ms/step - loss: 0.2367 - accuracy: 0.9070 - mse: 0.0689 - val_loss: 0.2121 - val_accuracy: 0.9042 - val_mse: 0.0665\n",
      "Epoch 7/100\n",
      "98/98 [==============================] - 6s 63ms/step - loss: 0.2096 - accuracy: 0.9201 - mse: 0.0617 - val_loss: 0.1415 - val_accuracy: 0.9483 - val_mse: 0.0391\n",
      "Epoch 8/100\n",
      "98/98 [==============================] - 6s 63ms/step - loss: 0.2067 - accuracy: 0.9227 - mse: 0.0590 - val_loss: 0.1563 - val_accuracy: 0.9368 - val_mse: 0.0470\n",
      "Epoch 9/100\n",
      "98/98 [==============================] - 6s 66ms/step - loss: 0.1896 - accuracy: 0.9214 - mse: 0.0570 - val_loss: 0.1280 - val_accuracy: 0.9502 - val_mse: 0.0371\n",
      "Epoch 10/100\n",
      "98/98 [==============================] - 6s 60ms/step - loss: 0.1856 - accuracy: 0.9275 - mse: 0.0551 - val_loss: 0.1623 - val_accuracy: 0.9411 - val_mse: 0.0461\n",
      "Epoch 11/100\n",
      "98/98 [==============================] - 6s 61ms/step - loss: 0.1826 - accuracy: 0.9265 - mse: 0.0540 - val_loss: 0.1449 - val_accuracy: 0.9406 - val_mse: 0.0429\n",
      "Epoch 12/100\n",
      "98/98 [==============================] - 6s 66ms/step - loss: 0.1629 - accuracy: 0.9358 - mse: 0.0485 - val_loss: 0.1183 - val_accuracy: 0.9574 - val_mse: 0.0333\n",
      "Epoch 13/100\n",
      "98/98 [==============================] - 6s 65ms/step - loss: 0.1678 - accuracy: 0.9319 - mse: 0.0486 - val_loss: 0.1179 - val_accuracy: 0.9564 - val_mse: 0.0337\n",
      "Epoch 14/100\n",
      "98/98 [==============================] - 6s 60ms/step - loss: 0.1433 - accuracy: 0.9479 - mse: 0.0412 - val_loss: 0.1617 - val_accuracy: 0.9353 - val_mse: 0.0480\n",
      "Epoch 15/100\n",
      "98/98 [==============================] - 6s 63ms/step - loss: 0.1660 - accuracy: 0.9329 - mse: 0.0483 - val_loss: 0.1683 - val_accuracy: 0.9348 - val_mse: 0.0496\n",
      "Epoch 16/100\n",
      "98/98 [==============================] - 6s 63ms/step - loss: 0.1463 - accuracy: 0.9469 - mse: 0.0416 - val_loss: 0.1163 - val_accuracy: 0.9574 - val_mse: 0.0334\n",
      "Epoch 17/100\n",
      "98/98 [==============================] - 6s 61ms/step - loss: 0.1467 - accuracy: 0.9393 - mse: 0.0442 - val_loss: 0.2773 - val_accuracy: 0.8903 - val_mse: 0.0814\n",
      "Epoch 18/100\n",
      "98/98 [==============================] - 7s 70ms/step - loss: 0.1473 - accuracy: 0.9412 - mse: 0.0431 - val_loss: 0.1128 - val_accuracy: 0.9564 - val_mse: 0.0318\n",
      "Epoch 19/100\n",
      "98/98 [==============================] - 6s 64ms/step - loss: 0.1441 - accuracy: 0.9418 - mse: 0.0423 - val_loss: 0.1877 - val_accuracy: 0.9286 - val_mse: 0.0545\n",
      "Epoch 20/100\n",
      "98/98 [==============================] - 6s 63ms/step - loss: 0.1272 - accuracy: 0.9498 - mse: 0.0370 - val_loss: 0.1394 - val_accuracy: 0.9459 - val_mse: 0.0404\n",
      "Epoch 21/100\n",
      "98/98 [==============================] - 7s 71ms/step - loss: 0.1410 - accuracy: 0.9425 - mse: 0.0415 - val_loss: 0.1095 - val_accuracy: 0.9593 - val_mse: 0.0311\n",
      "Epoch 22/100\n",
      "98/98 [==============================] - 8s 82ms/step - loss: 0.1400 - accuracy: 0.9482 - mse: 0.0400 - val_loss: 0.1746 - val_accuracy: 0.9310 - val_mse: 0.0523\n",
      "Epoch 23/100\n",
      "98/98 [==============================] - 6s 60ms/step - loss: 0.1518 - accuracy: 0.9441 - mse: 0.0438 - val_loss: 0.1110 - val_accuracy: 0.9583 - val_mse: 0.0311\n",
      "Epoch 24/100\n",
      "98/98 [==============================] - 7s 70ms/step - loss: 0.1307 - accuracy: 0.9514 - mse: 0.0382 - val_loss: 0.3050 - val_accuracy: 0.8773 - val_mse: 0.0925\n",
      "Epoch 25/100\n",
      "98/98 [==============================] - 8s 78ms/step - loss: 0.1318 - accuracy: 0.9501 - mse: 0.0381 - val_loss: 0.1669 - val_accuracy: 0.9358 - val_mse: 0.0484\n",
      "Epoch 26/100\n",
      "98/98 [==============================] - 6s 61ms/step - loss: 0.1206 - accuracy: 0.9591 - mse: 0.0342 - val_loss: 0.1073 - val_accuracy: 0.9588 - val_mse: 0.0305\n",
      "Epoch 27/100\n",
      "98/98 [==============================] - 6s 60ms/step - loss: 0.1304 - accuracy: 0.9479 - mse: 0.0381 - val_loss: 0.1075 - val_accuracy: 0.9607 - val_mse: 0.0305\n",
      "Epoch 28/100\n",
      "98/98 [==============================] - 6s 60ms/step - loss: 0.1142 - accuracy: 0.9556 - mse: 0.0327 - val_loss: 0.1082 - val_accuracy: 0.9602 - val_mse: 0.0305\n",
      "Epoch 29/100\n",
      "98/98 [==============================] - 6s 61ms/step - loss: 0.1125 - accuracy: 0.9553 - mse: 0.0332 - val_loss: 0.1265 - val_accuracy: 0.9492 - val_mse: 0.0372\n",
      "Epoch 30/100\n",
      "98/98 [==============================] - 6s 60ms/step - loss: 0.1190 - accuracy: 0.9556 - mse: 0.0342 - val_loss: 0.1062 - val_accuracy: 0.9583 - val_mse: 0.0299\n",
      "Epoch 31/100\n",
      "98/98 [==============================] - 6s 60ms/step - loss: 0.1145 - accuracy: 0.9549 - mse: 0.0330 - val_loss: 0.1090 - val_accuracy: 0.9617 - val_mse: 0.0310\n",
      "Epoch 32/100\n",
      "98/98 [==============================] - 6s 58ms/step - loss: 0.1417 - accuracy: 0.9466 - mse: 0.0419 - val_loss: 0.1139 - val_accuracy: 0.9602 - val_mse: 0.0317\n",
      "Epoch 33/100\n",
      "98/98 [==============================] - 6s 61ms/step - loss: 0.1126 - accuracy: 0.9588 - mse: 0.0321 - val_loss: 0.1174 - val_accuracy: 0.9564 - val_mse: 0.0328\n",
      "Epoch 34/100\n",
      "98/98 [==============================] - 6s 60ms/step - loss: 0.1198 - accuracy: 0.9495 - mse: 0.0360 - val_loss: 0.1449 - val_accuracy: 0.9391 - val_mse: 0.0438\n",
      "Epoch 35/100\n",
      "98/98 [==============================] - 6s 58ms/step - loss: 0.1326 - accuracy: 0.9511 - mse: 0.0390 - val_loss: 0.1074 - val_accuracy: 0.9612 - val_mse: 0.0303\n",
      "Epoch 36/100\n",
      "98/98 [==============================] - 6s 60ms/step - loss: 0.1039 - accuracy: 0.9585 - mse: 0.0304 - val_loss: 0.1253 - val_accuracy: 0.9569 - val_mse: 0.0348\n",
      "Epoch 37/100\n",
      "98/98 [==============================] - 6s 59ms/step - loss: 0.1209 - accuracy: 0.9521 - mse: 0.0350 - val_loss: 0.1071 - val_accuracy: 0.9612 - val_mse: 0.0300\n",
      "Epoch 38/100\n",
      "98/98 [==============================] - 6s 61ms/step - loss: 0.1130 - accuracy: 0.9562 - mse: 0.0329 - val_loss: 0.1036 - val_accuracy: 0.9602 - val_mse: 0.0292\n",
      "Epoch 39/100\n",
      "98/98 [==============================] - 6s 65ms/step - loss: 0.1053 - accuracy: 0.9620 - mse: 0.0302 - val_loss: 0.1202 - val_accuracy: 0.9569 - val_mse: 0.0333\n",
      "Epoch 40/100\n",
      "98/98 [==============================] - 6s 64ms/step - loss: 0.1147 - accuracy: 0.9556 - mse: 0.0334 - val_loss: 0.1194 - val_accuracy: 0.9526 - val_mse: 0.0347\n",
      "Epoch 41/100\n",
      "98/98 [==============================] - 6s 63ms/step - loss: 0.1026 - accuracy: 0.9604 - mse: 0.0299 - val_loss: 0.1035 - val_accuracy: 0.9626 - val_mse: 0.0294\n",
      "Epoch 42/100\n",
      "98/98 [==============================] - 6s 61ms/step - loss: 0.1059 - accuracy: 0.9562 - mse: 0.0313 - val_loss: 0.1576 - val_accuracy: 0.9425 - val_mse: 0.0443\n",
      "Epoch 43/100\n",
      "98/98 [==============================] - 6s 62ms/step - loss: 0.1046 - accuracy: 0.9591 - mse: 0.0306 - val_loss: 0.1359 - val_accuracy: 0.9564 - val_mse: 0.0380\n",
      "Epoch 44/100\n",
      "98/98 [==============================] - 6s 59ms/step - loss: 0.1046 - accuracy: 0.9572 - mse: 0.0309 - val_loss: 0.1813 - val_accuracy: 0.9267 - val_mse: 0.0543\n",
      "Epoch 45/100\n",
      "98/98 [==============================] - 6s 58ms/step - loss: 0.0951 - accuracy: 0.9629 - mse: 0.0280 - val_loss: 0.1069 - val_accuracy: 0.9621 - val_mse: 0.0294\n",
      "Epoch 46/100\n",
      "98/98 [==============================] - 6s 58ms/step - loss: 0.1059 - accuracy: 0.9594 - mse: 0.0311 - val_loss: 0.1127 - val_accuracy: 0.9574 - val_mse: 0.0325\n",
      "Epoch 47/100\n",
      "98/98 [==============================] - 6s 60ms/step - loss: 0.1076 - accuracy: 0.9604 - mse: 0.0309 - val_loss: 0.1173 - val_accuracy: 0.9554 - val_mse: 0.0334\n",
      "Epoch 48/100\n",
      "98/98 [==============================] - 6s 63ms/step - loss: 0.0938 - accuracy: 0.9607 - mse: 0.0278 - val_loss: 0.1034 - val_accuracy: 0.9621 - val_mse: 0.0285\n",
      "Epoch 49/100\n",
      "98/98 [==============================] - 6s 59ms/step - loss: 0.1061 - accuracy: 0.9562 - mse: 0.0314 - val_loss: 0.2382 - val_accuracy: 0.9142 - val_mse: 0.0649\n",
      "Epoch 50/100\n",
      "98/98 [==============================] - 6s 62ms/step - loss: 0.0992 - accuracy: 0.9629 - mse: 0.0286 - val_loss: 0.1085 - val_accuracy: 0.9612 - val_mse: 0.0297\n",
      "Epoch 51/100\n",
      "98/98 [==============================] - 6s 58ms/step - loss: 0.0945 - accuracy: 0.9626 - mse: 0.0279 - val_loss: 0.1085 - val_accuracy: 0.9593 - val_mse: 0.0310\n",
      "Epoch 52/100\n",
      "98/98 [==============================] - 6s 58ms/step - loss: 0.0978 - accuracy: 0.9642 - mse: 0.0280 - val_loss: 0.1424 - val_accuracy: 0.9506 - val_mse: 0.0383\n",
      "Epoch 53/100\n",
      "98/98 [==============================] - 6s 57ms/step - loss: 0.0952 - accuracy: 0.9620 - mse: 0.0284 - val_loss: 0.1113 - val_accuracy: 0.9607 - val_mse: 0.0307\n",
      "Epoch 54/100\n",
      "98/98 [==============================] - 6s 59ms/step - loss: 0.0902 - accuracy: 0.9636 - mse: 0.0262 - val_loss: 0.1444 - val_accuracy: 0.9435 - val_mse: 0.0426\n",
      "Epoch 55/100\n",
      "98/98 [==============================] - 6s 59ms/step - loss: 0.0970 - accuracy: 0.9591 - mse: 0.0291 - val_loss: 0.1296 - val_accuracy: 0.9602 - val_mse: 0.0348\n",
      "Epoch 56/100\n",
      "98/98 [==============================] - 6s 61ms/step - loss: 0.0908 - accuracy: 0.9636 - mse: 0.0271 - val_loss: 0.1003 - val_accuracy: 0.9631 - val_mse: 0.0281\n",
      "Epoch 57/100\n",
      "98/98 [==============================] - 6s 58ms/step - loss: 0.0964 - accuracy: 0.9623 - mse: 0.0283 - val_loss: 0.1203 - val_accuracy: 0.9583 - val_mse: 0.0329\n",
      "Epoch 58/100\n",
      "98/98 [==============================] - 6s 65ms/step - loss: 0.0862 - accuracy: 0.9655 - mse: 0.0250 - val_loss: 0.1035 - val_accuracy: 0.9641 - val_mse: 0.0285\n",
      "Epoch 59/100\n",
      "98/98 [==============================] - 6s 63ms/step - loss: 0.1015 - accuracy: 0.9597 - mse: 0.0298 - val_loss: 0.1192 - val_accuracy: 0.9593 - val_mse: 0.0317\n",
      "Epoch 60/100\n",
      "98/98 [==============================] - 6s 66ms/step - loss: 0.0943 - accuracy: 0.9632 - mse: 0.0278 - val_loss: 0.1034 - val_accuracy: 0.9645 - val_mse: 0.0279\n",
      "Epoch 61/100\n",
      "98/98 [==============================] - 6s 64ms/step - loss: 0.0781 - accuracy: 0.9703 - mse: 0.0226 - val_loss: 0.1027 - val_accuracy: 0.9612 - val_mse: 0.0286\n",
      "Epoch 62/100\n",
      "98/98 [==============================] - 6s 65ms/step - loss: 0.0853 - accuracy: 0.9693 - mse: 0.0241 - val_loss: 0.1068 - val_accuracy: 0.9617 - val_mse: 0.0292\n",
      "Epoch 63/100\n",
      "98/98 [==============================] - 6s 64ms/step - loss: 0.0871 - accuracy: 0.9680 - mse: 0.0249 - val_loss: 0.1005 - val_accuracy: 0.9665 - val_mse: 0.0270\n",
      "Epoch 64/100\n",
      "98/98 [==============================] - 6s 62ms/step - loss: 0.0820 - accuracy: 0.9684 - mse: 0.0239 - val_loss: 0.0996 - val_accuracy: 0.9650 - val_mse: 0.0281\n",
      "Epoch 65/100\n",
      "98/98 [==============================] - 6s 64ms/step - loss: 0.0804 - accuracy: 0.9709 - mse: 0.0219 - val_loss: 0.1052 - val_accuracy: 0.9650 - val_mse: 0.0281\n",
      "Epoch 66/100\n",
      "98/98 [==============================] - 6s 62ms/step - loss: 0.1117 - accuracy: 0.9553 - mse: 0.0319 - val_loss: 0.1030 - val_accuracy: 0.9631 - val_mse: 0.0279\n",
      "Epoch 67/100\n",
      "98/98 [==============================] - 7s 66ms/step - loss: 0.0850 - accuracy: 0.9671 - mse: 0.0254 - val_loss: 0.1008 - val_accuracy: 0.9645 - val_mse: 0.0277\n",
      "Epoch 68/100\n",
      "98/98 [==============================] - 8s 77ms/step - loss: 0.0995 - accuracy: 0.9623 - mse: 0.0292 - val_loss: 0.1036 - val_accuracy: 0.9588 - val_mse: 0.0289\n",
      "Epoch 69/100\n",
      "98/98 [==============================] - 6s 65ms/step - loss: 0.0758 - accuracy: 0.9700 - mse: 0.0222 - val_loss: 0.1430 - val_accuracy: 0.9511 - val_mse: 0.0370\n",
      "Epoch 70/100\n",
      "98/98 [==============================] - 6s 63ms/step - loss: 0.0900 - accuracy: 0.9626 - mse: 0.0268 - val_loss: 0.1108 - val_accuracy: 0.9621 - val_mse: 0.0298\n",
      "Epoch 71/100\n",
      "98/98 [==============================] - 6s 65ms/step - loss: 0.0905 - accuracy: 0.9652 - mse: 0.0264 - val_loss: 0.1078 - val_accuracy: 0.9588 - val_mse: 0.0307\n",
      "Epoch 72/100\n",
      "98/98 [==============================] - 6s 64ms/step - loss: 0.0858 - accuracy: 0.9674 - mse: 0.0245 - val_loss: 0.1142 - val_accuracy: 0.9626 - val_mse: 0.0296\n",
      "Epoch 73/100\n",
      "98/98 [==============================] - 6s 64ms/step - loss: 0.0935 - accuracy: 0.9664 - mse: 0.0261 - val_loss: 0.2046 - val_accuracy: 0.9152 - val_mse: 0.0609\n",
      "Epoch 74/100\n",
      "98/98 [==============================] - 6s 63ms/step - loss: 0.0952 - accuracy: 0.9642 - mse: 0.0272 - val_loss: 0.1198 - val_accuracy: 0.9626 - val_mse: 0.0322\n",
      "Epoch 75/100\n",
      "98/98 [==============================] - 6s 63ms/step - loss: 0.0938 - accuracy: 0.9668 - mse: 0.0274 - val_loss: 0.1043 - val_accuracy: 0.9607 - val_mse: 0.0282\n",
      "Epoch 76/100\n",
      "98/98 [==============================] - 6s 63ms/step - loss: 0.0777 - accuracy: 0.9693 - mse: 0.0228 - val_loss: 0.1058 - val_accuracy: 0.9626 - val_mse: 0.0281\n",
      "Epoch 77/100\n",
      "98/98 [==============================] - 6s 63ms/step - loss: 0.1136 - accuracy: 0.9559 - mse: 0.0331 - val_loss: 0.1750 - val_accuracy: 0.9406 - val_mse: 0.0453\n",
      "Epoch 78/100\n",
      "98/98 [==============================] - 6s 63ms/step - loss: 0.0908 - accuracy: 0.9664 - mse: 0.0262 - val_loss: 0.1033 - val_accuracy: 0.9626 - val_mse: 0.0280\n",
      "Epoch 79/100\n",
      "98/98 [==============================] - 6s 65ms/step - loss: 0.0819 - accuracy: 0.9706 - mse: 0.0233 - val_loss: 0.1025 - val_accuracy: 0.9621 - val_mse: 0.0288\n",
      "Epoch 80/100\n",
      "98/98 [==============================] - 6s 62ms/step - loss: 0.0863 - accuracy: 0.9655 - mse: 0.0253 - val_loss: 0.1495 - val_accuracy: 0.9420 - val_mse: 0.0440\n",
      "Epoch 81/100\n",
      "98/98 [==============================] - 6s 60ms/step - loss: 0.0747 - accuracy: 0.9690 - mse: 0.0221 - val_loss: 0.1021 - val_accuracy: 0.9645 - val_mse: 0.0273\n",
      "Epoch 82/100\n",
      "98/98 [==============================] - 6s 63ms/step - loss: 0.1110 - accuracy: 0.9581 - mse: 0.0323 - val_loss: 0.1377 - val_accuracy: 0.9459 - val_mse: 0.0401\n",
      "Epoch 83/100\n",
      "98/98 [==============================] - 6s 63ms/step - loss: 0.1294 - accuracy: 0.9530 - mse: 0.0361 - val_loss: 0.2368 - val_accuracy: 0.8984 - val_mse: 0.0735\n",
      "Epoch 84/100\n",
      "98/98 [==============================] - 6s 59ms/step - loss: 0.1167 - accuracy: 0.9585 - mse: 0.0313 - val_loss: 0.1691 - val_accuracy: 0.9267 - val_mse: 0.0524\n",
      "Epoch 85/100\n",
      "98/98 [==============================] - 6s 61ms/step - loss: 0.0747 - accuracy: 0.9722 - mse: 0.0208 - val_loss: 0.0984 - val_accuracy: 0.9655 - val_mse: 0.0265\n",
      "Epoch 86/100\n",
      "98/98 [==============================] - 6s 59ms/step - loss: 0.0751 - accuracy: 0.9690 - mse: 0.0219 - val_loss: 0.1637 - val_accuracy: 0.9382 - val_mse: 0.0467\n",
      "Epoch 87/100\n",
      "98/98 [==============================] - 6s 58ms/step - loss: 0.0599 - accuracy: 0.9776 - mse: 0.0169 - val_loss: 0.1108 - val_accuracy: 0.9621 - val_mse: 0.0299\n",
      "Epoch 88/100\n",
      "98/98 [==============================] - 6s 59ms/step - loss: 0.0745 - accuracy: 0.9700 - mse: 0.0220 - val_loss: 0.1145 - val_accuracy: 0.9655 - val_mse: 0.0289\n",
      "Epoch 89/100\n",
      "98/98 [==============================] - 6s 60ms/step - loss: 0.0586 - accuracy: 0.9783 - mse: 0.0166 - val_loss: 0.1274 - val_accuracy: 0.9626 - val_mse: 0.0310\n",
      "Epoch 90/100\n",
      "98/98 [==============================] - 6s 62ms/step - loss: 0.0641 - accuracy: 0.9754 - mse: 0.0188 - val_loss: 0.1036 - val_accuracy: 0.9669 - val_mse: 0.0269\n",
      "Epoch 91/100\n",
      "98/98 [==============================] - 6s 61ms/step - loss: 0.0586 - accuracy: 0.9802 - mse: 0.0164 - val_loss: 0.2320 - val_accuracy: 0.9157 - val_mse: 0.0659\n",
      "Epoch 92/100\n",
      "98/98 [==============================] - 6s 60ms/step - loss: 0.0786 - accuracy: 0.9706 - mse: 0.0216 - val_loss: 0.1651 - val_accuracy: 0.9363 - val_mse: 0.0477\n",
      "Epoch 93/100\n",
      "98/98 [==============================] - 6s 60ms/step - loss: 0.0581 - accuracy: 0.9799 - mse: 0.0166 - val_loss: 0.0987 - val_accuracy: 0.9621 - val_mse: 0.0274\n",
      "Epoch 94/100\n",
      "98/98 [==============================] - 6s 58ms/step - loss: 0.0506 - accuracy: 0.9831 - mse: 0.0141 - val_loss: 0.1069 - val_accuracy: 0.9617 - val_mse: 0.0297\n",
      "Epoch 95/100\n",
      "98/98 [==============================] - 6s 59ms/step - loss: 0.0794 - accuracy: 0.9703 - mse: 0.0227 - val_loss: 0.1267 - val_accuracy: 0.9626 - val_mse: 0.0310\n",
      "Epoch 96/100\n",
      "98/98 [==============================] - 6s 60ms/step - loss: 0.0581 - accuracy: 0.9779 - mse: 0.0167 - val_loss: 0.0988 - val_accuracy: 0.9679 - val_mse: 0.0271\n",
      "Epoch 97/100\n",
      "98/98 [==============================] - 6s 58ms/step - loss: 0.0624 - accuracy: 0.9767 - mse: 0.0179 - val_loss: 0.1014 - val_accuracy: 0.9684 - val_mse: 0.0264\n",
      "Epoch 98/100\n",
      "98/98 [==============================] - 6s 62ms/step - loss: 0.0558 - accuracy: 0.9783 - mse: 0.0160 - val_loss: 0.3030 - val_accuracy: 0.9003 - val_mse: 0.0805\n",
      "Epoch 99/100\n",
      "98/98 [==============================] - 6s 61ms/step - loss: 0.0712 - accuracy: 0.9738 - mse: 0.0199 - val_loss: 0.1146 - val_accuracy: 0.9588 - val_mse: 0.0318\n",
      "Epoch 100/100\n",
      "98/98 [==============================] - 6s 59ms/step - loss: 0.0585 - accuracy: 0.9779 - mse: 0.0164 - val_loss: 0.1776 - val_accuracy: 0.9339 - val_mse: 0.0507\n"
     ]
    }
   ],
   "source": [
    "history = model.fit(x=x, y=labels_train, epochs=100, validation_split=0.4, )"
   ]
  },
  {
   "cell_type": "code",
   "execution_count": 31,
   "id": "e2725191",
   "metadata": {},
   "outputs": [
    {
     "data": {
      "image/png": "[encoded data removed]",
      "text/plain": [
       "<Figure size 432x288 with 1 Axes>"
      ]
     },
     "metadata": {
      "needs_background": "light"
     },
     "output_type": "display_data"
    }
   ],
   "source": [
    "history.history.keys()\n",
    "\n",
    "acc_train = history.history['accuracy']\n",
    "acc_val = history.history['val_accuracy']\n",
    "epoch_ct = range(len(acc_train))\n",
    "\n",
    "plt.plot(epoch_ct, acc_train, label='Training')\n",
    "plt.plot(epoch_ct, acc_val, label='Validation')\n",
    "plt.title('Accuracy')\n",
    "plt.legend();"
   ]
  },
  {
   "cell_type": "code",
   "execution_count": 32,
   "id": "b8d0ab33",
   "metadata": {},
   "outputs": [
    {
     "data": {
      "image/png": "[encoded data removed]",
      "text/plain": [
       "<Figure size 432x288 with 1 Axes>"
      ]
     },
     "metadata": {
      "needs_background": "light"
     },
     "output_type": "display_data"
    }
   ],
   "source": [
    "history.history.keys()\n",
    "\n",
    "mse_train = history.history['mse']\n",
    "mse_val = history.history['val_mse']\n",
    "epoch_ct = range(len(mse_train))\n",
    "\n",
    "plt.plot(epoch_ct, mse_train, label='Training')\n",
    "plt.plot(epoch_ct, mse_val, label='Validation')\n",
    "plt.title('Mean Squared Error')\n",
    "plt.legend();"
   ]
  },
  {
   "cell_type": "markdown",
   "id": "895cd514",
   "metadata": {},
   "source": [
    "### Incorporate class weighting"
   ]
  },
  {
   "cell_type": "code",
   "execution_count": 40,
   "id": "9b068e40",
   "metadata": {},
   "outputs": [],
   "source": [
    "x_train, x_val, y_train, y_val = train_test_split(images_train_scaled, labels_train, random_state=RANDOM_STATE, test_size = 0.25)"
   ]
  },
  {
   "cell_type": "code",
   "execution_count": 44,
   "id": "edf9c365",
   "metadata": {},
   "outputs": [
    {
     "data": {
      "text/plain": [
       "array([1038., 2874.], dtype=float32)"
      ]
     },
     "execution_count": 44,
     "metadata": {},
     "output_type": "execute_result"
    }
   ],
   "source": [
    "# Source for class weight calculations: \n",
    "# https://www.tensorflow.org/tutorials/structured_data/imbalanced_data#class_weights\n",
    "y_train.sum(axis=0)"
   ]
  },
  {
   "cell_type": "code",
   "execution_count": 56,
   "id": "0d36af08",
   "metadata": {},
   "outputs": [
    {
     "data": {
      "text/plain": [
       "{'NORMAL': 0, 'PNEUMONIA': 1}"
      ]
     },
     "execution_count": 56,
     "metadata": {},
     "output_type": "execute_result"
    }
   ],
   "source": []
  },
  {
   "cell_type": "code",
   "execution_count": 67,
   "id": "0cc314df",
   "metadata": {},
   "outputs": [
    {
     "name": "stdout",
     "output_type": "stream",
     "text": [
      "{'NORMAL': 0, 'PNEUMONIA': 1}\n",
      "Negative count: 1038 , Positive count: 2874\n"
     ]
    }
   ],
   "source": [
    "np.random.seed(RANDOM_STATE)\n",
    "\n",
    "print(generator_train.class_indices)\n",
    "ind_neg = y_train[:, 0]==1\n",
    "ind_pos = y_train[:, 0]==0\n",
    "\n",
    "\n",
    "neg_ct = ind_neg.sum()\n",
    "pos_ct = ind_pos.sum()\n",
    "print('Negative count:', neg_ct, ', Positive count:', pos_ct)\n",
    "\n",
    "#np.random.choice()"
   ]
  },
  {
   "cell_type": "code",
   "execution_count": null,
   "id": "c65f9c2b",
   "metadata": {},
   "outputs": [],
   "source": []
  }
 ],
 "metadata": {
  "kernelspec": {
   "display_name": "Python 3",
   "language": "python",
   "name": "python3"
  },
  "language_info": {
   "codemirror_mode": {
    "name": "ipython",
    "version": 3
   },
   "file_extension": ".py",
   "mimetype": "text/x-python",
   "name": "python",
   "nbconvert_exporter": "python",
   "pygments_lexer": "ipython3",
   "version": "3.8.3"
  }
 },
 "nbformat": 4,
 "nbformat_minor": 5
}
