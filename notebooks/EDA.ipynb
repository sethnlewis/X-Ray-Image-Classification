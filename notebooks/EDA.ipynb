{
 "cells": [
  {
   "cell_type": "markdown",
   "id": "36410aae",
   "metadata": {},
   "source": [
    "### Imports & declarations"
   ]
  },
  {
   "cell_type": "code",
   "execution_count": 1,
   "id": "4ae680c7",
   "metadata": {},
   "outputs": [],
   "source": [
    "import numpy as np\n",
    "import pandas as pd\n",
    "import matplotlib.pyplot as plt\n",
    "\n",
    "\n",
    "from sklearn.model_selection import train_test_split\n",
    "from keras.preprocessing.image import img_to_array, load_img, array_to_img, ImageDataGenerator\n",
    "from keras.models import *\n",
    "from keras.layers import *\n",
    "\n",
    "data_path_mini = '../data/raw/kaggle_mini_subsample'\n",
    "data_path_train = '../data/raw/kaggle/train'\n",
    "data_path_val = '../data/raw/kaggle/val'"
   ]
  },
  {
   "cell_type": "markdown",
   "id": "cb813573",
   "metadata": {},
   "source": [
    "### Mini dataset"
   ]
  },
  {
   "cell_type": "code",
   "execution_count": 2,
   "id": "3fd34063",
   "metadata": {},
   "outputs": [
    {
     "name": "stdout",
     "output_type": "stream",
     "text": [
      "Found 500 images belonging to 2 classes.\n"
     ]
    },
    {
     "data": {
      "image/png": "[encoded data removed]",
      "text/plain": [
       "<PIL.Image.Image image mode=RGB size=128x128 at 0x21434303A60>"
      ]
     },
     "metadata": {},
     "output_type": "display_data"
    },
    {
     "name": "stdout",
     "output_type": "stream",
     "text": [
      "{'NORMAL': 0, 'PNEUMONIA': 1}\n"
     ]
    }
   ],
   "source": [
    "BATCH_SIZE = 250\n",
    "TARGET_SIZE = [128, 128]\n",
    "image_generator = ImageDataGenerator().flow_from_directory(data_path_mini, batch_size=BATCH_SIZE, target_size=TARGET_SIZE);\n",
    "images, labels = next(image_generator)\n",
    "images_scaled = images / 255\n",
    "\n",
    "display(array_to_img(images[0]))\n",
    "print(image_generator.class_indices)"
   ]
  },
  {
   "cell_type": "code",
   "execution_count": 4,
   "id": "ca3f4382",
   "metadata": {},
   "outputs": [],
   "source": [
    "x = images_scaled.reshape(250,128*128*3)\n",
    "\n",
    "SHAPE = (x.shape[1],)\n",
    "\n",
    "model = Sequential()\n",
    "model.add(Dense(64, activation='relu', input_shape = SHAPE))\n",
    "model.add(Dense(2, activation='softmax'))\n",
    "model.compile(optimizer='SGD', loss='categorical_crossentropy', metrics=['accuracy'])"
   ]
  },
  {
   "cell_type": "code",
   "execution_count": 5,
   "id": "17e1a5d5",
   "metadata": {
    "collapsed": true,
    "jupyter": {
     "outputs_hidden": true
    },
    "tags": []
   },
   "outputs": [
    {
     "name": "stdout",
     "output_type": "stream",
     "text": [
      "Epoch 1/50\n",
      "8/8 [==============================] - 0s 14ms/step - loss: 2.8369 - accuracy: 0.5640\n",
      "Epoch 2/50\n",
      "8/8 [==============================] - 0s 15ms/step - loss: 0.6801 - accuracy: 0.5560\n",
      "Epoch 3/50\n",
      "8/8 [==============================] - 0s 14ms/step - loss: 0.6599 - accuracy: 0.5960\n",
      "Epoch 4/50\n",
      "8/8 [==============================] - 0s 15ms/step - loss: 0.6540 - accuracy: 0.7440\n",
      "Epoch 5/50\n",
      "8/8 [==============================] - 0s 15ms/step - loss: 0.6581 - accuracy: 0.5480\n",
      "Epoch 6/50\n",
      "8/8 [==============================] - 0s 14ms/step - loss: 0.6107 - accuracy: 0.6160\n",
      "Epoch 7/50\n",
      "8/8 [==============================] - 0s 14ms/step - loss: 0.6586 - accuracy: 0.6520\n",
      "Epoch 8/50\n",
      "8/8 [==============================] - 0s 16ms/step - loss: 0.5272 - accuracy: 0.7640\n",
      "Epoch 9/50\n",
      "8/8 [==============================] - 0s 14ms/step - loss: 0.6692 - accuracy: 0.6960\n",
      "Epoch 10/50\n",
      "8/8 [==============================] - 0s 14ms/step - loss: 0.5835 - accuracy: 0.7120\n",
      "Epoch 11/50\n",
      "8/8 [==============================] - 0s 14ms/step - loss: 0.5658 - accuracy: 0.7120\n",
      "Epoch 12/50\n",
      "8/8 [==============================] - 0s 14ms/step - loss: 0.5024 - accuracy: 0.7760\n",
      "Epoch 13/50\n",
      "8/8 [==============================] - 0s 14ms/step - loss: 0.3535 - accuracy: 0.8720\n",
      "Epoch 14/50\n",
      "8/8 [==============================] - 0s 14ms/step - loss: 0.6117 - accuracy: 0.7040\n",
      "Epoch 15/50\n",
      "8/8 [==============================] - 0s 16ms/step - loss: 0.4289 - accuracy: 0.8080\n",
      "Epoch 16/50\n",
      "8/8 [==============================] - 0s 16ms/step - loss: 0.3250 - accuracy: 0.8800\n",
      "Epoch 17/50\n",
      "8/8 [==============================] - 0s 15ms/step - loss: 0.5207 - accuracy: 0.7800\n",
      "Epoch 18/50\n",
      "8/8 [==============================] - 0s 14ms/step - loss: 0.2732 - accuracy: 0.9160\n",
      "Epoch 19/50\n",
      "8/8 [==============================] - 0s 14ms/step - loss: 0.6014 - accuracy: 0.7000\n",
      "Epoch 20/50\n",
      "8/8 [==============================] - 0s 15ms/step - loss: 0.5278 - accuracy: 0.7480\n",
      "Epoch 21/50\n",
      "8/8 [==============================] - 0s 13ms/step - loss: 0.4216 - accuracy: 0.7840\n",
      "Epoch 22/50\n",
      "8/8 [==============================] - 0s 14ms/step - loss: 0.4013 - accuracy: 0.8360\n",
      "Epoch 23/50\n",
      "8/8 [==============================] - 0s 14ms/step - loss: 0.5978 - accuracy: 0.8200\n",
      "Epoch 24/50\n",
      "8/8 [==============================] - 0s 14ms/step - loss: 0.4863 - accuracy: 0.8560\n",
      "Epoch 25/50\n",
      "8/8 [==============================] - 0s 14ms/step - loss: 0.4514 - accuracy: 0.8920\n",
      "Epoch 26/50\n",
      "8/8 [==============================] - 0s 15ms/step - loss: 0.3539 - accuracy: 0.9000\n",
      "Epoch 27/50\n",
      "8/8 [==============================] - 0s 15ms/step - loss: 0.4999 - accuracy: 0.7760\n",
      "Epoch 28/50\n",
      "8/8 [==============================] - 0s 15ms/step - loss: 0.3883 - accuracy: 0.8680\n",
      "Epoch 29/50\n",
      "8/8 [==============================] - 0s 15ms/step - loss: 0.3446 - accuracy: 0.8480\n",
      "Epoch 30/50\n",
      "8/8 [==============================] - 0s 16ms/step - loss: 0.5308 - accuracy: 0.7960\n",
      "Epoch 31/50\n",
      "8/8 [==============================] - 0s 15ms/step - loss: 0.3869 - accuracy: 0.8400\n",
      "Epoch 32/50\n",
      "8/8 [==============================] - 0s 15ms/step - loss: 0.6779 - accuracy: 0.7120\n",
      "Epoch 33/50\n",
      "8/8 [==============================] - 0s 14ms/step - loss: 0.4192 - accuracy: 0.8280\n",
      "Epoch 34/50\n",
      "8/8 [==============================] - 0s 15ms/step - loss: 0.3643 - accuracy: 0.8320\n",
      "Epoch 35/50\n",
      "8/8 [==============================] - 0s 16ms/step - loss: 0.3553 - accuracy: 0.8560\n",
      "Epoch 36/50\n",
      "8/8 [==============================] - 0s 14ms/step - loss: 0.2538 - accuracy: 0.9120\n",
      "Epoch 37/50\n",
      "8/8 [==============================] - 0s 15ms/step - loss: 0.4252 - accuracy: 0.8440\n",
      "Epoch 38/50\n",
      "8/8 [==============================] - 0s 16ms/step - loss: 0.4786 - accuracy: 0.8160\n",
      "Epoch 39/50\n",
      "8/8 [==============================] - 0s 17ms/step - loss: 0.2539 - accuracy: 0.9200\n",
      "Epoch 40/50\n",
      "8/8 [==============================] - 0s 14ms/step - loss: 0.3527 - accuracy: 0.8480\n",
      "Epoch 41/50\n",
      "8/8 [==============================] - 0s 13ms/step - loss: 0.2230 - accuracy: 0.9120\n",
      "Epoch 42/50\n",
      "8/8 [==============================] - 0s 14ms/step - loss: 0.2654 - accuracy: 0.8920\n",
      "Epoch 43/50\n",
      "8/8 [==============================] - 0s 13ms/step - loss: 0.3458 - accuracy: 0.8360\n",
      "Epoch 44/50\n",
      "8/8 [==============================] - 0s 13ms/step - loss: 0.3302 - accuracy: 0.8840\n",
      "Epoch 45/50\n",
      "8/8 [==============================] - 0s 14ms/step - loss: 0.3995 - accuracy: 0.8480\n",
      "Epoch 46/50\n",
      "8/8 [==============================] - 0s 12ms/step - loss: 0.3005 - accuracy: 0.8640\n",
      "Epoch 47/50\n",
      "8/8 [==============================] - 0s 13ms/step - loss: 0.2590 - accuracy: 0.9080\n",
      "Epoch 48/50\n",
      "8/8 [==============================] - 0s 14ms/step - loss: 0.3787 - accuracy: 0.8560\n",
      "Epoch 49/50\n",
      "8/8 [==============================] - 0s 14ms/step - loss: 0.3435 - accuracy: 0.8480\n",
      "Epoch 50/50\n",
      "8/8 [==============================] - 0s 11ms/step - loss: 0.2421 - accuracy: 0.9040\n"
     ]
    }
   ],
   "source": [
    "history = model.fit(x=x, y=labels, epochs=50)"
   ]
  },
  {
   "cell_type": "code",
   "execution_count": 8,
   "id": "cd8efe0c",
   "metadata": {},
   "outputs": [
    {
     "data": {
      "image/png": "[encoded data removed]",
      "text/plain": [
       "<Figure size 432x288 with 1 Axes>"
      ]
     },
     "metadata": {
      "needs_background": "light"
     },
     "output_type": "display_data"
    }
   ],
   "source": [
    "acc = history.history['accuracy']\n",
    "plt.plot(range(len(acc)), acc);"
   ]
  },
  {
   "cell_type": "markdown",
   "id": "b3c4cca4",
   "metadata": {},
   "source": [
    "### Full train dataset, no separate validation dataset used"
   ]
  },
  {
   "cell_type": "code",
   "execution_count": 9,
   "id": "d7a8471b",
   "metadata": {},
   "outputs": [
    {
     "name": "stdout",
     "output_type": "stream",
     "text": [
      "Found 5216 images belonging to 2 classes.\n",
      "Found 16 images belonging to 2 classes.\n",
      "(5216, 128, 128, 3) (5216, 2)\n",
      "(16, 128, 128, 3) (16, 2)\n"
     ]
    }
   ],
   "source": [
    "BATCH_SIZE_TRAIN = 1341+3875\n",
    "BATCH_SIZE_VAL = 8+8\n",
    "TARGET_SIZE = [128, 128]\n",
    "\n",
    "generator_train = ImageDataGenerator().flow_from_directory(data_path_train,\n",
    "                                                          batch_size=BATCH_SIZE_TRAIN,\n",
    "                                                          target_size=TARGET_SIZE)\n",
    "generator_val = ImageDataGenerator().flow_from_directory(data_path_val,\n",
    "                                                        batch_size=BATCH_SIZE_VAL,\n",
    "                                                        target_size=TARGET_SIZE)\n",
    "\n",
    "images_train, labels_train = next(generator_train)\n",
    "images_val, labels_val = next(generator_val)\n",
    "\n",
    "print(images_train.shape, labels_train.shape)\n",
    "print(images_val.shape, labels_val.shape)\n",
    "\n",
    "images_train_scaled = images_train / 256\n",
    "images_val_scaled = images_val / 256"
   ]
  },
  {
   "cell_type": "code",
   "execution_count": 10,
   "id": "882252af",
   "metadata": {},
   "outputs": [
    {
     "name": "stdout",
     "output_type": "stream",
     "text": [
      "(5216, 49152) (5216, 2) (49152,)\n"
     ]
    }
   ],
   "source": [
    "s = images_train.shape\n",
    "x = images_train_scaled.reshape(s[0], s[1]*s[2]*s[3])\n",
    "\n",
    "SHAPE = (x.shape[1],)\n",
    "\n",
    "print(x.shape, labels_train.shape, SHAPE)"
   ]
  },
  {
   "cell_type": "code",
   "execution_count": 11,
   "id": "ba0302e1",
   "metadata": {},
   "outputs": [],
   "source": [
    "model = Sequential()\n",
    "model.add(Dense(128, activation='relu', input_shape = SHAPE))\n",
    "model.add(Dense(2, activation='softmax'))\n",
    "model.compile(optimizer='SGD', loss='categorical_crossentropy', metrics=['accuracy'])"
   ]
  },
  {
   "cell_type": "code",
   "execution_count": 12,
   "id": "c857e692",
   "metadata": {
    "collapsed": true,
    "jupyter": {
     "outputs_hidden": true
    },
    "tags": []
   },
   "outputs": [
    {
     "name": "stdout",
     "output_type": "stream",
     "text": [
      "Epoch 1/100\n",
      "98/98 [==============================] - 7s 76ms/step - loss: 0.6747 - accuracy: 0.7510 - val_loss: 0.4673 - val_accuracy: 0.8586\n",
      "Epoch 2/100\n",
      "98/98 [==============================] - 3s 34ms/step - loss: 0.3953 - accuracy: 0.8233 - val_loss: 0.7156 - val_accuracy: 0.7547\n",
      "Epoch 3/100\n",
      "98/98 [==============================] - 3s 32ms/step - loss: 0.3246 - accuracy: 0.8639 - val_loss: 0.1929 - val_accuracy: 0.9363\n",
      "Epoch 4/100\n",
      "98/98 [==============================] - 3s 32ms/step - loss: 0.2949 - accuracy: 0.8814 - val_loss: 0.2120 - val_accuracy: 0.9051\n",
      "Epoch 5/100\n",
      "98/98 [==============================] - 3s 32ms/step - loss: 0.2669 - accuracy: 0.8907 - val_loss: 0.2056 - val_accuracy: 0.9090\n",
      "Epoch 6/100\n",
      "98/98 [==============================] - 3s 30ms/step - loss: 0.2383 - accuracy: 0.9016 - val_loss: 0.1709 - val_accuracy: 0.9300\n",
      "Epoch 7/100\n",
      "98/98 [==============================] - 3s 31ms/step - loss: 0.2206 - accuracy: 0.9182 - val_loss: 0.2792 - val_accuracy: 0.9396\n",
      "Epoch 8/100\n",
      "98/98 [==============================] - 3s 33ms/step - loss: 0.1992 - accuracy: 0.9246 - val_loss: 0.2541 - val_accuracy: 0.8860\n",
      "Epoch 9/100\n",
      "98/98 [==============================] - 3s 32ms/step - loss: 0.1968 - accuracy: 0.9198 - val_loss: 0.1937 - val_accuracy: 0.9171\n",
      "Epoch 10/100\n",
      "98/98 [==============================] - 3s 31ms/step - loss: 0.1619 - accuracy: 0.9348 - val_loss: 0.3694 - val_accuracy: 0.8548\n",
      "Epoch 11/100\n",
      "98/98 [==============================] - 3s 32ms/step - loss: 0.1930 - accuracy: 0.9233 - val_loss: 0.1541 - val_accuracy: 0.9372\n",
      "Epoch 12/100\n",
      "98/98 [==============================] - 3s 33ms/step - loss: 0.1499 - accuracy: 0.9412 - val_loss: 0.1716 - val_accuracy: 0.9368\n",
      "Epoch 13/100\n",
      "98/98 [==============================] - 3s 31ms/step - loss: 0.1572 - accuracy: 0.9377 - val_loss: 0.1158 - val_accuracy: 0.9569\n",
      "Epoch 14/100\n",
      "98/98 [==============================] - 3s 31ms/step - loss: 0.1701 - accuracy: 0.9380 - val_loss: 0.1219 - val_accuracy: 0.9545\n",
      "Epoch 15/100\n",
      "98/98 [==============================] - 3s 32ms/step - loss: 0.1512 - accuracy: 0.9412 - val_loss: 0.1355 - val_accuracy: 0.9463\n",
      "Epoch 16/100\n",
      "98/98 [==============================] - 3s 32ms/step - loss: 0.1497 - accuracy: 0.9415 - val_loss: 0.1363 - val_accuracy: 0.9502\n",
      "Epoch 17/100\n",
      "98/98 [==============================] - 3s 32ms/step - loss: 0.1512 - accuracy: 0.9409 - val_loss: 0.1290 - val_accuracy: 0.9516\n",
      "Epoch 18/100\n",
      "98/98 [==============================] - 3s 31ms/step - loss: 0.1374 - accuracy: 0.9473 - val_loss: 0.1212 - val_accuracy: 0.9554\n",
      "Epoch 19/100\n",
      "98/98 [==============================] - 3s 31ms/step - loss: 0.1516 - accuracy: 0.9425 - val_loss: 0.1138 - val_accuracy: 0.9569\n",
      "Epoch 20/100\n",
      "98/98 [==============================] - 3s 32ms/step - loss: 0.1386 - accuracy: 0.9434 - val_loss: 0.1101 - val_accuracy: 0.9588\n",
      "Epoch 21/100\n",
      "98/98 [==============================] - 3s 32ms/step - loss: 0.1405 - accuracy: 0.9431 - val_loss: 0.1204 - val_accuracy: 0.9535\n",
      "Epoch 22/100\n",
      "98/98 [==============================] - 3s 31ms/step - loss: 0.1255 - accuracy: 0.9489 - val_loss: 0.1098 - val_accuracy: 0.9588\n",
      "Epoch 23/100\n",
      "98/98 [==============================] - 3s 32ms/step - loss: 0.1327 - accuracy: 0.9473 - val_loss: 0.1339 - val_accuracy: 0.9497\n",
      "Epoch 24/100\n",
      "98/98 [==============================] - 3s 34ms/step - loss: 0.1216 - accuracy: 0.9546 - val_loss: 0.1126 - val_accuracy: 0.9564\n",
      "Epoch 25/100\n",
      "98/98 [==============================] - 3s 33ms/step - loss: 0.1197 - accuracy: 0.9521 - val_loss: 0.1218 - val_accuracy: 0.9530\n",
      "Epoch 26/100\n",
      "98/98 [==============================] - 3s 32ms/step - loss: 0.1272 - accuracy: 0.9505 - val_loss: 0.1073 - val_accuracy: 0.9593\n",
      "Epoch 27/100\n",
      "98/98 [==============================] - 3s 34ms/step - loss: 0.1208 - accuracy: 0.9514 - val_loss: 0.2048 - val_accuracy: 0.9219\n",
      "Epoch 28/100\n",
      "98/98 [==============================] - 3s 33ms/step - loss: 0.1252 - accuracy: 0.9501 - val_loss: 0.1077 - val_accuracy: 0.9602\n",
      "Epoch 29/100\n",
      "98/98 [==============================] - 3s 34ms/step - loss: 0.1324 - accuracy: 0.9524 - val_loss: 0.1062 - val_accuracy: 0.9598\n",
      "Epoch 30/100\n",
      "98/98 [==============================] - 3s 32ms/step - loss: 0.1255 - accuracy: 0.9527 - val_loss: 0.1804 - val_accuracy: 0.9305\n",
      "Epoch 31/100\n",
      "98/98 [==============================] - 3s 31ms/step - loss: 0.1155 - accuracy: 0.9543 - val_loss: 0.1111 - val_accuracy: 0.9574\n",
      "Epoch 32/100\n",
      "98/98 [==============================] - 3s 33ms/step - loss: 0.1197 - accuracy: 0.9508 - val_loss: 0.2104 - val_accuracy: 0.9138\n",
      "Epoch 33/100\n",
      "98/98 [==============================] - 3s 32ms/step - loss: 0.1110 - accuracy: 0.9565 - val_loss: 0.1361 - val_accuracy: 0.9449\n",
      "Epoch 34/100\n",
      "98/98 [==============================] - 3s 33ms/step - loss: 0.1180 - accuracy: 0.9533 - val_loss: 0.1466 - val_accuracy: 0.9459\n",
      "Epoch 35/100\n",
      "98/98 [==============================] - 3s 36ms/step - loss: 0.1105 - accuracy: 0.9537 - val_loss: 0.1376 - val_accuracy: 0.9506\n",
      "Epoch 36/100\n",
      "98/98 [==============================] - 3s 34ms/step - loss: 0.1065 - accuracy: 0.9585 - val_loss: 0.1027 - val_accuracy: 0.9602\n",
      "Epoch 37/100\n",
      "98/98 [==============================] - 4s 38ms/step - loss: 0.0978 - accuracy: 0.9610 - val_loss: 0.1548 - val_accuracy: 0.9387\n",
      "Epoch 38/100\n",
      "98/98 [==============================] - 4s 37ms/step - loss: 0.1265 - accuracy: 0.9517 - val_loss: 0.1076 - val_accuracy: 0.9602\n",
      "Epoch 39/100\n",
      "98/98 [==============================] - 3s 34ms/step - loss: 0.1124 - accuracy: 0.9562 - val_loss: 0.1021 - val_accuracy: 0.9617\n",
      "Epoch 40/100\n",
      "98/98 [==============================] - 4s 39ms/step - loss: 0.0986 - accuracy: 0.9636 - val_loss: 0.1063 - val_accuracy: 0.9612\n",
      "Epoch 41/100\n",
      "98/98 [==============================] - 4s 41ms/step - loss: 0.0980 - accuracy: 0.9629 - val_loss: 0.1012 - val_accuracy: 0.9631\n",
      "Epoch 42/100\n",
      "98/98 [==============================] - 4s 37ms/step - loss: 0.1006 - accuracy: 0.9585 - val_loss: 0.1334 - val_accuracy: 0.9540\n",
      "Epoch 43/100\n",
      "98/98 [==============================] - 4s 37ms/step - loss: 0.1157 - accuracy: 0.9581 - val_loss: 0.0999 - val_accuracy: 0.9631\n",
      "Epoch 44/100\n",
      "98/98 [==============================] - 3s 34ms/step - loss: 0.1082 - accuracy: 0.9569 - val_loss: 0.1127 - val_accuracy: 0.9569\n",
      "Epoch 45/100\n",
      "98/98 [==============================] - 3s 31ms/step - loss: 0.0978 - accuracy: 0.9613 - val_loss: 0.1446 - val_accuracy: 0.9435\n",
      "Epoch 46/100\n",
      "98/98 [==============================] - 3s 31ms/step - loss: 0.0915 - accuracy: 0.9639 - val_loss: 0.1005 - val_accuracy: 0.9636\n",
      "Epoch 47/100\n",
      "98/98 [==============================] - 3s 32ms/step - loss: 0.0978 - accuracy: 0.9604 - val_loss: 0.1030 - val_accuracy: 0.9631\n",
      "Epoch 48/100\n",
      "98/98 [==============================] - 3s 31ms/step - loss: 0.1155 - accuracy: 0.9530 - val_loss: 0.1080 - val_accuracy: 0.9593\n",
      "Epoch 49/100\n",
      "98/98 [==============================] - 3s 31ms/step - loss: 0.0956 - accuracy: 0.9588 - val_loss: 0.1156 - val_accuracy: 0.9612\n",
      "Epoch 50/100\n",
      "98/98 [==============================] - 3s 30ms/step - loss: 0.0920 - accuracy: 0.9632 - val_loss: 0.1373 - val_accuracy: 0.9483\n",
      "Epoch 51/100\n",
      "98/98 [==============================] - 3s 30ms/step - loss: 0.0997 - accuracy: 0.9642 - val_loss: 0.0998 - val_accuracy: 0.9641\n",
      "Epoch 52/100\n",
      "98/98 [==============================] - 3s 31ms/step - loss: 0.0869 - accuracy: 0.9639 - val_loss: 0.0971 - val_accuracy: 0.9631\n",
      "Epoch 53/100\n",
      "98/98 [==============================] - 3s 31ms/step - loss: 0.0900 - accuracy: 0.9642 - val_loss: 0.1226 - val_accuracy: 0.9506\n",
      "Epoch 54/100\n",
      "98/98 [==============================] - 3s 31ms/step - loss: 0.1165 - accuracy: 0.9585 - val_loss: 0.0990 - val_accuracy: 0.9636\n",
      "Epoch 55/100\n",
      "98/98 [==============================] - 3s 35ms/step - loss: 0.0910 - accuracy: 0.9664 - val_loss: 0.0994 - val_accuracy: 0.9665\n",
      "Epoch 56/100\n",
      "98/98 [==============================] - 3s 34ms/step - loss: 0.1254 - accuracy: 0.9537 - val_loss: 0.1028 - val_accuracy: 0.9631\n",
      "Epoch 57/100\n",
      "98/98 [==============================] - 3s 33ms/step - loss: 0.1083 - accuracy: 0.9546 - val_loss: 0.1605 - val_accuracy: 0.9339\n",
      "Epoch 58/100\n",
      "98/98 [==============================] - 3s 32ms/step - loss: 0.0943 - accuracy: 0.9623 - val_loss: 0.1018 - val_accuracy: 0.9631\n",
      "Epoch 59/100\n",
      "98/98 [==============================] - 3s 32ms/step - loss: 0.0888 - accuracy: 0.9661 - val_loss: 0.0995 - val_accuracy: 0.9660\n",
      "Epoch 60/100\n",
      "98/98 [==============================] - 3s 32ms/step - loss: 0.1007 - accuracy: 0.9610 - val_loss: 0.1014 - val_accuracy: 0.9621\n",
      "Epoch 61/100\n",
      "98/98 [==============================] - 3s 32ms/step - loss: 0.0980 - accuracy: 0.9632 - val_loss: 0.1991 - val_accuracy: 0.9286\n",
      "Epoch 62/100\n",
      "98/98 [==============================] - 3s 31ms/step - loss: 0.1305 - accuracy: 0.9543 - val_loss: 0.0984 - val_accuracy: 0.9626\n",
      "Epoch 63/100\n",
      "98/98 [==============================] - 3s 31ms/step - loss: 0.1060 - accuracy: 0.9572 - val_loss: 0.2495 - val_accuracy: 0.9027\n",
      "Epoch 64/100\n",
      "98/98 [==============================] - 3s 32ms/step - loss: 0.0827 - accuracy: 0.9655 - val_loss: 0.1080 - val_accuracy: 0.9631\n",
      "Epoch 65/100\n",
      "98/98 [==============================] - 3s 32ms/step - loss: 0.0993 - accuracy: 0.9620 - val_loss: 0.1023 - val_accuracy: 0.9650\n",
      "Epoch 66/100\n",
      "98/98 [==============================] - 3s 32ms/step - loss: 0.0780 - accuracy: 0.9709 - val_loss: 0.1013 - val_accuracy: 0.9621\n",
      "Epoch 67/100\n",
      "98/98 [==============================] - 3s 32ms/step - loss: 0.0887 - accuracy: 0.9671 - val_loss: 0.1453 - val_accuracy: 0.9516\n",
      "Epoch 68/100\n",
      "98/98 [==============================] - 3s 32ms/step - loss: 0.1253 - accuracy: 0.9540 - val_loss: 0.0972 - val_accuracy: 0.9655\n",
      "Epoch 69/100\n",
      "98/98 [==============================] - 3s 31ms/step - loss: 0.0823 - accuracy: 0.9664 - val_loss: 0.1082 - val_accuracy: 0.9650\n",
      "Epoch 70/100\n",
      "98/98 [==============================] - 3s 33ms/step - loss: 0.0821 - accuracy: 0.9658 - val_loss: 0.1024 - val_accuracy: 0.9612\n",
      "Epoch 71/100\n",
      "98/98 [==============================] - 3s 32ms/step - loss: 0.0856 - accuracy: 0.9661 - val_loss: 0.1045 - val_accuracy: 0.9679\n",
      "Epoch 72/100\n",
      "98/98 [==============================] - 3s 32ms/step - loss: 0.1000 - accuracy: 0.9623 - val_loss: 0.0967 - val_accuracy: 0.9669\n",
      "Epoch 73/100\n",
      "98/98 [==============================] - 3s 31ms/step - loss: 0.0990 - accuracy: 0.9664 - val_loss: 0.2477 - val_accuracy: 0.9138\n",
      "Epoch 74/100\n",
      "98/98 [==============================] - 3s 32ms/step - loss: 0.0953 - accuracy: 0.9626 - val_loss: 0.1173 - val_accuracy: 0.9516\n",
      "Epoch 75/100\n",
      "98/98 [==============================] - 3s 31ms/step - loss: 0.0841 - accuracy: 0.9664 - val_loss: 0.1007 - val_accuracy: 0.9631\n",
      "Epoch 76/100\n",
      "98/98 [==============================] - 3s 31ms/step - loss: 0.0738 - accuracy: 0.9719 - val_loss: 0.2230 - val_accuracy: 0.9296\n",
      "Epoch 77/100\n",
      "98/98 [==============================] - 3s 33ms/step - loss: 0.1038 - accuracy: 0.9623 - val_loss: 0.1110 - val_accuracy: 0.9574\n",
      "Epoch 78/100\n",
      "98/98 [==============================] - 3s 32ms/step - loss: 0.0751 - accuracy: 0.9712 - val_loss: 0.1757 - val_accuracy: 0.9401\n",
      "Epoch 79/100\n",
      "98/98 [==============================] - 3s 31ms/step - loss: 0.0859 - accuracy: 0.9648 - val_loss: 0.1306 - val_accuracy: 0.9554\n",
      "Epoch 80/100\n",
      "98/98 [==============================] - 3s 31ms/step - loss: 0.0752 - accuracy: 0.9712 - val_loss: 0.1032 - val_accuracy: 0.9593\n",
      "Epoch 81/100\n",
      "98/98 [==============================] - 3s 32ms/step - loss: 0.0724 - accuracy: 0.9722 - val_loss: 0.1047 - val_accuracy: 0.9669\n",
      "Epoch 82/100\n",
      "98/98 [==============================] - 3s 32ms/step - loss: 0.0763 - accuracy: 0.9690 - val_loss: 0.1059 - val_accuracy: 0.9621\n",
      "Epoch 83/100\n",
      "98/98 [==============================] - 3s 32ms/step - loss: 0.0659 - accuracy: 0.9716 - val_loss: 0.1043 - val_accuracy: 0.9621\n",
      "Epoch 84/100\n",
      "98/98 [==============================] - 3s 33ms/step - loss: 0.0649 - accuracy: 0.9751 - val_loss: 0.0981 - val_accuracy: 0.9665\n",
      "Epoch 85/100\n",
      "98/98 [==============================] - 3s 32ms/step - loss: 0.0640 - accuracy: 0.9760 - val_loss: 0.1006 - val_accuracy: 0.9665\n",
      "Epoch 86/100\n",
      "98/98 [==============================] - 3s 34ms/step - loss: 0.0648 - accuracy: 0.9754 - val_loss: 0.1038 - val_accuracy: 0.9607\n",
      "Epoch 87/100\n",
      "98/98 [==============================] - 3s 31ms/step - loss: 0.0616 - accuracy: 0.9767 - val_loss: 0.0997 - val_accuracy: 0.9617\n",
      "Epoch 88/100\n",
      "98/98 [==============================] - 3s 31ms/step - loss: 0.0531 - accuracy: 0.9792 - val_loss: 0.4784 - val_accuracy: 0.8433\n",
      "Epoch 89/100\n",
      "98/98 [==============================] - 3s 31ms/step - loss: 0.0699 - accuracy: 0.9738 - val_loss: 0.1166 - val_accuracy: 0.9650\n",
      "Epoch 90/100\n",
      "98/98 [==============================] - 3s 31ms/step - loss: 0.0593 - accuracy: 0.9802 - val_loss: 0.1016 - val_accuracy: 0.9679\n",
      "Epoch 91/100\n",
      "98/98 [==============================] - 3s 35ms/step - loss: 0.0672 - accuracy: 0.9748 - val_loss: 0.1292 - val_accuracy: 0.9478\n",
      "Epoch 92/100\n",
      "98/98 [==============================] - 3s 35ms/step - loss: 0.0649 - accuracy: 0.9735 - val_loss: 0.1120 - val_accuracy: 0.9679\n",
      "Epoch 93/100\n",
      "98/98 [==============================] - 3s 34ms/step - loss: 0.0506 - accuracy: 0.9824 - val_loss: 0.1094 - val_accuracy: 0.9674\n",
      "Epoch 94/100\n",
      "98/98 [==============================] - 3s 33ms/step - loss: 0.0544 - accuracy: 0.9786 - val_loss: 0.2104 - val_accuracy: 0.9209\n",
      "Epoch 95/100\n",
      "98/98 [==============================] - 3s 34ms/step - loss: 0.0926 - accuracy: 0.9648 - val_loss: 0.2083 - val_accuracy: 0.9315\n",
      "Epoch 96/100\n",
      "98/98 [==============================] - 3s 33ms/step - loss: 0.0563 - accuracy: 0.9789 - val_loss: 0.1153 - val_accuracy: 0.9578\n",
      "Epoch 97/100\n",
      "98/98 [==============================] - 3s 33ms/step - loss: 0.0555 - accuracy: 0.9795 - val_loss: 0.1114 - val_accuracy: 0.9588\n",
      "Epoch 98/100\n",
      "98/98 [==============================] - 3s 33ms/step - loss: 0.0499 - accuracy: 0.9815 - val_loss: 0.1916 - val_accuracy: 0.9353\n",
      "Epoch 99/100\n",
      "98/98 [==============================] - 3s 34ms/step - loss: 0.0502 - accuracy: 0.9789 - val_loss: 0.1133 - val_accuracy: 0.9650\n",
      "Epoch 100/100\n",
      "98/98 [==============================] - 3s 33ms/step - loss: 0.0472 - accuracy: 0.9824 - val_loss: 0.1268 - val_accuracy: 0.9660\n"
     ]
    }
   ],
   "source": [
    "history = model.fit(x=x, y=labels_train, epochs=100, validation_split=0.4)"
   ]
  },
  {
   "cell_type": "code",
   "execution_count": 13,
   "id": "d5aa6bab",
   "metadata": {},
   "outputs": [
    {
     "data": {
      "image/png": "[encoded data removed]",
      "text/plain": [
       "<Figure size 432x288 with 1 Axes>"
      ]
     },
     "metadata": {
      "needs_background": "light"
     },
     "output_type": "display_data"
    }
   ],
   "source": [
    "history.history.keys()\n",
    "\n",
    "acc_train = history.history['accuracy']\n",
    "acc_val = history.history['val_accuracy']\n",
    "epoch_ct = range(len(acc_train))\n",
    "\n",
    "plt.plot(epoch_ct, acc_train, label='Training')\n",
    "plt.plot(epoch_ct, acc_val, label='Validation')\n",
    "plt.legend();"
   ]
  },
  {
   "cell_type": "code",
   "execution_count": 14,
   "id": "37b94526",
   "metadata": {},
   "outputs": [],
   "source": [
    "images_train_scaled = images_train / 256\n",
    "images_val_scaled = images_val / 256"
   ]
  },
  {
   "cell_type": "code",
   "execution_count": 15,
   "id": "3f72eb4f",
   "metadata": {},
   "outputs": [
    {
     "data": {
      "text/plain": [
       "((5216, 128, 128, 3), (16, 128, 128, 3))"
      ]
     },
     "execution_count": 15,
     "metadata": {},
     "output_type": "execute_result"
    }
   ],
   "source": [
    "images_train_scaled.shape, images_val_scaled.shape"
   ]
  },
  {
   "cell_type": "code",
   "execution_count": 20,
   "id": "f36029c5",
   "metadata": {},
   "outputs": [
    {
     "data": {
      "text/plain": [
       "(5232, 128, 128, 3)"
      ]
     },
     "execution_count": 20,
     "metadata": {},
     "output_type": "execute_result"
    }
   ],
   "source": [
    "np.append(images_train, images_val, axis=0).shape"
   ]
  },
  {
   "cell_type": "code",
   "execution_count": null,
   "id": "8fb8a4b8",
   "metadata": {},
   "outputs": [],
   "source": []
  }
 ],
 "metadata": {
  "kernelspec": {
   "display_name": "Python 3",
   "language": "python",
   "name": "python3"
  },
  "language_info": {
   "codemirror_mode": {
    "name": "ipython",
    "version": 3
   },
   "file_extension": ".py",
   "mimetype": "text/x-python",
   "name": "python",
   "nbconvert_exporter": "python",
   "pygments_lexer": "ipython3",
   "version": "3.8.3"
  }
 },
 "nbformat": 4,
 "nbformat_minor": 5
}
