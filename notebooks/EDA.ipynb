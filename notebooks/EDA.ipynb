{
  "nbformat": 4,
  "nbformat_minor": 5,
  "metadata": {
    "kernelspec": {
      "display_name": "Python 3",
      "language": "python",
      "name": "python3"
    },
    "language_info": {
      "codemirror_mode": {
        "name": "ipython",
        "version": 3
      },
      "file_extension": ".py",
      "mimetype": "text/x-python",
      "name": "python",
      "nbconvert_exporter": "python",
      "pygments_lexer": "ipython3",
      "version": "3.8.3"
    },
    "colab": {
      "name": "EDA.ipynb",
      "provenance": [],
      "include_colab_link": true
    },
    "accelerator": "GPU"
  },
  "cells": [
    {
      "cell_type": "markdown",
      "metadata": {
        "id": "view-in-github",
        "colab_type": "text"
      },
      "source": [
        "<a href=\"https://colab.research.google.com/github/sethschober/Module-4/blob/main/notebooks/EDA.ipynb\" target=\"_parent\"><img src=\"https://colab.research.google.com/assets/colab-badge.svg\" alt=\"Open In Colab\"/></a>"
      ]
    },
    {
      "cell_type": "code",
      "metadata": {
        "id": "hDmfggsRUihg"
      },
      "source": [
        ""
      ],
      "id": "hDmfggsRUihg",
      "execution_count": null,
      "outputs": []
    },
    {
      "cell_type": "markdown",
      "metadata": {
        "id": "732a0b61"
      },
      "source": [
        "### Imports & declarations"
      ],
      "id": "732a0b61"
    },
    {
      "cell_type": "code",
      "metadata": {
        "colab": {
          "base_uri": "https://localhost:8080/"
        },
        "id": "9f066efb",
        "outputId": "ebe1953c-63d9-4ba2-d138-1b8f09a586e3"
      },
      "source": [
        "import numpy as np\n",
        "import pandas as pd\n",
        "import matplotlib.pyplot as plt\n",
        "import time\n",
        "\n",
        "from sklearn.model_selection import train_test_split\n",
        "\n",
        "import keras\n",
        "from keras.preprocessing.image import img_to_array, load_img, array_to_img, ImageDataGenerator\n",
        "from keras import regularizers\n",
        "from keras.callbacks import EarlyStopping, ModelCheckpoint\n",
        "from keras.models import Sequential\n",
        "from keras.layers import Dense, Dropout\n",
        "import tensorflow as tf\n",
        "\n",
        "LOCAL_PATH_MINI = '../data/raw/kaggle_mini_subsample'\n",
        "LOCAL_PATH_TRAIN = '../data/raw/train'\n",
        "COLAB_PATH_TRAIN = '/content/drive/MyDrive/Data Science/Colab Notebooks/Module 4 Project/data/raw/train'\n",
        "COLAB_PATH_MINI = '/content/drive/MyDrive/Data Science/Colab Notebooks/Module 4 Project/data/raw/mini_subsample'\n",
        "\n",
        "RANDOM_STATE = 2020\n",
        "\n",
        "# Comment when running locally, uncomment for Google Colab\n",
        "from google.colab import drive\n",
        "drive.mount('/content/drive')"
      ],
      "id": "9f066efb",
      "execution_count": 1,
      "outputs": [
        {
          "output_type": "stream",
          "text": [
            "Mounted at /content/drive\n"
          ],
          "name": "stdout"
        }
      ]
    },
    {
      "cell_type": "markdown",
      "metadata": {
        "id": "dQYhzmEQz8Uo"
      },
      "source": [
        "### Define basic functions"
      ],
      "id": "dQYhzmEQz8Uo"
    },
    {
      "cell_type": "code",
      "metadata": {
        "id": "e9dbf694"
      },
      "source": [
        "def make_flat(x):\n",
        "    s = x.shape\n",
        "    dim_0 = s[0]\n",
        "    dim_1 = s[1]*s[2]*s[3]\n",
        "    x_flat = x.reshape(dim_0, dim_1)\n",
        "    shape = (x_flat.shape[1],)\n",
        "    return x_flat, shape"
      ],
      "id": "e9dbf694",
      "execution_count": 2,
      "outputs": []
    },
    {
      "cell_type": "code",
      "metadata": {
        "id": "J35vmcCaVwsF"
      },
      "source": [
        "def plot_results(history, metrics=['accuracy'], val=True):\n",
        "    \n",
        "    for metric in metrics:\n",
        "        x = range(len(history[metric]))\n",
        "\n",
        "        plt.figure()\n",
        "        plt.plot(x, history[metric], label='Train')\n",
        "\n",
        "        if val == True:\n",
        "            plt.plot(x, history['val_'+metric], label='Validation')\n",
        "        plt.title(metric)\n",
        "        plt.legend();"
      ],
      "id": "J35vmcCaVwsF",
      "execution_count": 33,
      "outputs": []
    },
    {
      "cell_type": "markdown",
      "metadata": {
        "id": "d1598963"
      },
      "source": [
        "## Mini Dataset\n",
        "\n",
        "#### Import & Clean"
      ],
      "id": "d1598963"
    },
    {
      "cell_type": "code",
      "metadata": {
        "colab": {
          "base_uri": "https://localhost:8080/",
          "height": 212
        },
        "id": "54e67a51",
        "outputId": "869d7258-b7b4-4afd-a4dc-6e9dc230c870"
      },
      "source": [
        "BATCH_SIZE = 250\n",
        "TARGET_SIZE = [128, 128]\n",
        "\n",
        "path = COLAB_PATH_MINI\n",
        "image_generator = ImageDataGenerator().flow_from_directory(path, batch_size=BATCH_SIZE, target_size=TARGET_SIZE);\n",
        "images, labels = next(image_generator)\n",
        "images_scaled = images / 255\n",
        "\n",
        "display('Example image:', array_to_img(images[0]))\n",
        "print('Indices:', image_generator.class_indices)\n",
        "print('Dataset shape:', images_scaled.shape)"
      ],
      "id": "54e67a51",
      "execution_count": 3,
      "outputs": [
        {
          "output_type": "stream",
          "text": [
            "Found 200 images belonging to 2 classes.\n"
          ],
          "name": "stdout"
        },
        {
          "output_type": "display_data",
          "data": {
            "application/vnd.google.colaboratory.intrinsic+json": {
              "type": "string"
            },
            "text/plain": [
              "'Example image:'"
            ]
          },
          "metadata": {
            "tags": []
          }
        },
        {
          "output_type": "display_data",
          "data": {
            "image/png": "[encoded data removed]",
            "text/plain": [
              "<PIL.Image.Image image mode=RGB size=128x128 at 0x7F7E01834A90>"
            ]
          },
          "metadata": {
            "tags": []
          }
        },
        {
          "output_type": "stream",
          "text": [
            "Indices: {'NORMAL': 0, 'PNEUMONIA': 1}\n",
            "Dataset shape: (200, 128, 128, 3)\n"
          ],
          "name": "stdout"
        }
      ]
    },
    {
      "cell_type": "markdown",
      "metadata": {
        "id": "OLEH1pCC02e2"
      },
      "source": [
        "#### Mini Dataset Model"
      ],
      "id": "OLEH1pCC02e2"
    },
    {
      "cell_type": "code",
      "metadata": {
        "colab": {
          "base_uri": "https://localhost:8080/"
        },
        "id": "9d5ef4de",
        "outputId": "b0df5c30-59df-483e-cbc3-62d6b8a9ae6c"
      },
      "source": [
        "x, shape = make_flat(images_scaled)\n",
        "\n",
        "model = Sequential()\n",
        "model.add(Dense(32, activation='relu', input_shape = shape))\n",
        "model.add(Dense(2, activation='softmax'))\n",
        "model.compile(optimizer='SGD', loss='categorical_crossentropy', metrics=['accuracy'])\n",
        "\n",
        "history = model.fit(x=x, y=labels, epochs=50)\n",
        "\n",
        "plot_results(history.history, val=False)\n",
        "\n",
        "model.summary()"
      ],
      "id": "9d5ef4de",
      "execution_count": 4,
      "outputs": [
        {
          "output_type": "stream",
          "text": [
            "Epoch 1/50\n",
            "7/7 [==============================] - 14s 6ms/step - loss: 0.7183 - accuracy: 0.5104\n",
            "Epoch 2/50\n",
            "7/7 [==============================] - 0s 4ms/step - loss: 0.6935 - accuracy: 0.4564\n",
            "Epoch 3/50\n",
            "7/7 [==============================] - 0s 4ms/step - loss: 0.6933 - accuracy: 0.4954\n",
            "Epoch 4/50\n",
            "7/7 [==============================] - 0s 4ms/step - loss: 0.6934 - accuracy: 0.4861\n",
            "Epoch 5/50\n",
            "7/7 [==============================] - 0s 6ms/step - loss: 0.6932 - accuracy: 0.5008\n",
            "Epoch 6/50\n",
            "7/7 [==============================] - 0s 5ms/step - loss: 0.6930 - accuracy: 0.5226\n",
            "Epoch 7/50\n",
            "7/7 [==============================] - 0s 5ms/step - loss: 0.6928 - accuracy: 0.5327\n",
            "Epoch 8/50\n",
            "7/7 [==============================] - 0s 5ms/step - loss: 0.6931 - accuracy: 0.5046\n",
            "Epoch 9/50\n",
            "7/7 [==============================] - 0s 5ms/step - loss: 0.6932 - accuracy: 0.5032\n",
            "Epoch 10/50\n",
            "7/7 [==============================] - 0s 5ms/step - loss: 0.6932 - accuracy: 0.5005\n",
            "Epoch 11/50\n",
            "7/7 [==============================] - 0s 5ms/step - loss: 0.6930 - accuracy: 0.5099\n",
            "Epoch 12/50\n",
            "7/7 [==============================] - 0s 5ms/step - loss: 0.6930 - accuracy: 0.5155\n",
            "Epoch 13/50\n",
            "7/7 [==============================] - 0s 5ms/step - loss: 0.6930 - accuracy: 0.5113\n",
            "Epoch 14/50\n",
            "7/7 [==============================] - 0s 5ms/step - loss: 0.6930 - accuracy: 0.5154\n",
            "Epoch 15/50\n",
            "7/7 [==============================] - 0s 5ms/step - loss: 0.6932 - accuracy: 0.4935\n",
            "Epoch 16/50\n",
            "7/7 [==============================] - 0s 6ms/step - loss: 0.6931 - accuracy: 0.5200\n",
            "Epoch 17/50\n",
            "7/7 [==============================] - 0s 4ms/step - loss: 0.6934 - accuracy: 0.4718\n",
            "Epoch 18/50\n",
            "7/7 [==============================] - 0s 6ms/step - loss: 0.6934 - accuracy: 0.4767\n",
            "Epoch 19/50\n",
            "7/7 [==============================] - 0s 5ms/step - loss: 0.6934 - accuracy: 0.4664\n",
            "Epoch 20/50\n",
            "7/7 [==============================] - 0s 5ms/step - loss: 0.6930 - accuracy: 0.5182\n",
            "Epoch 21/50\n",
            "7/7 [==============================] - 0s 5ms/step - loss: 0.6932 - accuracy: 0.5033\n",
            "Epoch 22/50\n",
            "7/7 [==============================] - 0s 5ms/step - loss: 0.6932 - accuracy: 0.4595\n",
            "Epoch 23/50\n",
            "7/7 [==============================] - 0s 5ms/step - loss: 0.6930 - accuracy: 0.5193\n",
            "Epoch 24/50\n",
            "7/7 [==============================] - 0s 5ms/step - loss: 0.6930 - accuracy: 0.5251\n",
            "Epoch 25/50\n",
            "7/7 [==============================] - 0s 5ms/step - loss: 0.6933 - accuracy: 0.4719\n",
            "Epoch 26/50\n",
            "7/7 [==============================] - 0s 5ms/step - loss: 0.6932 - accuracy: 0.5061\n",
            "Epoch 27/50\n",
            "7/7 [==============================] - 0s 6ms/step - loss: 0.6932 - accuracy: 0.4964\n",
            "Epoch 28/50\n",
            "7/7 [==============================] - 0s 4ms/step - loss: 0.6934 - accuracy: 0.4721\n",
            "Epoch 29/50\n",
            "7/7 [==============================] - 0s 4ms/step - loss: 0.6930 - accuracy: 0.5280\n",
            "Epoch 30/50\n",
            "7/7 [==============================] - 0s 5ms/step - loss: 0.6931 - accuracy: 0.5049\n",
            "Epoch 31/50\n",
            "7/7 [==============================] - 0s 5ms/step - loss: 0.6928 - accuracy: 0.5401\n",
            "Epoch 32/50\n",
            "7/7 [==============================] - 0s 5ms/step - loss: 0.6930 - accuracy: 0.5146\n",
            "Epoch 33/50\n",
            "7/7 [==============================] - 0s 5ms/step - loss: 0.6932 - accuracy: 0.4917\n",
            "Epoch 34/50\n",
            "7/7 [==============================] - 0s 5ms/step - loss: 0.6934 - accuracy: 0.4730\n",
            "Epoch 35/50\n",
            "7/7 [==============================] - 0s 5ms/step - loss: 0.6928 - accuracy: 0.5533\n",
            "Epoch 36/50\n",
            "7/7 [==============================] - 0s 5ms/step - loss: 0.6932 - accuracy: 0.5055\n",
            "Epoch 37/50\n",
            "7/7 [==============================] - 0s 5ms/step - loss: 0.6932 - accuracy: 0.5248\n",
            "Epoch 38/50\n",
            "7/7 [==============================] - 0s 5ms/step - loss: 0.6930 - accuracy: 0.5213\n",
            "Epoch 39/50\n",
            "7/7 [==============================] - 0s 5ms/step - loss: 0.6930 - accuracy: 0.5270\n",
            "Epoch 40/50\n",
            "7/7 [==============================] - 0s 5ms/step - loss: 0.6933 - accuracy: 0.4837\n",
            "Epoch 41/50\n",
            "7/7 [==============================] - 0s 5ms/step - loss: 0.6934 - accuracy: 0.4246\n",
            "Epoch 42/50\n",
            "7/7 [==============================] - 0s 5ms/step - loss: 0.6932 - accuracy: 0.5034\n",
            "Epoch 43/50\n",
            "7/7 [==============================] - 0s 5ms/step - loss: 0.6932 - accuracy: 0.5182\n",
            "Epoch 44/50\n",
            "7/7 [==============================] - 0s 5ms/step - loss: 0.6931 - accuracy: 0.5123\n",
            "Epoch 45/50\n",
            "7/7 [==============================] - 0s 5ms/step - loss: 0.6934 - accuracy: 0.4551\n",
            "Epoch 46/50\n",
            "7/7 [==============================] - 0s 5ms/step - loss: 0.6932 - accuracy: 0.4958\n",
            "Epoch 47/50\n",
            "7/7 [==============================] - 0s 5ms/step - loss: 0.6927 - accuracy: 0.5426\n",
            "Epoch 48/50\n",
            "7/7 [==============================] - 0s 5ms/step - loss: 0.6932 - accuracy: 0.5022\n",
            "Epoch 49/50\n",
            "7/7 [==============================] - 0s 5ms/step - loss: 0.6932 - accuracy: 0.4897\n",
            "Epoch 50/50\n",
            "7/7 [==============================] - 0s 5ms/step - loss: 0.6932 - accuracy: 0.4480\n",
            "Model: \"sequential\"\n",
            "_________________________________________________________________\n",
            "Layer (type)                 Output Shape              Param #   \n",
            "=================================================================\n",
            "dense (Dense)                (None, 8)                 393224    \n",
            "_________________________________________________________________\n",
            "dense_1 (Dense)              (None, 2)                 18        \n",
            "=================================================================\n",
            "Total params: 393,242\n",
            "Trainable params: 393,242\n",
            "Non-trainable params: 0\n",
            "_________________________________________________________________\n"
          ],
          "name": "stdout"
        }
      ]
    },
    {
      "cell_type": "markdown",
      "metadata": {
        "id": "ksQpJcDYIrRp"
      },
      "source": [
        "## Full Dataset"
      ],
      "id": "ksQpJcDYIrRp"
    },
    {
      "cell_type": "markdown",
      "metadata": {
        "id": "wc6GVPzO1VfN"
      },
      "source": [
        "### Import and clean"
      ],
      "id": "wc6GVPzO1VfN"
    },
    {
      "cell_type": "code",
      "metadata": {
        "colab": {
          "base_uri": "https://localhost:8080/"
        },
        "id": "d4CEkFwmA7Wx",
        "outputId": "85ba9095-d693-4256-fd14-3f182f173801"
      },
      "source": [
        "path = COLAB_PATH_TRAIN\n",
        "BATCH_SIZE = 32\n",
        "data_tf = tf.keras.preprocessing.image_dataset_from_directory(path, \n",
        "                                                image_size=(256, 256), # WORKS UP TO 256\n",
        "                                                batch_size=BATCH_SIZE,\n",
        "                                                seed=RANDOM_STATE)\n",
        "\n",
        "for i, item in enumerate(data_tf.as_numpy_iterator()):\n",
        "    if i == 0:\n",
        "        images = np.array(item[0])\n",
        "        labels = np.array(item[1])\n",
        "    else:\n",
        "        images = np.concatenate([images, item[0]], axis=0)\n",
        "        labels = np.concatenate([labels, item[1]], axis=0)\n",
        "        if i % 10 == 0:\n",
        "            print(int(i/(5232/BATCH_SIZE)*100), '%')\n",
        "\n",
        "images /= 256\n",
        "\n",
        "labels_inverted = np.array([0 if i == 1 else 1 for i in labels])\n",
        "labels = np.concatenate([labels_inverted.reshape(-1,1), labels.reshape(-1,1)], axis=1)\n",
        "\n",
        "data_tf = None # clear RAM\n",
        "print('Data shape:', images.shape)\n",
        "print('Label shape:', labels.shape)"
      ],
      "id": "d4CEkFwmA7Wx",
      "execution_count": 6,
      "outputs": [
        {
          "output_type": "stream",
          "text": [
            "Found 5232 files belonging to 2 classes.\n",
            "6 %\n",
            "12 %\n",
            "18 %\n",
            "24 %\n",
            "30 %\n",
            "36 %\n",
            "42 %\n",
            "48 %\n",
            "55 %\n",
            "61 %\n",
            "67 %\n",
            "73 %\n",
            "79 %\n",
            "85 %\n",
            "91 %\n",
            "97 %\n",
            "Data shape: (5232, 256, 256, 3)\n",
            "Label shape: (5232, 2)\n"
          ],
          "name": "stdout"
        }
      ]
    },
    {
      "cell_type": "code",
      "metadata": {
        "id": "6d0cbcad"
      },
      "source": [
        "# BATCH_SIZE_TRAIN = 1341+3875\n",
        "# TARGET_SIZE = [256, 256]\n",
        "\n",
        "# path = COLAB_PATH_TRAIN\n",
        "\n",
        "# t0 = time.time()\n",
        "# generator = ImageDataGenerator().flow_from_directory(path,\n",
        "#                                                      #batch_size=BATCH_SIZE_TRAIN,\n",
        "#                                                      target_size=TARGET_SIZE)\n",
        "\n",
        "# images, labels = next(generator)\n",
        "# images = images / 256\n",
        "# t1 = time.time()\n",
        "\n",
        "# print('Runtime:', t1-t0)\n",
        "# print(images.shape, labels.shape)"
      ],
      "id": "6d0cbcad",
      "execution_count": 7,
      "outputs": []
    },
    {
      "cell_type": "markdown",
      "metadata": {
        "id": "xl_a04woKVND"
      },
      "source": [
        "### Baseline Model"
      ],
      "id": "xl_a04woKVND"
    },
    {
      "cell_type": "code",
      "metadata": {
        "colab": {
          "base_uri": "https://localhost:8080/",
          "height": 761
        },
        "id": "0SEPvkgXKUCC",
        "outputId": "c43c1c44-040d-46cc-e2d6-854a4a432d5f"
      },
      "source": [
        "EPOCHS = 25\n",
        "x, shape = make_flat(images)\n",
        "\n",
        "model = Sequential()\n",
        "model.add(Dense(10, activation='relu', input_shape = shape))\n",
        "model.add(Dense(2, activation='softmax'))\n",
        "model.compile(optimizer='SGD', metrics=['accuracy', 'mse'], loss='categorical_crossentropy')\n",
        "\n",
        "\n",
        "history = model.fit(x=x, y=labels, \n",
        "                    epochs=EPOCHS, \n",
        "                    verbose=0,\n",
        "                    validation_split=0.25)\n",
        "\n",
        "display(model.summary())\n",
        "\n",
        "\n",
        "plot_results(history.history, ['accuracy', 'mse'])\n",
        "\n",
        "# plt.plot(range(EPOCHS), history.history['mse'], label='Train')\n",
        "# plt.plot(range(EPOCHS), history.history['val_mse'], label='Validation')\n",
        "# plt.title('MSE')\n",
        "# plt.legend();\n",
        "\n",
        "# plt.figure()\n",
        "# plt.plot(range(EPOCHS), history.history['accuracy'], label='Train')\n",
        "# plt.plot(range(EPOCHS), history.history['val_accuracy'], label='Validation')\n",
        "# plt.title('Accuracy')\n",
        "# plt.legend();"
      ],
      "id": "0SEPvkgXKUCC",
      "execution_count": 23,
      "outputs": [
        {
          "output_type": "stream",
          "text": [
            "Model: \"sequential_6\"\n",
            "_________________________________________________________________\n",
            "Layer (type)                 Output Shape              Param #   \n",
            "=================================================================\n",
            "dense_12 (Dense)             (None, 10)                1966090   \n",
            "_________________________________________________________________\n",
            "dense_13 (Dense)             (None, 2)                 22        \n",
            "=================================================================\n",
            "Total params: 1,966,112\n",
            "Trainable params: 1,966,112\n",
            "Non-trainable params: 0\n",
            "_________________________________________________________________\n"
          ],
          "name": "stdout"
        },
        {
          "output_type": "display_data",
          "data": {
            "text/plain": [
              "None"
            ]
          },
          "metadata": {
            "tags": []
          }
        },
        {
          "output_type": "display_data",
          "data": {
            "image/png": "[encoded data removed]",
            "text/plain": [
              "<Figure size 432x288 with 1 Axes>"
            ]
          },
          "metadata": {
            "tags": [],
            "needs_background": "light"
          }
        },
        {
          "output_type": "display_data",
          "data": {
            "image/png": "[encoded data removed]",
            "text/plain": [
              "<Figure size 432x288 with 1 Axes>"
            ]
          },
          "metadata": {
            "tags": [],
            "needs_background": "light"
          }
        }
      ]
    },
    {
      "cell_type": "markdown",
      "metadata": {
        "id": "36c570f5"
      },
      "source": [
        "### Define Early Stopping"
      ],
      "id": "36c570f5"
    },
    {
      "cell_type": "code",
      "metadata": {
        "collapsed": true,
        "jupyter": {
          "outputs_hidden": true
        },
        "tags": [],
        "id": "030b57f2"
      },
      "source": [
        "early_stopping = [EarlyStopping(monitor='val_loss', patience=10),\n",
        "                 ModelCheckpoint('best_model.h5', monitor='val_loss', save_best_only=True)]"
      ],
      "id": "030b57f2",
      "execution_count": 24,
      "outputs": []
    },
    {
      "cell_type": "markdown",
      "metadata": {
        "id": "dadc79d8"
      },
      "source": [
        "### Entire train dataset, validation split"
      ],
      "id": "dadc79d8"
    },
    {
      "cell_type": "markdown",
      "metadata": {
        "id": "mMfhAbJJ2UmU"
      },
      "source": [
        "##### Create and fit model"
      ],
      "id": "mMfhAbJJ2UmU"
    },
    {
      "cell_type": "code",
      "metadata": {
        "colab": {
          "base_uri": "https://localhost:8080/",
          "height": 836
        },
        "id": "8e414b50",
        "outputId": "635d0407-91ce-4e39-a22e-5bc661864818"
      },
      "source": [
        "EPOCHS = 200\n",
        "x, shape = make_flat(images)\n",
        "\n",
        "model = Sequential()\n",
        "model.add(Dense(32, activation='relu', input_shape = shape))\n",
        "model.add(Dense(2, activation='softmax'))\n",
        "model.compile(optimizer='SGD', loss='categorical_crossentropy', metrics=['accuracy', 'mse'])\n",
        "\n",
        "\n",
        "history = model.fit(x=x, y=labels, \n",
        "                    callbacks = early_stopping,\n",
        "                    epochs=EPOCHS, \n",
        "                    validation_split=0.25, \n",
        "                    verbose=0)\n",
        "\n",
        "best_model = keras.models.load_model('best_model.h5')\n",
        "display(best_model.summary())\n",
        "\n",
        "plot_results(history.history, ['accuracy', 'mse'])\n",
        "\n",
        "# plt.plot(range(EPOCHS), history.history['mse'], label='Train')\n",
        "# plt.plot(range(EPOCHS), history.history['val_mse'], label='Validation')\n",
        "# plt.title('MSE')\n",
        "# plt.legend();\n",
        "\n",
        "# plt.figure()\n",
        "# plt.plot(range(EPOCHS), history.history['accuracy'], label='Train')\n",
        "# plt.plot(range(EPOCHS), history.history['val_accuracy'], label='Validation')\n",
        "# plt.title('Accuracy')\n",
        "# plt.legend();"
      ],
      "id": "8e414b50",
      "execution_count": 27,
      "outputs": [
        {
          "output_type": "stream",
          "text": [
            "Model: \"sequential_9\"\n",
            "_________________________________________________________________\n",
            "Layer (type)                 Output Shape              Param #   \n",
            "=================================================================\n",
            "dense_18 (Dense)             (None, 32)                6291488   \n",
            "_________________________________________________________________\n",
            "dense_19 (Dense)             (None, 2)                 66        \n",
            "=================================================================\n",
            "Total params: 6,291,554\n",
            "Trainable params: 6,291,554\n",
            "Non-trainable params: 0\n",
            "_________________________________________________________________\n"
          ],
          "name": "stdout"
        },
        {
          "output_type": "display_data",
          "data": {
            "text/plain": [
              "None"
            ]
          },
          "metadata": {
            "tags": []
          }
        },
        {
          "output_type": "error",
          "ename": "ValueError",
          "evalue": "ignored",
          "traceback": [
            "\u001b[0;31m---------------------------------------------------------------------------\u001b[0m",
            "\u001b[0;31mValueError\u001b[0m                                Traceback (most recent call last)",
            "\u001b[0;32m<ipython-input-27-b621669aeab4>\u001b[0m in \u001b[0;36m<module>\u001b[0;34m()\u001b[0m\n\u001b[1;32m     17\u001b[0m \u001b[0mdisplay\u001b[0m\u001b[0;34m(\u001b[0m\u001b[0mbest_model\u001b[0m\u001b[0;34m.\u001b[0m\u001b[0msummary\u001b[0m\u001b[0;34m(\u001b[0m\u001b[0;34m)\u001b[0m\u001b[0;34m)\u001b[0m\u001b[0;34m\u001b[0m\u001b[0;34m\u001b[0m\u001b[0m\n\u001b[1;32m     18\u001b[0m \u001b[0;34m\u001b[0m\u001b[0m\n\u001b[0;32m---> 19\u001b[0;31m \u001b[0mplt\u001b[0m\u001b[0;34m.\u001b[0m\u001b[0mplot\u001b[0m\u001b[0;34m(\u001b[0m\u001b[0mrange\u001b[0m\u001b[0;34m(\u001b[0m\u001b[0mEPOCHS\u001b[0m\u001b[0;34m)\u001b[0m\u001b[0;34m,\u001b[0m \u001b[0mhistory\u001b[0m\u001b[0;34m.\u001b[0m\u001b[0mhistory\u001b[0m\u001b[0;34m[\u001b[0m\u001b[0;34m'mse'\u001b[0m\u001b[0;34m]\u001b[0m\u001b[0;34m,\u001b[0m \u001b[0mlabel\u001b[0m\u001b[0;34m=\u001b[0m\u001b[0;34m'Train'\u001b[0m\u001b[0;34m)\u001b[0m\u001b[0;34m\u001b[0m\u001b[0;34m\u001b[0m\u001b[0m\n\u001b[0m\u001b[1;32m     20\u001b[0m \u001b[0mplt\u001b[0m\u001b[0;34m.\u001b[0m\u001b[0mplot\u001b[0m\u001b[0;34m(\u001b[0m\u001b[0mrange\u001b[0m\u001b[0;34m(\u001b[0m\u001b[0mEPOCHS\u001b[0m\u001b[0;34m)\u001b[0m\u001b[0;34m,\u001b[0m \u001b[0mhistory\u001b[0m\u001b[0;34m.\u001b[0m\u001b[0mhistory\u001b[0m\u001b[0;34m[\u001b[0m\u001b[0;34m'val_mse'\u001b[0m\u001b[0;34m]\u001b[0m\u001b[0;34m,\u001b[0m \u001b[0mlabel\u001b[0m\u001b[0;34m=\u001b[0m\u001b[0;34m'Validation'\u001b[0m\u001b[0;34m)\u001b[0m\u001b[0;34m\u001b[0m\u001b[0;34m\u001b[0m\u001b[0m\n\u001b[1;32m     21\u001b[0m \u001b[0mplt\u001b[0m\u001b[0;34m.\u001b[0m\u001b[0mtitle\u001b[0m\u001b[0;34m(\u001b[0m\u001b[0;34m'MSE'\u001b[0m\u001b[0;34m)\u001b[0m\u001b[0;34m\u001b[0m\u001b[0;34m\u001b[0m\u001b[0m\n",
            "\u001b[0;32m/usr/local/lib/python3.7/dist-packages/matplotlib/pyplot.py\u001b[0m in \u001b[0;36mplot\u001b[0;34m(scalex, scaley, data, *args, **kwargs)\u001b[0m\n\u001b[1;32m   2761\u001b[0m     return gca().plot(\n\u001b[1;32m   2762\u001b[0m         *args, scalex=scalex, scaley=scaley, **({\"data\": data} if data\n\u001b[0;32m-> 2763\u001b[0;31m         is not None else {}), **kwargs)\n\u001b[0m\u001b[1;32m   2764\u001b[0m \u001b[0;34m\u001b[0m\u001b[0m\n\u001b[1;32m   2765\u001b[0m \u001b[0;34m\u001b[0m\u001b[0m\n",
            "\u001b[0;32m/usr/local/lib/python3.7/dist-packages/matplotlib/axes/_axes.py\u001b[0m in \u001b[0;36mplot\u001b[0;34m(self, scalex, scaley, data, *args, **kwargs)\u001b[0m\n\u001b[1;32m   1645\u001b[0m         \"\"\"\n\u001b[1;32m   1646\u001b[0m         \u001b[0mkwargs\u001b[0m \u001b[0;34m=\u001b[0m \u001b[0mcbook\u001b[0m\u001b[0;34m.\u001b[0m\u001b[0mnormalize_kwargs\u001b[0m\u001b[0;34m(\u001b[0m\u001b[0mkwargs\u001b[0m\u001b[0;34m,\u001b[0m \u001b[0mmlines\u001b[0m\u001b[0;34m.\u001b[0m\u001b[0mLine2D\u001b[0m\u001b[0;34m)\u001b[0m\u001b[0;34m\u001b[0m\u001b[0;34m\u001b[0m\u001b[0m\n\u001b[0;32m-> 1647\u001b[0;31m         \u001b[0mlines\u001b[0m \u001b[0;34m=\u001b[0m \u001b[0;34m[\u001b[0m\u001b[0;34m*\u001b[0m\u001b[0mself\u001b[0m\u001b[0;34m.\u001b[0m\u001b[0m_get_lines\u001b[0m\u001b[0;34m(\u001b[0m\u001b[0;34m*\u001b[0m\u001b[0margs\u001b[0m\u001b[0;34m,\u001b[0m \u001b[0mdata\u001b[0m\u001b[0;34m=\u001b[0m\u001b[0mdata\u001b[0m\u001b[0;34m,\u001b[0m \u001b[0;34m**\u001b[0m\u001b[0mkwargs\u001b[0m\u001b[0;34m)\u001b[0m\u001b[0;34m]\u001b[0m\u001b[0;34m\u001b[0m\u001b[0;34m\u001b[0m\u001b[0m\n\u001b[0m\u001b[1;32m   1648\u001b[0m         \u001b[0;32mfor\u001b[0m \u001b[0mline\u001b[0m \u001b[0;32min\u001b[0m \u001b[0mlines\u001b[0m\u001b[0;34m:\u001b[0m\u001b[0;34m\u001b[0m\u001b[0;34m\u001b[0m\u001b[0m\n\u001b[1;32m   1649\u001b[0m             \u001b[0mself\u001b[0m\u001b[0;34m.\u001b[0m\u001b[0madd_line\u001b[0m\u001b[0;34m(\u001b[0m\u001b[0mline\u001b[0m\u001b[0;34m)\u001b[0m\u001b[0;34m\u001b[0m\u001b[0;34m\u001b[0m\u001b[0m\n",
            "\u001b[0;32m/usr/local/lib/python3.7/dist-packages/matplotlib/axes/_base.py\u001b[0m in \u001b[0;36m__call__\u001b[0;34m(self, *args, **kwargs)\u001b[0m\n\u001b[1;32m    214\u001b[0m                 \u001b[0mthis\u001b[0m \u001b[0;34m+=\u001b[0m \u001b[0margs\u001b[0m\u001b[0;34m[\u001b[0m\u001b[0;36m0\u001b[0m\u001b[0;34m]\u001b[0m\u001b[0;34m,\u001b[0m\u001b[0;34m\u001b[0m\u001b[0;34m\u001b[0m\u001b[0m\n\u001b[1;32m    215\u001b[0m                 \u001b[0margs\u001b[0m \u001b[0;34m=\u001b[0m \u001b[0margs\u001b[0m\u001b[0;34m[\u001b[0m\u001b[0;36m1\u001b[0m\u001b[0;34m:\u001b[0m\u001b[0;34m]\u001b[0m\u001b[0;34m\u001b[0m\u001b[0;34m\u001b[0m\u001b[0m\n\u001b[0;32m--> 216\u001b[0;31m             \u001b[0;32myield\u001b[0m \u001b[0;32mfrom\u001b[0m \u001b[0mself\u001b[0m\u001b[0;34m.\u001b[0m\u001b[0m_plot_args\u001b[0m\u001b[0;34m(\u001b[0m\u001b[0mthis\u001b[0m\u001b[0;34m,\u001b[0m \u001b[0mkwargs\u001b[0m\u001b[0;34m)\u001b[0m\u001b[0;34m\u001b[0m\u001b[0;34m\u001b[0m\u001b[0m\n\u001b[0m\u001b[1;32m    217\u001b[0m \u001b[0;34m\u001b[0m\u001b[0m\n\u001b[1;32m    218\u001b[0m     \u001b[0;32mdef\u001b[0m \u001b[0mget_next_color\u001b[0m\u001b[0;34m(\u001b[0m\u001b[0mself\u001b[0m\u001b[0;34m)\u001b[0m\u001b[0;34m:\u001b[0m\u001b[0;34m\u001b[0m\u001b[0;34m\u001b[0m\u001b[0m\n",
            "\u001b[0;32m/usr/local/lib/python3.7/dist-packages/matplotlib/axes/_base.py\u001b[0m in \u001b[0;36m_plot_args\u001b[0;34m(self, tup, kwargs)\u001b[0m\n\u001b[1;32m    340\u001b[0m \u001b[0;34m\u001b[0m\u001b[0m\n\u001b[1;32m    341\u001b[0m         \u001b[0;32mif\u001b[0m \u001b[0mx\u001b[0m\u001b[0;34m.\u001b[0m\u001b[0mshape\u001b[0m\u001b[0;34m[\u001b[0m\u001b[0;36m0\u001b[0m\u001b[0;34m]\u001b[0m \u001b[0;34m!=\u001b[0m \u001b[0my\u001b[0m\u001b[0;34m.\u001b[0m\u001b[0mshape\u001b[0m\u001b[0;34m[\u001b[0m\u001b[0;36m0\u001b[0m\u001b[0;34m]\u001b[0m\u001b[0;34m:\u001b[0m\u001b[0;34m\u001b[0m\u001b[0;34m\u001b[0m\u001b[0m\n\u001b[0;32m--> 342\u001b[0;31m             raise ValueError(f\"x and y must have same first dimension, but \"\n\u001b[0m\u001b[1;32m    343\u001b[0m                              f\"have shapes {x.shape} and {y.shape}\")\n\u001b[1;32m    344\u001b[0m         \u001b[0;32mif\u001b[0m \u001b[0mx\u001b[0m\u001b[0;34m.\u001b[0m\u001b[0mndim\u001b[0m \u001b[0;34m>\u001b[0m \u001b[0;36m2\u001b[0m \u001b[0;32mor\u001b[0m \u001b[0my\u001b[0m\u001b[0;34m.\u001b[0m\u001b[0mndim\u001b[0m \u001b[0;34m>\u001b[0m \u001b[0;36m2\u001b[0m\u001b[0;34m:\u001b[0m\u001b[0;34m\u001b[0m\u001b[0;34m\u001b[0m\u001b[0m\n",
            "\u001b[0;31mValueError\u001b[0m: x and y must have same first dimension, but have shapes (200,) and (24,)"
          ]
        },
        {
          "output_type": "display_data",
          "data": {
            "image/png": "[encoded data removed]",
            "text/plain": [
              "<Figure size 432x288 with 1 Axes>"
            ]
          },
          "metadata": {
            "tags": [],
            "needs_background": "light"
          }
        }
      ]
    },
    {
      "cell_type": "markdown",
      "metadata": {
        "id": "0000c704"
      },
      "source": [
        "### Create balanced dataset"
      ],
      "id": "0000c704"
    },
    {
      "cell_type": "code",
      "metadata": {
        "id": "40b9bd14"
      },
      "source": [
        "x_train, x_val, y_train, y_val = train_test_split(images, labels, \n",
        "                                                  random_state=RANDOM_STATE, \n",
        "                                                  test_size = 0.25)\n",
        "images = None # clear memory"
      ],
      "id": "40b9bd14",
      "execution_count": null,
      "outputs": []
    },
    {
      "cell_type": "code",
      "metadata": {
        "id": "UG5vcXD-WWoJ"
      },
      "source": [
        "x_train.shape"
      ],
      "id": "UG5vcXD-WWoJ",
      "execution_count": null,
      "outputs": []
    },
    {
      "cell_type": "code",
      "metadata": {
        "id": "7061134b"
      },
      "source": [
        "# Oversample the minority class: \n",
        "# https://www.tensorflow.org/tutorials/structured_data/imbalanced_data#oversample_the_minority_class\n",
        "np.random.seed(RANDOM_STATE)\n",
        "\n",
        "\n",
        "ind_neg = y_train[:, 0]==1\n",
        "ind_pos = y_train[:, 0]==0\n",
        "\n",
        "neg_ct = ind_neg.sum()\n",
        "pos_ct = ind_pos.sum()\n",
        "print('NORMAL count:', neg_ct, ', PNEUMONIA count:', pos_ct)\n",
        "\n",
        "ids = np.arange(neg_ct)\n",
        "\n",
        "# Select random entries from the list of inputs\n",
        "ind_add_ons = np.random.choice(ids, size=pos_ct-neg_ct)\n",
        "add_ons_x = x_train[ind_neg][ind_add_ons]\n",
        "add_ons_y = y_train[ind_neg][ind_add_ons]\n",
        "\n",
        "x_train_balanced = np.concatenate([x_train, add_ons_x], axis=0)\n",
        "y_train_balanced = np.concatenate([y_train, add_ons_y], axis=0)\n",
        "print('Training sizes after resampling:', x_train_balanced.shape, y_train_balanced.shape)\n",
        "print('NORMAL count, PNEUMONIA count:', y_train_balanced.sum(axis=0))\n",
        "\n",
        "# clear memory\n",
        "x_train = None\n",
        "y_train = None"
      ],
      "id": "7061134b",
      "execution_count": null,
      "outputs": []
    },
    {
      "cell_type": "markdown",
      "metadata": {
        "id": "wevtiXRS3I-r"
      },
      "source": [
        "### Create model with resampled dataset"
      ],
      "id": "wevtiXRS3I-r"
    },
    {
      "cell_type": "code",
      "metadata": {
        "id": "d0996c88"
      },
      "source": [
        "x_train_flat, shape = make_flat(x_train_balanced)\n",
        "x_val_flat, _ = make_flat(x_val)\n",
        "\n",
        "model = Sequential()\n",
        "model.add(Dense(8, activation='relu', input_shape = shape))\n",
        "model.add(Dense(2, activation='softmax'))\n",
        "model.compile(optimizer='SGD', loss='categorical_crossentropy', metrics=['accuracy', 'mse'])"
      ],
      "id": "d0996c88",
      "execution_count": null,
      "outputs": []
    },
    {
      "cell_type": "code",
      "metadata": {
        "collapsed": true,
        "jupyter": {
          "outputs_hidden": true
        },
        "tags": [],
        "id": "e9ae95b3"
      },
      "source": [
        "history = model.fit(x=x_train_flat, y=y_train_balanced, \n",
        "                    epochs=50, \n",
        "                    validation_data=(x_val_flat, y_val))\n",
        "\n",
        "plot_results(history.history, ['accuracy', 'mse'])\n",
        "\n",
        "model.summary()"
      ],
      "id": "e9ae95b3",
      "execution_count": null,
      "outputs": []
    },
    {
      "cell_type": "markdown",
      "metadata": {
        "id": "37082f39"
      },
      "source": [
        "### Add Regularization"
      ],
      "id": "37082f39"
    },
    {
      "cell_type": "code",
      "metadata": {
        "id": "64f002c7"
      },
      "source": [
        "LAMBDA = 0.005\n",
        "\n",
        "model = Sequential()\n",
        "model.add(Dense(256, activation='relu', input_shape = shape, kernel_regularizer=regularizers.l2(LAMBDA)))\n",
        "model.add(Dense(64, activation='relu', kernel_regularizer=regularizers.l2(LAMBDA)))\n",
        "model.add(Dense(16, activation='relu', kernel_regularizer=regularizers.l2(LAMBDA)))\n",
        "model.add(Dense(2, activation='softmax'))\n",
        "model.compile(optimizer='SGD', metrics=['accuracy', 'mse'], loss='categorical_crossentropy')\n",
        "\n",
        "history = model.fit(x=x_train_flat, y=y_train_balanced, \n",
        "                    callbacks=early_stopping, \n",
        "                    epochs=250, \n",
        "                    validation_data=(x_val_flat, y_val))\n",
        "\n",
        "plot_results(history.history, ['accuracy', 'mse'])\n",
        "\n",
        "best_model = keras.models.load_model('best_model.h5')\n",
        "best_model.summary()"
      ],
      "id": "64f002c7",
      "execution_count": null,
      "outputs": []
    },
    {
      "cell_type": "markdown",
      "metadata": {
        "id": "145a6e21"
      },
      "source": [
        "### Add Dropout"
      ],
      "id": "145a6e21"
    },
    {
      "cell_type": "code",
      "metadata": {
        "id": "96008667"
      },
      "source": [
        "x_train_flat, shape = make_flat(x_train_balanced)\n",
        "x_val_flat, _ = make_flat(x_val)\n",
        "early_stopping = [EarlyStopping(monitor='val_loss', patience=10),\n",
        "                 ModelCheckpoint('best_model.h5', monitor='val_loss', save_best_only=True)]\n",
        "\n",
        "LAMBDA = 0.005\n",
        "DROPOUT = 0.3\n",
        "\n",
        "t0 = time.time()\n",
        "\n",
        "\n",
        "model = Sequential()\n",
        "model.add(Dense(256, activation='relu', input_shape = shape, kernel_regularizer=regularizers.l2(LAMBDA)))\n",
        "model.add(Dropout(DROPOUT))\n",
        "\n",
        "model.add(Dense(64, activation='relu', kernel_regularizer=regularizers.l2(LAMBDA)))\n",
        "model.add(Dropout(DROPOUT))\n",
        "\n",
        "model.add(Dense(16, activation='relu', kernel_regularizer=regularizers.l2(LAMBDA)))\n",
        "model.add(Dropout(DROPOUT))\n",
        "\n",
        "model.add(Dense(2, activation='softmax'))\n",
        "\n",
        "model.compile(optimizer='SGD', metrics=['accuracy', 'mse'], loss='categorical_crossentropy')\n",
        "\n",
        "history = model.fit(x=x_train_flat, y=y_train_balanced, \n",
        "                    callbacks=early_stopping, \n",
        "                    epochs=250, \n",
        "                    validation_data=(x_val_flat, y_val), verbose=2)\n",
        "\n",
        "plot_results(history.history, ['accuracy', 'mse'])\n",
        "\n",
        "best_model = keras.models.load_model('best_model.h5')\n",
        "best_model.summary()\n",
        "\n",
        "print('Full runtime:', time.time() - t0)"
      ],
      "id": "96008667",
      "execution_count": null,
      "outputs": []
    },
    {
      "cell_type": "markdown",
      "metadata": {
        "id": "kvJy1MllwM0N"
      },
      "source": [
        "### Remove the layer of 256 notes from previous model"
      ],
      "id": "kvJy1MllwM0N"
    },
    {
      "cell_type": "code",
      "metadata": {
        "id": "b3c28165"
      },
      "source": [
        "x_train_flat, shape = make_flat(x_train_balanced)\n",
        "x_val_flat, _ = make_flat(x_val)\n",
        "early_stopping = [EarlyStopping(monitor='val_loss', patience=10),\n",
        "                 ModelCheckpoint('best_model.h5', monitor='val_loss', save_best_only=True)]\n",
        "\n",
        "LAMBDA = 0.005\n",
        "DROPOUT = 0.3\n",
        "\n",
        "t0 = time.time()\n",
        "\n",
        "model.add(Dense(64, activation='relu', kernel_regularizer=regularizers.l2(LAMBDA)))\n",
        "model.add(Dropout(DROPOUT))\n",
        "\n",
        "model.add(Dense(16, activation='relu', kernel_regularizer=regularizers.l2(LAMBDA)))\n",
        "model.add(Dropout(DROPOUT))\n",
        "\n",
        "model.add(Dense(2, activation='softmax'))\n",
        "\n",
        "model.compile(optimizer='SGD', metrics=['accuracy', 'mse'], loss='categorical_crossentropy')\n",
        "\n",
        "history = model.fit(x=x_train_flat, y=y_train_balanced, \n",
        "                    callbacks=early_stopping, \n",
        "                    epochs=250, \n",
        "                    validation_data=(x_val_flat, y_val), verbose=2)\n",
        "\n",
        "plot_results(history.history, ['accuracy', 'mse'])\n",
        "\n",
        "best_model = keras.models.load_model('best_model.h5')\n",
        "best_model.summary()\n",
        "\n",
        "print('Full runtime:', time.time() - t0)"
      ],
      "id": "b3c28165",
      "execution_count": null,
      "outputs": []
    }
  ]
}